{
 "cells": [
  {
   "cell_type": "markdown",
   "metadata": {},
   "source": [
    "# Capstone Project  - Ecommerce    \n",
    "## Prepared and Submitted By: Saroj Kumar Bisi\n",
    "\n",
    "**DESCRIPTION**\n",
    "\n",
    "**Problem Statement**\n",
    "\n",
    " * Amazon is an online shopping website that now caters to millions of people everywhere. Over 34,000 consumer reviews for Amazon brand products like Kindle, Fire TV Stick and more are provided.\n",
    " \n",
    " * The dataset has attributes like brand, categories, primary categories, reviews.title, reviews.text, and the sentiment. Sentiment is a categorical variable with three levels \"Positive\", \"Negative“, and \"Neutral\". For a given unseen data, the sentiment needs to be predicted. \n",
    " \n",
    " * You are required to predict Sentiment or Satisfaction of a purchase based on multiple features and review text.\n",
    "\n",
    "**Data Snapshot**\n",
    "\n",
    " "
   ]
  },
  {
   "cell_type": "code",
   "execution_count": 103,
   "metadata": {},
   "outputs": [],
   "source": [
    "import numpy as np\n",
    "import pandas as pd\n",
    "import matplotlib.pyplot as plt\n",
    "import seaborn as sns\n",
    "%matplotlib inline\n",
    "\n",
    "from sklearn.feature_extraction.text import TfidfVectorizer\n",
    "from sklearn.naive_bayes import MultinomialNB\n",
    "from sklearn.metrics import confusion_matrix,classification_report,roc_auc_score,roc_curve,f1_score,accuracy_score\n",
    "from sklearn.metrics import accuracy_score,precision_score,recall_score\n",
    "\n",
    "from sklearn.preprocessing import label_binarize\n",
    "from sklearn.multiclass import OneVsRestClassifier\n",
    "\n",
    "from sklearn.ensemble import RandomForestClassifier\n",
    "from xgboost import XGBClassifier,XGBRFClassifier\n",
    "\n",
    "import tensorflow as tf\n",
    "\n",
    "import nltk\n",
    "import gensim\n",
    "\n",
    "import warnings\n",
    "warnings.filterwarnings('ignore')"
   ]
  },
  {
   "cell_type": "markdown",
   "metadata": {},
   "source": [
    "## Project Task: Week 1\n",
    "\n",
    "**Class Imbalance Problem:**\n",
    "\n",
    "1. Perform an EDA on the dataset\n",
    "         \n",
    "    a. See what a positive, negative, and neutral review looks like.\n",
    "    \n",
    "    b. Check the class count for each class. It’s a class imbalance problem.\n",
    "    \n",
    "2. Convert the reviews into Tf-Idf Document Term Matrix \n",
    "\n",
    "3. Run multinomial Naive Bayes classifier. Everything will be classified as positive because of the class imbalance.\n",
    "\n",
    "\n",
    "### Code :"
   ]
  },
  {
   "cell_type": "code",
   "execution_count": 104,
   "metadata": {},
   "outputs": [],
   "source": [
    "#Load  Data\n",
    "train=pd.read_csv('train_data.csv')\n",
    "test_hidden=pd.read_csv('test_data_hidden.csv')\n",
    "test=pd.read_csv('test_data.csv')"
   ]
  },
  {
   "cell_type": "code",
   "execution_count": 105,
   "metadata": {},
   "outputs": [
    {
     "name": "stdout",
     "output_type": "stream",
     "text": [
      "the shape of train data:  (4000, 8)\n",
      "the shape of test data:  (1000, 7)\n",
      "the shape of test_hidden data:  (1000, 8)\n"
     ]
    }
   ],
   "source": [
    "print('the shape of train data: ', train.shape)\n",
    "print('the shape of test data: ', test.shape)\n",
    "print('the shape of test_hidden data: ', test_hidden.shape)"
   ]
  },
  {
   "cell_type": "code",
   "execution_count": 106,
   "metadata": {},
   "outputs": [
    {
     "data": {
      "text/html": [
       "<div>\n",
       "<style scoped>\n",
       "    .dataframe tbody tr th:only-of-type {\n",
       "        vertical-align: middle;\n",
       "    }\n",
       "\n",
       "    .dataframe tbody tr th {\n",
       "        vertical-align: top;\n",
       "    }\n",
       "\n",
       "    .dataframe thead th {\n",
       "        text-align: right;\n",
       "    }\n",
       "</style>\n",
       "<table border=\"1\" class=\"dataframe\">\n",
       "  <thead>\n",
       "    <tr style=\"text-align: right;\">\n",
       "      <th></th>\n",
       "      <th>name</th>\n",
       "      <th>brand</th>\n",
       "      <th>categories</th>\n",
       "      <th>primaryCategories</th>\n",
       "      <th>reviews.date</th>\n",
       "      <th>reviews.text</th>\n",
       "      <th>reviews.title</th>\n",
       "      <th>sentiment</th>\n",
       "    </tr>\n",
       "  </thead>\n",
       "  <tbody>\n",
       "    <tr>\n",
       "      <th>0</th>\n",
       "      <td>All-New Fire HD 8 Tablet, 8\" HD Display, Wi-Fi...</td>\n",
       "      <td>Amazon</td>\n",
       "      <td>Electronics,iPad &amp; Tablets,All Tablets,Fire Ta...</td>\n",
       "      <td>Electronics</td>\n",
       "      <td>2016-12-26T00:00:00.000Z</td>\n",
       "      <td>Purchased on Black FridayPros - Great Price (e...</td>\n",
       "      <td>Powerful tablet</td>\n",
       "      <td>Positive</td>\n",
       "    </tr>\n",
       "  </tbody>\n",
       "</table>\n",
       "</div>"
      ],
      "text/plain": [
       "                                                name   brand  \\\n",
       "0  All-New Fire HD 8 Tablet, 8\" HD Display, Wi-Fi...  Amazon   \n",
       "\n",
       "                                          categories primaryCategories  \\\n",
       "0  Electronics,iPad & Tablets,All Tablets,Fire Ta...       Electronics   \n",
       "\n",
       "               reviews.date  \\\n",
       "0  2016-12-26T00:00:00.000Z   \n",
       "\n",
       "                                        reviews.text    reviews.title  \\\n",
       "0  Purchased on Black FridayPros - Great Price (e...  Powerful tablet   \n",
       "\n",
       "  sentiment  \n",
       "0  Positive  "
      ]
     },
     "execution_count": 106,
     "metadata": {},
     "output_type": "execute_result"
    }
   ],
   "source": [
    "train.head(1)"
   ]
  },
  {
   "cell_type": "code",
   "execution_count": 107,
   "metadata": {},
   "outputs": [
    {
     "data": {
      "text/html": [
       "<div>\n",
       "<style scoped>\n",
       "    .dataframe tbody tr th:only-of-type {\n",
       "        vertical-align: middle;\n",
       "    }\n",
       "\n",
       "    .dataframe tbody tr th {\n",
       "        vertical-align: top;\n",
       "    }\n",
       "\n",
       "    .dataframe thead th {\n",
       "        text-align: right;\n",
       "    }\n",
       "</style>\n",
       "<table border=\"1\" class=\"dataframe\">\n",
       "  <thead>\n",
       "    <tr style=\"text-align: right;\">\n",
       "      <th></th>\n",
       "      <th>name</th>\n",
       "      <th>brand</th>\n",
       "      <th>categories</th>\n",
       "      <th>primaryCategories</th>\n",
       "      <th>reviews.date</th>\n",
       "      <th>reviews.text</th>\n",
       "      <th>reviews.title</th>\n",
       "    </tr>\n",
       "  </thead>\n",
       "  <tbody>\n",
       "    <tr>\n",
       "      <th>0</th>\n",
       "      <td>Fire Tablet, 7 Display, Wi-Fi, 16 GB - Include...</td>\n",
       "      <td>Amazon</td>\n",
       "      <td>Fire Tablets,Computers/Tablets &amp; Networking,Ta...</td>\n",
       "      <td>Electronics</td>\n",
       "      <td>2016-05-23T00:00:00.000Z</td>\n",
       "      <td>Amazon kindle fire has a lot of free app and c...</td>\n",
       "      <td>very handy device</td>\n",
       "    </tr>\n",
       "  </tbody>\n",
       "</table>\n",
       "</div>"
      ],
      "text/plain": [
       "                                                name   brand  \\\n",
       "0  Fire Tablet, 7 Display, Wi-Fi, 16 GB - Include...  Amazon   \n",
       "\n",
       "                                          categories primaryCategories  \\\n",
       "0  Fire Tablets,Computers/Tablets & Networking,Ta...       Electronics   \n",
       "\n",
       "               reviews.date  \\\n",
       "0  2016-05-23T00:00:00.000Z   \n",
       "\n",
       "                                        reviews.text      reviews.title  \n",
       "0  Amazon kindle fire has a lot of free app and c...  very handy device  "
      ]
     },
     "execution_count": 107,
     "metadata": {},
     "output_type": "execute_result"
    }
   ],
   "source": [
    "test.head(1)"
   ]
  },
  {
   "cell_type": "code",
   "execution_count": 39,
   "metadata": {},
   "outputs": [
    {
     "data": {
      "text/html": [
       "<div>\n",
       "<style scoped>\n",
       "    .dataframe tbody tr th:only-of-type {\n",
       "        vertical-align: middle;\n",
       "    }\n",
       "\n",
       "    .dataframe tbody tr th {\n",
       "        vertical-align: top;\n",
       "    }\n",
       "\n",
       "    .dataframe thead th {\n",
       "        text-align: right;\n",
       "    }\n",
       "</style>\n",
       "<table border=\"1\" class=\"dataframe\">\n",
       "  <thead>\n",
       "    <tr style=\"text-align: right;\">\n",
       "      <th></th>\n",
       "      <th>name</th>\n",
       "      <th>brand</th>\n",
       "      <th>categories</th>\n",
       "      <th>primaryCategories</th>\n",
       "      <th>reviews.date</th>\n",
       "      <th>reviews.text</th>\n",
       "      <th>reviews.title</th>\n",
       "      <th>sentiment</th>\n",
       "    </tr>\n",
       "  </thead>\n",
       "  <tbody>\n",
       "    <tr>\n",
       "      <th>0</th>\n",
       "      <td>Fire Tablet, 7 Display, Wi-Fi, 16 GB - Include...</td>\n",
       "      <td>Amazon</td>\n",
       "      <td>Fire Tablets,Computers/Tablets &amp; Networking,Ta...</td>\n",
       "      <td>Electronics</td>\n",
       "      <td>2016-05-23T00:00:00.000Z</td>\n",
       "      <td>Amazon kindle fire has a lot of free app and c...</td>\n",
       "      <td>very handy device</td>\n",
       "      <td>Positive</td>\n",
       "    </tr>\n",
       "  </tbody>\n",
       "</table>\n",
       "</div>"
      ],
      "text/plain": [
       "                                                name   brand  \\\n",
       "0  Fire Tablet, 7 Display, Wi-Fi, 16 GB - Include...  Amazon   \n",
       "\n",
       "                                          categories primaryCategories  \\\n",
       "0  Fire Tablets,Computers/Tablets & Networking,Ta...       Electronics   \n",
       "\n",
       "               reviews.date  \\\n",
       "0  2016-05-23T00:00:00.000Z   \n",
       "\n",
       "                                        reviews.text      reviews.title  \\\n",
       "0  Amazon kindle fire has a lot of free app and c...  very handy device   \n",
       "\n",
       "  sentiment  \n",
       "0  Positive  "
      ]
     },
     "execution_count": 39,
     "metadata": {},
     "output_type": "execute_result"
    }
   ],
   "source": [
    "test_hidden.head(1)"
   ]
  },
  {
   "cell_type": "code",
   "execution_count": 40,
   "metadata": {
    "jupyter": {
     "outputs_hidden": true
    }
   },
   "outputs": [
    {
     "name": "stdout",
     "output_type": "stream",
     "text": [
      "shape of merged data is:  (5000, 8)\n"
     ]
    },
    {
     "data": {
      "text/html": [
       "<div>\n",
       "<style scoped>\n",
       "    .dataframe tbody tr th:only-of-type {\n",
       "        vertical-align: middle;\n",
       "    }\n",
       "\n",
       "    .dataframe tbody tr th {\n",
       "        vertical-align: top;\n",
       "    }\n",
       "\n",
       "    .dataframe thead th {\n",
       "        text-align: right;\n",
       "    }\n",
       "</style>\n",
       "<table border=\"1\" class=\"dataframe\">\n",
       "  <thead>\n",
       "    <tr style=\"text-align: right;\">\n",
       "      <th></th>\n",
       "      <th>name</th>\n",
       "      <th>brand</th>\n",
       "      <th>categories</th>\n",
       "      <th>primaryCategories</th>\n",
       "      <th>reviews.date</th>\n",
       "      <th>reviews.text</th>\n",
       "      <th>reviews.title</th>\n",
       "      <th>sentiment</th>\n",
       "    </tr>\n",
       "  </thead>\n",
       "  <tbody>\n",
       "    <tr>\n",
       "      <th>0</th>\n",
       "      <td>All-New Fire HD 8 Tablet, 8\" HD Display, Wi-Fi...</td>\n",
       "      <td>Amazon</td>\n",
       "      <td>Electronics,iPad &amp; Tablets,All Tablets,Fire Ta...</td>\n",
       "      <td>Electronics</td>\n",
       "      <td>2016-12-26T00:00:00.000Z</td>\n",
       "      <td>Purchased on Black FridayPros - Great Price (e...</td>\n",
       "      <td>Powerful tablet</td>\n",
       "      <td>Positive</td>\n",
       "    </tr>\n",
       "    <tr>\n",
       "      <th>1</th>\n",
       "      <td>Amazon - Echo Plus w/ Built-In Hub - Silver</td>\n",
       "      <td>Amazon</td>\n",
       "      <td>Amazon Echo,Smart Home,Networking,Home &amp; Tools...</td>\n",
       "      <td>Electronics,Hardware</td>\n",
       "      <td>2018-01-17T00:00:00.000Z</td>\n",
       "      <td>I purchased two Amazon in Echo Plus and two do...</td>\n",
       "      <td>Amazon Echo Plus AWESOME</td>\n",
       "      <td>Positive</td>\n",
       "    </tr>\n",
       "    <tr>\n",
       "      <th>2</th>\n",
       "      <td>Amazon Echo Show Alexa-enabled Bluetooth Speak...</td>\n",
       "      <td>Amazon</td>\n",
       "      <td>Amazon Echo,Virtual Assistant Speakers,Electro...</td>\n",
       "      <td>Electronics,Hardware</td>\n",
       "      <td>2017-12-20T00:00:00.000Z</td>\n",
       "      <td>Just an average Alexa option. Does show a few ...</td>\n",
       "      <td>Average</td>\n",
       "      <td>Neutral</td>\n",
       "    </tr>\n",
       "    <tr>\n",
       "      <th>3</th>\n",
       "      <td>Fire HD 10 Tablet, 10.1 HD Display, Wi-Fi, 16 ...</td>\n",
       "      <td>Amazon</td>\n",
       "      <td>eBook Readers,Fire Tablets,Electronics Feature...</td>\n",
       "      <td>Office Supplies,Electronics</td>\n",
       "      <td>2017-08-04T00:00:00.000Z</td>\n",
       "      <td>very good product. Exactly what I wanted, and ...</td>\n",
       "      <td>Greattttttt</td>\n",
       "      <td>Positive</td>\n",
       "    </tr>\n",
       "    <tr>\n",
       "      <th>4</th>\n",
       "      <td>Brand New Amazon Kindle Fire 16gb 7\" Ips Displ...</td>\n",
       "      <td>Amazon</td>\n",
       "      <td>Computers/Tablets &amp; Networking,Tablets &amp; eBook...</td>\n",
       "      <td>Electronics</td>\n",
       "      <td>2017-01-23T00:00:00.000Z</td>\n",
       "      <td>This is the 3rd one I've purchased. I've bough...</td>\n",
       "      <td>Very durable!</td>\n",
       "      <td>Positive</td>\n",
       "    </tr>\n",
       "  </tbody>\n",
       "</table>\n",
       "</div>"
      ],
      "text/plain": [
       "                                                name   brand  \\\n",
       "0  All-New Fire HD 8 Tablet, 8\" HD Display, Wi-Fi...  Amazon   \n",
       "1        Amazon - Echo Plus w/ Built-In Hub - Silver  Amazon   \n",
       "2  Amazon Echo Show Alexa-enabled Bluetooth Speak...  Amazon   \n",
       "3  Fire HD 10 Tablet, 10.1 HD Display, Wi-Fi, 16 ...  Amazon   \n",
       "4  Brand New Amazon Kindle Fire 16gb 7\" Ips Displ...  Amazon   \n",
       "\n",
       "                                          categories  \\\n",
       "0  Electronics,iPad & Tablets,All Tablets,Fire Ta...   \n",
       "1  Amazon Echo,Smart Home,Networking,Home & Tools...   \n",
       "2  Amazon Echo,Virtual Assistant Speakers,Electro...   \n",
       "3  eBook Readers,Fire Tablets,Electronics Feature...   \n",
       "4  Computers/Tablets & Networking,Tablets & eBook...   \n",
       "\n",
       "             primaryCategories              reviews.date  \\\n",
       "0                  Electronics  2016-12-26T00:00:00.000Z   \n",
       "1         Electronics,Hardware  2018-01-17T00:00:00.000Z   \n",
       "2         Electronics,Hardware  2017-12-20T00:00:00.000Z   \n",
       "3  Office Supplies,Electronics  2017-08-04T00:00:00.000Z   \n",
       "4                  Electronics  2017-01-23T00:00:00.000Z   \n",
       "\n",
       "                                        reviews.text  \\\n",
       "0  Purchased on Black FridayPros - Great Price (e...   \n",
       "1  I purchased two Amazon in Echo Plus and two do...   \n",
       "2  Just an average Alexa option. Does show a few ...   \n",
       "3  very good product. Exactly what I wanted, and ...   \n",
       "4  This is the 3rd one I've purchased. I've bough...   \n",
       "\n",
       "              reviews.title sentiment  \n",
       "0           Powerful tablet  Positive  \n",
       "1  Amazon Echo Plus AWESOME  Positive  \n",
       "2                   Average   Neutral  \n",
       "3               Greattttttt  Positive  \n",
       "4             Very durable!  Positive  "
      ]
     },
     "execution_count": 40,
     "metadata": {},
     "output_type": "execute_result"
    }
   ],
   "source": [
    "# Since the train0 and train_hidden0 are having same features its good to merge them together and perform the EDA\n",
    "#Data merge\n",
    "dataSet=pd.concat([train,test_hidden])\n",
    "print('shape of merged data is: ',dataSet.shape)\n",
    "dataSet.head()"
   ]
  },
  {
   "cell_type": "code",
   "execution_count": 41,
   "metadata": {},
   "outputs": [
    {
     "data": {
      "text/html": [
       "<div>\n",
       "<style scoped>\n",
       "    .dataframe tbody tr th:only-of-type {\n",
       "        vertical-align: middle;\n",
       "    }\n",
       "\n",
       "    .dataframe tbody tr th {\n",
       "        vertical-align: top;\n",
       "    }\n",
       "\n",
       "    .dataframe thead th {\n",
       "        text-align: right;\n",
       "    }\n",
       "</style>\n",
       "<table border=\"1\" class=\"dataframe\">\n",
       "  <thead>\n",
       "    <tr style=\"text-align: right;\">\n",
       "      <th></th>\n",
       "      <th>reviews.text</th>\n",
       "      <th>sentiment</th>\n",
       "    </tr>\n",
       "  </thead>\n",
       "  <tbody>\n",
       "    <tr>\n",
       "      <th>0</th>\n",
       "      <td>Purchased on Black FridayPros - Great Price (e...</td>\n",
       "      <td>Positive</td>\n",
       "    </tr>\n",
       "    <tr>\n",
       "      <th>1</th>\n",
       "      <td>I purchased two Amazon in Echo Plus and two do...</td>\n",
       "      <td>Positive</td>\n",
       "    </tr>\n",
       "    <tr>\n",
       "      <th>2</th>\n",
       "      <td>Just an average Alexa option. Does show a few ...</td>\n",
       "      <td>Neutral</td>\n",
       "    </tr>\n",
       "    <tr>\n",
       "      <th>3</th>\n",
       "      <td>very good product. Exactly what I wanted, and ...</td>\n",
       "      <td>Positive</td>\n",
       "    </tr>\n",
       "    <tr>\n",
       "      <th>4</th>\n",
       "      <td>This is the 3rd one I've purchased. I've bough...</td>\n",
       "      <td>Positive</td>\n",
       "    </tr>\n",
       "  </tbody>\n",
       "</table>\n",
       "</div>"
      ],
      "text/plain": [
       "                                        reviews.text sentiment\n",
       "0  Purchased on Black FridayPros - Great Price (e...  Positive\n",
       "1  I purchased two Amazon in Echo Plus and two do...  Positive\n",
       "2  Just an average Alexa option. Does show a few ...   Neutral\n",
       "3  very good product. Exactly what I wanted, and ...  Positive\n",
       "4  This is the 3rd one I've purchased. I've bough...  Positive"
      ]
     },
     "execution_count": 41,
     "metadata": {},
     "output_type": "execute_result"
    }
   ],
   "source": [
    "#Lets take only relevent columns for the analysis(reviews.text and sentiment)\n",
    "dataSet=dataSet[['reviews.text','sentiment']]\n",
    "dataSet.head(5)"
   ]
  },
  {
   "cell_type": "code",
   "execution_count": 42,
   "metadata": {},
   "outputs": [
    {
     "name": "stdout",
     "output_type": "stream",
     "text": [
      "<class 'pandas.core.frame.DataFrame'>\n",
      "Int64Index: 5000 entries, 0 to 999\n",
      "Data columns (total 2 columns):\n",
      " #   Column        Non-Null Count  Dtype \n",
      "---  ------        --------------  ----- \n",
      " 0   reviews.text  5000 non-null   object\n",
      " 1   sentiment     5000 non-null   object\n",
      "dtypes: object(2)\n",
      "memory usage: 117.2+ KB\n"
     ]
    }
   ],
   "source": [
    "dataSet.info() # There is no null values"
   ]
  },
  {
   "cell_type": "code",
   "execution_count": 43,
   "metadata": {},
   "outputs": [
    {
     "data": {
      "text/plain": [
       "Positive    4686\n",
       "Neutral      197\n",
       "Negative     117\n",
       "Name: sentiment, dtype: int64"
      ]
     },
     "execution_count": 43,
     "metadata": {},
     "output_type": "execute_result"
    }
   ],
   "source": [
    "dataSet.sentiment.value_counts()"
   ]
  },
  {
   "cell_type": "code",
   "execution_count": 44,
   "metadata": {},
   "outputs": [
    {
     "data": {
      "text/plain": [
       "<matplotlib.axes._subplots.AxesSubplot at 0x2af23ae4148>"
      ]
     },
     "execution_count": 44,
     "metadata": {},
     "output_type": "execute_result"
    },
    {
     "data": {
      "image/png": "[encoded data removed]",
      "text/plain": [
       "<Figure size 432x288 with 1 Axes>"
      ]
     },
     "metadata": {
      "needs_background": "light"
     },
     "output_type": "display_data"
    }
   ],
   "source": [
    "#Check for data imbalance\n",
    "sns.countplot(x='sentiment',data=dataSet)"
   ]
  },
  {
   "cell_type": "code",
   "execution_count": 45,
   "metadata": {},
   "outputs": [],
   "source": [
    "# As we can see from above figure It’s a class imbalance problem."
   ]
  },
  {
   "cell_type": "code",
   "execution_count": 46,
   "metadata": {},
   "outputs": [],
   "source": [
    "# Text preprocessing function\n",
    "def text_preprocessing(df):\n",
    "\n",
    "    #step1.Converting to list for easy manipulation\n",
    "    reviews_list=df['reviews.text'].values\n",
    "    print('Text Preprocessing Step-1:Converting to list for easy manipulation \\n',reviews_list[0],'\\n')\n",
    "\n",
    "    #step2.standardize the case into lowercase\n",
    "    reviews_list=[doc.lower() for doc in reviews_list]\n",
    "\n",
    "    #step3.Tokenize\n",
    "    from nltk.tokenize import word_tokenize\n",
    "    tokenized_reviews=[word_tokenize(doc) for doc in reviews_list]\n",
    "\n",
    "    print('Text Preprocessing Step-2&3:Word standardize and Tokenize \\n',tokenized_reviews[0],'\\n')\n",
    "\n",
    "    ###step4.Import stop words and punctuations\n",
    "    from nltk.corpus import stopwords\n",
    "    from string import punctuation\n",
    "    nltk_stop=stopwords.words('english')\n",
    "    punct=list(punctuation)\n",
    "\n",
    "    stop_punct=nltk_stop+punct #combine stop waords and punctuations\n",
    "\n",
    "    #print('Text Preprocessing Step-4:stop words and punctuations list \\n',stop_punct,'\\n')\n",
    "\n",
    "\n",
    "    ###step5.Remove stop words and punctuations from the tokenized_reviews\n",
    "    def del_stop(sent):\n",
    "        return [term for term in sent if term not in stop_punct]\n",
    "\n",
    "    reviews_nonstop = [del_stop(doc) for doc in tokenized_reviews]\n",
    "    print('Text Preprocessing Step-5:Remove stop words and punctuations \\n',reviews_nonstop[0],'\\n')\n",
    "\n",
    "\n",
    "    #Stemming OR Lemmatize depending on the need\n",
    "    #Stemming\n",
    "    #from nltk.stem import PorterStemmer\n",
    "    #stemmer = PorterStemmer()\n",
    "\n",
    "    #stemmed_docs=[]\n",
    "    #for terms in reviews_nonstop:\n",
    "        #stemmed_docs.append([stemmer.stem(word) for word in terms])\n",
    "\n",
    "    #print(stemmed_docs[0])\n",
    "\n",
    "    #step.6.Lemmatize\n",
    "    from nltk.stem import WordNetLemmatizer\n",
    "    lemmatizer=WordNetLemmatizer()\n",
    "\n",
    "    lemmatized_docs=[]\n",
    "    for terms in reviews_nonstop:\n",
    "        lemmatized_docs.append([lemmatizer.lemmatize(word) for word in terms])\n",
    "\n",
    "    print('Text Preprocessing Step-6:lemmatized_docs \\n',lemmatized_docs[0],'\\n')\n",
    "\n",
    "    ##step7.Delete numeric tokens. \n",
    "    import re\n",
    "    def del_numeric(doc):\n",
    "        clean_docs=[]\n",
    "        for each_token in doc:\n",
    "            if re.search('[a-zA-Z]', each_token):\n",
    "                 clean_docs.append(each_token)\n",
    "        return clean_docs \n",
    "\n",
    "    reviews_clean = [del_numeric(sent) for sent in lemmatized_docs]\n",
    "\n",
    "    print('Text Preprocessing Step-7:Delete numeric tokens \\n',reviews_clean[0],'\\n')\n",
    "\n",
    "    ###step8.Creating back the Clean documents\n",
    "    clean_docs = [\" \".join(sent) for sent in reviews_clean]\n",
    "\n",
    "    print('Text Preprocessing Step-8:Clean  documents \\n',clean_docs[0],'\\n')\n",
    "    return clean_docs"
   ]
  },
  {
   "cell_type": "markdown",
   "metadata": {},
   "source": [
    "#### Text Preprocessing for Train Data , Test Data and  on Train+Test Data"
   ]
  },
  {
   "cell_type": "code",
   "execution_count": 47,
   "metadata": {},
   "outputs": [
    {
     "name": "stdout",
     "output_type": "stream",
     "text": [
      "Text Preprocessing Step-1:Converting to list for easy manipulation \n",
      " Purchased on Black FridayPros - Great Price (even off sale)Very powerful and fast with quad core processors Amazing soundWell builtCons -Amazon ads, Amazon need this to subsidize the tablet and will remove the adds if you pay them $15.Inability to access other apps except the ones from Amazon. There is a way which I was able to accomplish to add the Google Play storeNet this is a great tablet for the money \n",
      "\n",
      "Text Preprocessing Step-2&3:Word standardize and Tokenize \n",
      " ['purchased', 'on', 'black', 'fridaypros', '-', 'great', 'price', '(', 'even', 'off', 'sale', ')', 'very', 'powerful', 'and', 'fast', 'with', 'quad', 'core', 'processors', 'amazing', 'soundwell', 'builtcons', '-amazon', 'ads', ',', 'amazon', 'need', 'this', 'to', 'subsidize', 'the', 'tablet', 'and', 'will', 'remove', 'the', 'adds', 'if', 'you', 'pay', 'them', '$', '15.inability', 'to', 'access', 'other', 'apps', 'except', 'the', 'ones', 'from', 'amazon', '.', 'there', 'is', 'a', 'way', 'which', 'i', 'was', 'able', 'to', 'accomplish', 'to', 'add', 'the', 'google', 'play', 'storenet', 'this', 'is', 'a', 'great', 'tablet', 'for', 'the', 'money'] \n",
      "\n",
      "Text Preprocessing Step-5:Remove stop words and punctuations \n",
      " ['purchased', 'black', 'fridaypros', 'great', 'price', 'even', 'sale', 'powerful', 'fast', 'quad', 'core', 'processors', 'amazing', 'soundwell', 'builtcons', '-amazon', 'ads', 'amazon', 'need', 'subsidize', 'tablet', 'remove', 'adds', 'pay', '15.inability', 'access', 'apps', 'except', 'ones', 'amazon', 'way', 'able', 'accomplish', 'add', 'google', 'play', 'storenet', 'great', 'tablet', 'money'] \n",
      "\n",
      "Text Preprocessing Step-6:lemmatized_docs \n",
      " ['purchased', 'black', 'fridaypros', 'great', 'price', 'even', 'sale', 'powerful', 'fast', 'quad', 'core', 'processor', 'amazing', 'soundwell', 'builtcons', '-amazon', 'ad', 'amazon', 'need', 'subsidize', 'tablet', 'remove', 'add', 'pay', '15.inability', 'access', 'apps', 'except', 'one', 'amazon', 'way', 'able', 'accomplish', 'add', 'google', 'play', 'storenet', 'great', 'tablet', 'money'] \n",
      "\n",
      "Text Preprocessing Step-7:Delete numeric tokens \n",
      " ['purchased', 'black', 'fridaypros', 'great', 'price', 'even', 'sale', 'powerful', 'fast', 'quad', 'core', 'processor', 'amazing', 'soundwell', 'builtcons', '-amazon', 'ad', 'amazon', 'need', 'subsidize', 'tablet', 'remove', 'add', 'pay', '15.inability', 'access', 'apps', 'except', 'one', 'amazon', 'way', 'able', 'accomplish', 'add', 'google', 'play', 'storenet', 'great', 'tablet', 'money'] \n",
      "\n",
      "Text Preprocessing Step-8:Clean  documents \n",
      " purchased black fridaypros great price even sale powerful fast quad core processor amazing soundwell builtcons -amazon ad amazon need subsidize tablet remove add pay 15.inability access apps except one amazon way able accomplish add google play storenet great tablet money \n",
      "\n",
      "Text Preprocessing Step-1:Converting to list for easy manipulation \n",
      " Amazon kindle fire has a lot of free app and can be used by any one that wants to get online anywhere \n",
      "\n",
      "Text Preprocessing Step-2&3:Word standardize and Tokenize \n",
      " ['amazon', 'kindle', 'fire', 'has', 'a', 'lot', 'of', 'free', 'app', 'and', 'can', 'be', 'used', 'by', 'any', 'one', 'that', 'wants', 'to', 'get', 'online', 'anywhere'] \n",
      "\n",
      "Text Preprocessing Step-5:Remove stop words and punctuations \n",
      " ['amazon', 'kindle', 'fire', 'lot', 'free', 'app', 'used', 'one', 'wants', 'get', 'online', 'anywhere'] \n",
      "\n",
      "Text Preprocessing Step-6:lemmatized_docs \n",
      " ['amazon', 'kindle', 'fire', 'lot', 'free', 'app', 'used', 'one', 'want', 'get', 'online', 'anywhere'] \n",
      "\n",
      "Text Preprocessing Step-7:Delete numeric tokens \n",
      " ['amazon', 'kindle', 'fire', 'lot', 'free', 'app', 'used', 'one', 'want', 'get', 'online', 'anywhere'] \n",
      "\n",
      "Text Preprocessing Step-8:Clean  documents \n",
      " amazon kindle fire lot free app used one want get online anywhere \n",
      "\n",
      "Text Preprocessing Step-1:Converting to list for easy manipulation \n",
      " Purchased on Black FridayPros - Great Price (even off sale)Very powerful and fast with quad core processors Amazing soundWell builtCons -Amazon ads, Amazon need this to subsidize the tablet and will remove the adds if you pay them $15.Inability to access other apps except the ones from Amazon. There is a way which I was able to accomplish to add the Google Play storeNet this is a great tablet for the money \n",
      "\n",
      "Text Preprocessing Step-2&3:Word standardize and Tokenize \n",
      " ['purchased', 'on', 'black', 'fridaypros', '-', 'great', 'price', '(', 'even', 'off', 'sale', ')', 'very', 'powerful', 'and', 'fast', 'with', 'quad', 'core', 'processors', 'amazing', 'soundwell', 'builtcons', '-amazon', 'ads', ',', 'amazon', 'need', 'this', 'to', 'subsidize', 'the', 'tablet', 'and', 'will', 'remove', 'the', 'adds', 'if', 'you', 'pay', 'them', '$', '15.inability', 'to', 'access', 'other', 'apps', 'except', 'the', 'ones', 'from', 'amazon', '.', 'there', 'is', 'a', 'way', 'which', 'i', 'was', 'able', 'to', 'accomplish', 'to', 'add', 'the', 'google', 'play', 'storenet', 'this', 'is', 'a', 'great', 'tablet', 'for', 'the', 'money'] \n",
      "\n",
      "Text Preprocessing Step-5:Remove stop words and punctuations \n",
      " ['purchased', 'black', 'fridaypros', 'great', 'price', 'even', 'sale', 'powerful', 'fast', 'quad', 'core', 'processors', 'amazing', 'soundwell', 'builtcons', '-amazon', 'ads', 'amazon', 'need', 'subsidize', 'tablet', 'remove', 'adds', 'pay', '15.inability', 'access', 'apps', 'except', 'ones', 'amazon', 'way', 'able', 'accomplish', 'add', 'google', 'play', 'storenet', 'great', 'tablet', 'money'] \n",
      "\n",
      "Text Preprocessing Step-6:lemmatized_docs \n",
      " ['purchased', 'black', 'fridaypros', 'great', 'price', 'even', 'sale', 'powerful', 'fast', 'quad', 'core', 'processor', 'amazing', 'soundwell', 'builtcons', '-amazon', 'ad', 'amazon', 'need', 'subsidize', 'tablet', 'remove', 'add', 'pay', '15.inability', 'access', 'apps', 'except', 'one', 'amazon', 'way', 'able', 'accomplish', 'add', 'google', 'play', 'storenet', 'great', 'tablet', 'money'] \n",
      "\n",
      "Text Preprocessing Step-7:Delete numeric tokens \n",
      " ['purchased', 'black', 'fridaypros', 'great', 'price', 'even', 'sale', 'powerful', 'fast', 'quad', 'core', 'processor', 'amazing', 'soundwell', 'builtcons', '-amazon', 'ad', 'amazon', 'need', 'subsidize', 'tablet', 'remove', 'add', 'pay', '15.inability', 'access', 'apps', 'except', 'one', 'amazon', 'way', 'able', 'accomplish', 'add', 'google', 'play', 'storenet', 'great', 'tablet', 'money'] \n",
      "\n",
      "Text Preprocessing Step-8:Clean  documents \n",
      " purchased black fridaypros great price even sale powerful fast quad core processor amazing soundwell builtcons -amazon ad amazon need subsidize tablet remove add pay 15.inability access apps except one amazon way able accomplish add google play storenet great tablet money \n",
      "\n"
     ]
    }
   ],
   "source": [
    "#Lets take only relevent columns for the preprocessing of Train Data(reviews.text and sentiment)\n",
    "traindata=train[['reviews.text','sentiment']]\n",
    "\n",
    "train_clean_reviews=text_preprocessing(traindata)\n",
    "\n",
    "#Lets take only relevent columns for the preprocessing of Test Data (reviews.text and sentiment)\n",
    "testdata=test_hidden[['reviews.text','sentiment']]\n",
    "\n",
    "test_clean_reviews=text_preprocessing(testdata)\n",
    "\n",
    "#Lets take only relevent columns for the preprocessing of Full Dataset (reviews.text and sentiment)\n",
    "fulldata=dataSet[['reviews.text','sentiment']]\n",
    "\n",
    "fulldata_clean_reviews=text_preprocessing(fulldata)\n",
    "\n"
   ]
  },
  {
   "cell_type": "markdown",
   "metadata": {},
   "source": [
    "#### Text Preprocessing for Test Data"
   ]
  },
  {
   "cell_type": "code",
   "execution_count": 48,
   "metadata": {},
   "outputs": [
    {
     "name": "stdout",
     "output_type": "stream",
     "text": [
      "Text Preprocessing Step-1:Converting to list for easy manipulation \n",
      " Amazon kindle fire has a lot of free app and can be used by any one that wants to get online anywhere \n",
      "\n",
      "Text Preprocessing Step-2&3:Word standardize and Tokenize \n",
      " ['amazon', 'kindle', 'fire', 'has', 'a', 'lot', 'of', 'free', 'app', 'and', 'can', 'be', 'used', 'by', 'any', 'one', 'that', 'wants', 'to', 'get', 'online', 'anywhere'] \n",
      "\n",
      "Text Preprocessing Step-5:Remove stop words and punctuations \n",
      " ['amazon', 'kindle', 'fire', 'lot', 'free', 'app', 'used', 'one', 'wants', 'get', 'online', 'anywhere'] \n",
      "\n",
      "Text Preprocessing Step-6:lemmatized_docs \n",
      " ['amazon', 'kindle', 'fire', 'lot', 'free', 'app', 'used', 'one', 'want', 'get', 'online', 'anywhere'] \n",
      "\n",
      "Text Preprocessing Step-7:Delete numeric tokens \n",
      " ['amazon', 'kindle', 'fire', 'lot', 'free', 'app', 'used', 'one', 'want', 'get', 'online', 'anywhere'] \n",
      "\n",
      "Text Preprocessing Step-8:Clean  documents \n",
      " amazon kindle fire lot free app used one want get online anywhere \n",
      "\n"
     ]
    }
   ],
   "source": [
    "#Lets take only relevent columns for the preprocessing (reviews.text and sentiment)\n",
    "testdata=test_hidden[['reviews.text','sentiment']]\n",
    "\n",
    "test_clean_reviews=text_preprocessing(testdata)\n"
   ]
  },
  {
   "cell_type": "markdown",
   "metadata": {},
   "source": [
    "#### Prepare for X_train,X_test,y_train and y_test "
   ]
  },
  {
   "cell_type": "code",
   "execution_count": 49,
   "metadata": {},
   "outputs": [
    {
     "name": "stdout",
     "output_type": "stream",
     "text": [
      "the shape of X_train and  y_train:  4000 (4000,)\n",
      "the shape of X_test and  y_test:  1000 (1000,)\n"
     ]
    }
   ],
   "source": [
    "X_train=train_clean_reviews\n",
    "X_test=test_clean_reviews\n",
    "y_train=train['sentiment']\n",
    "y_test=test_hidden['sentiment']\n",
    "\n",
    "print('the shape of X_train and  y_train: ', len(X_train), y_train.shape)\n",
    "print('the shape of X_test and  y_test: ', len(X_test),y_test.shape)"
   ]
  },
  {
   "cell_type": "markdown",
   "metadata": {},
   "source": [
    "#### Prepare Document term matrix using TfIdf"
   ]
  },
  {
   "cell_type": "code",
   "execution_count": 50,
   "metadata": {},
   "outputs": [
    {
     "data": {
      "text/plain": [
       "((4000, 4342), (1000, 4342))"
      ]
     },
     "execution_count": 50,
     "metadata": {},
     "output_type": "execute_result"
    }
   ],
   "source": [
    "### Prepare Document term matrix using TfIdf\n",
    "from sklearn.feature_extraction.text import TfidfVectorizer\n",
    "vectorizer = TfidfVectorizer(max_features = 4500)\n",
    "\n",
    "# Model fitting\n",
    "X_train_ds =vectorizer.fit(X_train)\n",
    "X_train_bow = vectorizer.transform(X_train)\n",
    "X_test_bow = vectorizer.transform(X_test)\n",
    "\n",
    "X_train_bow.shape, X_test_bow.shape"
   ]
  },
  {
   "cell_type": "code",
   "execution_count": 51,
   "metadata": {},
   "outputs": [
    {
     "data": {
      "text/html": [
       "<div>\n",
       "<style scoped>\n",
       "    .dataframe tbody tr th:only-of-type {\n",
       "        vertical-align: middle;\n",
       "    }\n",
       "\n",
       "    .dataframe tbody tr th {\n",
       "        vertical-align: top;\n",
       "    }\n",
       "\n",
       "    .dataframe thead th {\n",
       "        text-align: right;\n",
       "    }\n",
       "</style>\n",
       "<table border=\"1\" class=\"dataframe\">\n",
       "  <thead>\n",
       "    <tr style=\"text-align: right;\">\n",
       "      <th></th>\n",
       "      <th>00</th>\n",
       "      <th>10</th>\n",
       "      <th>10th</th>\n",
       "      <th>10x</th>\n",
       "      <th>11yr</th>\n",
       "      <th>128gb</th>\n",
       "      <th>13th</th>\n",
       "      <th>14</th>\n",
       "      <th>15</th>\n",
       "      <th>16g</th>\n",
       "      <th>...</th>\n",
       "      <th>äôve</th>\n",
       "      <th>äù</th>\n",
       "      <th>äúalexa</th>\n",
       "      <th>äúbest</th>\n",
       "      <th>äúdropping</th>\n",
       "      <th>äúdual</th>\n",
       "      <th>äúshow</th>\n",
       "      <th>äúskills</th>\n",
       "      <th>äústar</th>\n",
       "      <th>äúthings</th>\n",
       "    </tr>\n",
       "  </thead>\n",
       "  <tbody>\n",
       "    <tr>\n",
       "      <th>0</th>\n",
       "      <td>0.0</td>\n",
       "      <td>0.0</td>\n",
       "      <td>0.0</td>\n",
       "      <td>0.0</td>\n",
       "      <td>0.0</td>\n",
       "      <td>0.0</td>\n",
       "      <td>0.0</td>\n",
       "      <td>0.0</td>\n",
       "      <td>0.219932</td>\n",
       "      <td>0.0</td>\n",
       "      <td>...</td>\n",
       "      <td>0.0</td>\n",
       "      <td>0.0</td>\n",
       "      <td>0.0</td>\n",
       "      <td>0.0</td>\n",
       "      <td>0.0</td>\n",
       "      <td>0.0</td>\n",
       "      <td>0.0</td>\n",
       "      <td>0.0</td>\n",
       "      <td>0.0</td>\n",
       "      <td>0.0</td>\n",
       "    </tr>\n",
       "    <tr>\n",
       "      <th>1</th>\n",
       "      <td>0.0</td>\n",
       "      <td>0.0</td>\n",
       "      <td>0.0</td>\n",
       "      <td>0.0</td>\n",
       "      <td>0.0</td>\n",
       "      <td>0.0</td>\n",
       "      <td>0.0</td>\n",
       "      <td>0.0</td>\n",
       "      <td>0.000000</td>\n",
       "      <td>0.0</td>\n",
       "      <td>...</td>\n",
       "      <td>0.0</td>\n",
       "      <td>0.0</td>\n",
       "      <td>0.0</td>\n",
       "      <td>0.0</td>\n",
       "      <td>0.0</td>\n",
       "      <td>0.0</td>\n",
       "      <td>0.0</td>\n",
       "      <td>0.0</td>\n",
       "      <td>0.0</td>\n",
       "      <td>0.0</td>\n",
       "    </tr>\n",
       "    <tr>\n",
       "      <th>2</th>\n",
       "      <td>0.0</td>\n",
       "      <td>0.0</td>\n",
       "      <td>0.0</td>\n",
       "      <td>0.0</td>\n",
       "      <td>0.0</td>\n",
       "      <td>0.0</td>\n",
       "      <td>0.0</td>\n",
       "      <td>0.0</td>\n",
       "      <td>0.000000</td>\n",
       "      <td>0.0</td>\n",
       "      <td>...</td>\n",
       "      <td>0.0</td>\n",
       "      <td>0.0</td>\n",
       "      <td>0.0</td>\n",
       "      <td>0.0</td>\n",
       "      <td>0.0</td>\n",
       "      <td>0.0</td>\n",
       "      <td>0.0</td>\n",
       "      <td>0.0</td>\n",
       "      <td>0.0</td>\n",
       "      <td>0.0</td>\n",
       "    </tr>\n",
       "    <tr>\n",
       "      <th>3</th>\n",
       "      <td>0.0</td>\n",
       "      <td>0.0</td>\n",
       "      <td>0.0</td>\n",
       "      <td>0.0</td>\n",
       "      <td>0.0</td>\n",
       "      <td>0.0</td>\n",
       "      <td>0.0</td>\n",
       "      <td>0.0</td>\n",
       "      <td>0.000000</td>\n",
       "      <td>0.0</td>\n",
       "      <td>...</td>\n",
       "      <td>0.0</td>\n",
       "      <td>0.0</td>\n",
       "      <td>0.0</td>\n",
       "      <td>0.0</td>\n",
       "      <td>0.0</td>\n",
       "      <td>0.0</td>\n",
       "      <td>0.0</td>\n",
       "      <td>0.0</td>\n",
       "      <td>0.0</td>\n",
       "      <td>0.0</td>\n",
       "    </tr>\n",
       "    <tr>\n",
       "      <th>4</th>\n",
       "      <td>0.0</td>\n",
       "      <td>0.0</td>\n",
       "      <td>0.0</td>\n",
       "      <td>0.0</td>\n",
       "      <td>0.0</td>\n",
       "      <td>0.0</td>\n",
       "      <td>0.0</td>\n",
       "      <td>0.0</td>\n",
       "      <td>0.000000</td>\n",
       "      <td>0.0</td>\n",
       "      <td>...</td>\n",
       "      <td>0.0</td>\n",
       "      <td>0.0</td>\n",
       "      <td>0.0</td>\n",
       "      <td>0.0</td>\n",
       "      <td>0.0</td>\n",
       "      <td>0.0</td>\n",
       "      <td>0.0</td>\n",
       "      <td>0.0</td>\n",
       "      <td>0.0</td>\n",
       "      <td>0.0</td>\n",
       "    </tr>\n",
       "  </tbody>\n",
       "</table>\n",
       "<p>5 rows × 4342 columns</p>\n",
       "</div>"
      ],
      "text/plain": [
       "    00   10  10th  10x  11yr  128gb  13th   14        15  16g  ...  äôve   äù  \\\n",
       "0  0.0  0.0   0.0  0.0   0.0    0.0   0.0  0.0  0.219932  0.0  ...   0.0  0.0   \n",
       "1  0.0  0.0   0.0  0.0   0.0    0.0   0.0  0.0  0.000000  0.0  ...   0.0  0.0   \n",
       "2  0.0  0.0   0.0  0.0   0.0    0.0   0.0  0.0  0.000000  0.0  ...   0.0  0.0   \n",
       "3  0.0  0.0   0.0  0.0   0.0    0.0   0.0  0.0  0.000000  0.0  ...   0.0  0.0   \n",
       "4  0.0  0.0   0.0  0.0   0.0    0.0   0.0  0.0  0.000000  0.0  ...   0.0  0.0   \n",
       "\n",
       "   äúalexa  äúbest  äúdropping  äúdual  äúshow  äúskills  äústar  äúthings  \n",
       "0      0.0     0.0         0.0     0.0     0.0       0.0     0.0       0.0  \n",
       "1      0.0     0.0         0.0     0.0     0.0       0.0     0.0       0.0  \n",
       "2      0.0     0.0         0.0     0.0     0.0       0.0     0.0       0.0  \n",
       "3      0.0     0.0         0.0     0.0     0.0       0.0     0.0       0.0  \n",
       "4      0.0     0.0         0.0     0.0     0.0       0.0     0.0       0.0  \n",
       "\n",
       "[5 rows x 4342 columns]"
      ]
     },
     "execution_count": 51,
     "metadata": {},
     "output_type": "execute_result"
    }
   ],
   "source": [
    "# Convert the document vector matrix into dataframe (OPTIONAl Step..this is just to see the data)\n",
    "features_name=X_train_ds.get_feature_names()\n",
    "train_df=pd.DataFrame(X_train_bow.todense(),columns=features_name)\n",
    "train_df.head()"
   ]
  },
  {
   "cell_type": "markdown",
   "metadata": {},
   "source": [
    "#### Model building and testing using multinomial Naive Bayes classifier"
   ]
  },
  {
   "cell_type": "code",
   "execution_count": 52,
   "metadata": {},
   "outputs": [
    {
     "name": "stdout",
     "output_type": "stream",
     "text": [
      "train score is:0.93725 and test score is: 0.937\n",
      "classification_report TRAIN Data\n",
      "               precision    recall  f1-score   support\n",
      "\n",
      "    Negative       0.00      0.00      0.00        93\n",
      "     Neutral       0.00      0.00      0.00       158\n",
      "    Positive       0.94      1.00      0.97      3749\n",
      "\n",
      "    accuracy                           0.94      4000\n",
      "   macro avg       0.31      0.33      0.32      4000\n",
      "weighted avg       0.88      0.94      0.91      4000\n",
      "\n",
      "classification_report TEST Data\n",
      "               precision    recall  f1-score   support\n",
      "\n",
      "    Negative       0.00      0.00      0.00        24\n",
      "     Neutral       0.00      0.00      0.00        39\n",
      "    Positive       0.94      1.00      0.97       937\n",
      "\n",
      "    accuracy                           0.94      1000\n",
      "   macro avg       0.31      0.33      0.32      1000\n",
      "weighted avg       0.88      0.94      0.91      1000\n",
      "\n"
     ]
    }
   ],
   "source": [
    "#Model building using multinomial Naive Bayes classifier\n",
    "model_MNB = MultinomialNB()\n",
    "model_MNB.fit( X_train_bow.toarray(),y_train)\n",
    "\n",
    "#Get Train and Test Accuracy Score\n",
    "train_score=model_MNB.score(X_train_bow.toarray(),y_train)\n",
    "test_score=model_MNB.score(X_test_bow.toarray(),y_test)\n",
    "print('train score is:{} and test score is: {}'.format(train_score,test_score))\n",
    "\n",
    "#Get precision    recall  and f1-score\n",
    "cr=classification_report(y_true=y_train,y_pred=model_MNB.predict( X_train_bow.toarray() ))\n",
    "print('classification_report TRAIN Data\\n',cr)\n",
    "\n",
    "#Get precision    recall  and f1-score\n",
    "cr=classification_report(y_true=y_test,y_pred=model_MNB.predict( X_test_bow.toarray() ))\n",
    "print('classification_report TEST Data\\n',cr)"
   ]
  },
  {
   "cell_type": "code",
   "execution_count": 53,
   "metadata": {},
   "outputs": [
    {
     "data": {
      "text/plain": [
       "array(['Positive', 'Positive', 'Positive', 'Positive', 'Positive',\n",
       "       'Positive', 'Positive', 'Positive', 'Positive', 'Positive',\n",
       "       'Positive', 'Positive', 'Positive', 'Positive', 'Positive',\n",
       "       'Positive', 'Positive', 'Positive', 'Positive', 'Positive',\n",
       "       'Positive', 'Positive', 'Positive', 'Positive', 'Positive',\n",
       "       'Positive', 'Positive', 'Positive', 'Positive', 'Positive',\n",
       "       'Positive', 'Positive', 'Positive', 'Positive', 'Positive',\n",
       "       'Positive', 'Positive', 'Positive', 'Positive', 'Positive',\n",
       "       'Positive', 'Positive', 'Positive', 'Positive', 'Positive',\n",
       "       'Positive', 'Positive', 'Positive', 'Positive', 'Positive'],\n",
       "      dtype='<U8')"
      ]
     },
     "execution_count": 53,
     "metadata": {},
     "output_type": "execute_result"
    }
   ],
   "source": [
    "# Prediction\n",
    "test_ds_predicted = model_MNB.predict( X_test_bow.toarray() )\n",
    "test_ds_predicted[0:50]\n",
    "\n",
    "# as seen belw :Everything is  predicted as positive because of the class imbalance"
   ]
  },
  {
   "cell_type": "markdown",
   "metadata": {},
   "source": [
    "#### Observation - 1\n",
    "\n",
    "> Everything is  predicted as positive because of the class imbalance.\n"
   ]
  },
  {
   "cell_type": "markdown",
   "metadata": {},
   "source": [
    "## Project Task: Week 2\n",
    "\n",
    "**Tackling Class Imbalance Problem:**\n",
    "    \n",
    "1. Oversampling or undersampling can be used to tackle the class imbalance problem. \n",
    "\n",
    "2. In case of class imbalance criteria, use the following metrices for evaluating model performance: precision, recall, F1-score, AUC-ROC curve. Use F1-Score as the evaluation criteria for this project.\n",
    "\n",
    "3. Use Tree-based classifiers like Random Forest and XGBoost.\n",
    "\n",
    "**Note**: Tree-based classifiers work on two ideologies namely, Bagging or Boosting and have fine-tuning parameter which takes care of the imbalanced class\n",
    "\n",
    "\n",
    "### Code :"
   ]
  },
  {
   "cell_type": "markdown",
   "metadata": {},
   "source": [
    "#### Code for over sampling approach"
   ]
  },
  {
   "cell_type": "code",
   "execution_count": 54,
   "metadata": {},
   "outputs": [
    {
     "name": "stdout",
     "output_type": "stream",
     "text": [
      "length of X_train_bow and y_train before Oversampling 4000 4000\n",
      "length of X_test_bow and y_test before Oversampling 1000 1000\n",
      "length of X_train_bow and y_train after Oversampling 11247 11247\n",
      "length of X_test_bow and y_test after Oversampling 2811 2811\n"
     ]
    },
    {
     "data": {
      "text/plain": [
       "<matplotlib.axes._subplots.AxesSubplot at 0x2af245c4748>"
      ]
     },
     "execution_count": 54,
     "metadata": {},
     "output_type": "execute_result"
    },
    {
     "data": {
      "image/png": "[encoded data removed]",
      "text/plain": [
       "<Figure size 432x288 with 1 Axes>"
      ]
     },
     "metadata": {
      "needs_background": "light"
     },
     "output_type": "display_data"
    }
   ],
   "source": [
    "from imblearn.over_sampling import SMOTE\n",
    "print('length of X_train_bow and y_train before Oversampling',X_train_bow.shape[0],len(y_train))\n",
    "print('length of X_test_bow and y_test before Oversampling',X_test_bow.shape[0],len(y_test))\n",
    "\n",
    "OS=SMOTE(random_state=42)\n",
    "X_train_bow_OS,y_train_OS=OS.fit_resample(X_train_bow,y_train)\n",
    "X_test_bow_OS,y_test_OS=OS.fit_resample(X_test_bow,y_test)\n",
    "\n",
    "print('length of X_train_bow and y_train after Oversampling',X_train_bow_OS.shape[0],len(y_train_OS))\n",
    "\n",
    "print('length of X_test_bow and y_test after Oversampling',X_test_bow_OS.shape[0],len(y_test_OS))\n",
    "\n",
    "#Check for data balance\n",
    "sns.countplot(x=y_train_OS)"
   ]
  },
  {
   "cell_type": "markdown",
   "metadata": {},
   "source": [
    "#### Code for under sampling approach"
   ]
  },
  {
   "cell_type": "code",
   "execution_count": 55,
   "metadata": {},
   "outputs": [
    {
     "name": "stdout",
     "output_type": "stream",
     "text": [
      "length of X_train_bow and y_train before Undersampling 4000 4000\n",
      "length of X_test_bow and y_test before Undersampling 1000 1000\n",
      "length of X_train_bow and y_train after Undersampling 279 279\n",
      "length of X_test_bow and y_test after Undersampling 72 72\n"
     ]
    },
    {
     "data": {
      "text/plain": [
       "<matplotlib.axes._subplots.AxesSubplot at 0x2af19cf0ec8>"
      ]
     },
     "execution_count": 55,
     "metadata": {},
     "output_type": "execute_result"
    },
    {
     "data": {
      "image/png": "[encoded data removed]",
      "text/plain": [
       "<Figure size 432x288 with 1 Axes>"
      ]
     },
     "metadata": {
      "needs_background": "light"
     },
     "output_type": "display_data"
    }
   ],
   "source": [
    "from imblearn.under_sampling import RandomUnderSampler,NearMiss\n",
    "print('length of X_train_bow and y_train before Undersampling',X_train_bow.shape[0],len(y_train))\n",
    "print('length of X_test_bow and y_test before Undersampling',X_test_bow.shape[0],len(y_test))\n",
    "\n",
    "US=NearMiss()\n",
    "X_train_bow_US,y_train_US=US.fit_resample(X_train_bow,y_train)\n",
    "X_test_bow_US,y_test_US=US.fit_resample(X_test_bow,y_test)\n",
    "\n",
    "print('length of X_train_bow and y_train after Undersampling',X_train_bow_US.shape[0],len(y_train_US))\n",
    "print('length of X_test_bow and y_test after Undersampling',X_test_bow_US.shape[0],len(y_test_US))\n",
    "\n",
    "#Check for data balance\n",
    "sns.countplot(x=y_train_US)"
   ]
  },
  {
   "cell_type": "markdown",
   "metadata": {},
   "source": [
    "#### Approach-1: Use of multinomial Naive Bayes classifier with Oversampling data"
   ]
  },
  {
   "cell_type": "code",
   "execution_count": 56,
   "metadata": {},
   "outputs": [
    {
     "name": "stdout",
     "output_type": "stream",
     "text": [
      "train score is:0.9718147061438606 \n",
      "test score is:0.6125933831376734 \n",
      "classification_report TRAIN Data\n",
      "               precision    recall  f1-score   support\n",
      "\n",
      "    Negative       0.98      1.00      0.99      3749\n",
      "     Neutral       0.95      1.00      0.97      3749\n",
      "    Positive       1.00      0.92      0.96      3749\n",
      "\n",
      "    accuracy                           0.97     11247\n",
      "   macro avg       0.97      0.97      0.97     11247\n",
      "weighted avg       0.97      0.97      0.97     11247\n",
      "\n",
      "classification_report TEST Data\n",
      "               precision    recall  f1-score   support\n",
      "\n",
      "    Negative       0.87      0.53      0.66       937\n",
      "     Neutral       0.61      0.43      0.51       937\n",
      "    Positive       0.52      0.88      0.65       937\n",
      "\n",
      "    accuracy                           0.61      2811\n",
      "   macro avg       0.67      0.61      0.61      2811\n",
      "weighted avg       0.67      0.61      0.61      2811\n",
      "\n",
      "Wall time: 929 ms\n"
     ]
    }
   ],
   "source": [
    "%%time\n",
    "#Model building using multinomial Naive Bayes classifier\n",
    "model_MNB_OS = MultinomialNB()\n",
    "model_MNB_OS.fit( X_train_bow_OS.toarray(),y_train_OS)\n",
    "\n",
    "#Get Train and Test Accuracy Score\n",
    "train_score=model_MNB_OS.score(X_train_bow_OS.toarray(),y_train_OS)\n",
    "test_score=model_MNB_OS.score(X_test_bow_OS.toarray(),y_test_OS)\n",
    "print('train score is:{} '.format(train_score))\n",
    "print('test score is:{} '.format(test_score))\n",
    "\n",
    "#Get precision    recall  and f1-score on Train data\n",
    "cr=classification_report(y_true=y_train_OS,y_pred=model_MNB_OS.predict( X_train_bow_OS.toarray() ))\n",
    "print('classification_report TRAIN Data\\n',cr)\n",
    "\n",
    "#Get precision    recall  and f1-score on Test data\n",
    "cr=classification_report(y_true=y_test_OS,y_pred=model_MNB_OS.predict( X_test_bow_OS.toarray() ))\n",
    "print('classification_report TEST Data\\n',cr)"
   ]
  },
  {
   "cell_type": "code",
   "execution_count": 57,
   "metadata": {},
   "outputs": [
    {
     "data": {
      "text/plain": [
       "array(['Positive', 'Positive', 'Positive', 'Positive', 'Positive',\n",
       "       'Positive', 'Positive', 'Positive', 'Positive', 'Positive',\n",
       "       'Positive', 'Positive', 'Positive', 'Positive', 'Positive',\n",
       "       'Negative', 'Positive', 'Positive', 'Positive', 'Positive',\n",
       "       'Positive', 'Negative', 'Positive', 'Positive', 'Positive',\n",
       "       'Positive', 'Positive', 'Neutral', 'Positive', 'Positive',\n",
       "       'Positive', 'Positive', 'Negative', 'Positive', 'Positive',\n",
       "       'Positive', 'Positive', 'Positive', 'Positive', 'Positive',\n",
       "       'Positive', 'Positive', 'Positive', 'Positive', 'Neutral',\n",
       "       'Positive', 'Positive', 'Positive', 'Negative', 'Positive'],\n",
       "      dtype='<U8')"
      ]
     },
     "execution_count": 57,
     "metadata": {},
     "output_type": "execute_result"
    }
   ],
   "source": [
    "# Prediction\n",
    "test_ds_predicted = model_MNB_OS.predict( X_test_bow_OS.toarray() )\n",
    "test_ds_predicted[0:50]"
   ]
  },
  {
   "cell_type": "markdown",
   "metadata": {},
   "source": [
    "#### Prepare  roc and auc score"
   ]
  },
  {
   "cell_type": "code",
   "execution_count": 59,
   "metadata": {},
   "outputs": [
    {
     "name": "stdout",
     "output_type": "stream",
     "text": [
      "roc_auc_score: 0.8979081265967248\n",
      "roc_auc_score: 0.7256622955935802\n",
      "roc_auc_score: 0.8987834422399881\n"
     ]
    },
    {
     "data": {
      "image/png": "[encoded data removed]",
      "text/plain": [
       "<Figure size 432x288 with 1 Axes>"
      ]
     },
     "metadata": {
      "needs_background": "light"
     },
     "output_type": "display_data"
    },
    {
     "data": {
      "image/png": "[encoded data removed]",
      "text/plain": [
       "<Figure size 432x288 with 1 Axes>"
      ]
     },
     "metadata": {
      "needs_background": "light"
     },
     "output_type": "display_data"
    },
    {
     "data": {
      "image/png": "[encoded data removed]",
      "text/plain": [
       "<Figure size 432x288 with 1 Axes>"
      ]
     },
     "metadata": {
      "needs_background": "light"
     },
     "output_type": "display_data"
    }
   ],
   "source": [
    "#Since this is a multi-class classificationm we need to ensure our labels follow binary classification logic\n",
    "#To achieve this target we can use OneVsRestClassifier\n",
    "#Requirement of OneVsRestClassifier is:\n",
    "# 1. labels must be numeric in nature\n",
    "# 2. model algo must support either predict_proba and decision_function\n",
    "\n",
    "\n",
    "#Lets first encode our labels\n",
    "from sklearn.preprocessing import label_binarize\n",
    "\n",
    "y_train_lb = label_binarize(y_train_OS, classes=['Negative','Neutral','Positive'])\n",
    "y_test_lb = label_binarize(y_test_OS, classes=['Negative','Neutral','Positive'])\n",
    "\n",
    "n_classes = y_train_lb.shape[1]\n",
    "\n",
    "#Create NaiveBayes OneVsRestClassifier Model\n",
    "from sklearn.multiclass import OneVsRestClassifier\n",
    "\n",
    "multiClassModel = OneVsRestClassifier(MultinomialNB())\n",
    "y_score = multiClassModel.fit(X_train_bow_OS.toarray(),y_train_lb).predict_proba(X_test_bow_OS.toarray())\n",
    "\n",
    "##############################################################################################################\n",
    "#Plot ROC-AUC\n",
    "from sklearn.metrics import roc_curve\n",
    "from sklearn.metrics import roc_auc_score\n",
    "import matplotlib.pyplot as plt\n",
    "%matplotlib inline\n",
    "\n",
    "fpr=dict()\n",
    "tpr=dict()\n",
    "auc =dict()\n",
    "\n",
    "for i in range(n_classes):\n",
    "    fpr[i],tpr[i],_ = roc_curve(y_test_lb[:,i], y_score[:,i])\n",
    "    auc[i] = roc_auc_score(y_test_lb[:,i], y_score[:,i])\n",
    "\n",
    "for i in range(n_classes):\n",
    "    plt.figure()\n",
    "    print('roc_auc_score:',auc[i])\n",
    "    plt.plot([0,1],[0,1], linestyle = '--')\n",
    "    plt.plot(fpr[i],tpr[i])"
   ]
  },
  {
   "cell_type": "markdown",
   "metadata": {},
   "source": [
    "#### Approach-2:Use of multinomial Naive Bayes classifier with  Undersampling Data"
   ]
  },
  {
   "cell_type": "code",
   "execution_count": 60,
   "metadata": {},
   "outputs": [
    {
     "name": "stdout",
     "output_type": "stream",
     "text": [
      "train score is:0.9498207885304659 \n",
      "test score is:0.7083333333333334 \n",
      "classification_report TRAIN Data\n",
      "               precision    recall  f1-score   support\n",
      "\n",
      "    Negative       1.00      0.90      0.95        93\n",
      "     Neutral       0.99      0.96      0.97        93\n",
      "    Positive       0.88      0.99      0.93        93\n",
      "\n",
      "    accuracy                           0.95       279\n",
      "   macro avg       0.96      0.95      0.95       279\n",
      "weighted avg       0.96      0.95      0.95       279\n",
      "\n",
      "classification_report TEST Data\n",
      "               precision    recall  f1-score   support\n",
      "\n",
      "    Negative       0.69      0.75      0.72        24\n",
      "     Neutral       0.68      0.62      0.65        24\n",
      "    Positive       0.75      0.75      0.75        24\n",
      "\n",
      "    accuracy                           0.71        72\n",
      "   macro avg       0.71      0.71      0.71        72\n",
      "weighted avg       0.71      0.71      0.71        72\n",
      "\n"
     ]
    }
   ],
   "source": [
    "#Model building using multinomial Naive Bayes classifier\n",
    "model_MNB = MultinomialNB()\n",
    "model_MNB.fit( X_train_bow_US.toarray(),y_train_US)\n",
    "\n",
    "#Get Train and Test Accuracy Score\n",
    "train_score=model_MNB.score(X_train_bow_US.toarray(),y_train_US)\n",
    "test_score=model_MNB.score(X_test_bow_US.toarray(),y_test_US)\n",
    "print('train score is:{} '.format(train_score))\n",
    "print('test score is:{} '.format(test_score))\n",
    "\n",
    "#Get precision    recall  and f1-score on Train data\n",
    "cr=classification_report(y_true=y_train_US,y_pred=model_MNB.predict( X_train_bow_US.toarray() ))\n",
    "print('classification_report TRAIN Data\\n',cr)\n",
    "\n",
    "#Get precision    recall  and f1-score on Test data\n",
    "cr=classification_report(y_true=y_test_US,y_pred=model_MNB.predict( X_test_bow_US.toarray() ))\n",
    "print('classification_report TEST Data\\n',cr)"
   ]
  },
  {
   "cell_type": "markdown",
   "metadata": {},
   "source": [
    "#### Prepare  roc and auc score"
   ]
  },
  {
   "cell_type": "code",
   "execution_count": 62,
   "metadata": {},
   "outputs": [
    {
     "name": "stdout",
     "output_type": "stream",
     "text": [
      "roc_auc_score: 0.8585069444444444\n",
      "roc_auc_score: 0.7109375\n",
      "roc_auc_score: 0.7899305555555556\n"
     ]
    },
    {
     "data": {
      "image/png": "[encoded data removed]",
      "text/plain": [
       "<Figure size 432x288 with 1 Axes>"
      ]
     },
     "metadata": {
      "needs_background": "light"
     },
     "output_type": "display_data"
    },
    {
     "data": {
      "image/png": "[encoded data removed]",
      "text/plain": [
       "<Figure size 432x288 with 1 Axes>"
      ]
     },
     "metadata": {
      "needs_background": "light"
     },
     "output_type": "display_data"
    },
    {
     "data": {
      "image/png": "[encoded data removed]",
      "text/plain": [
       "<Figure size 432x288 with 1 Axes>"
      ]
     },
     "metadata": {
      "needs_background": "light"
     },
     "output_type": "display_data"
    }
   ],
   "source": [
    "#Since this is a multi-class classificationm we need to ensure our labels follow binary classification logic\n",
    "#To achieve this target we can use OneVsRestClassifier\n",
    "#Requirement of OneVsRestClassifier is:\n",
    "# 1. labels must be numeric in nature\n",
    "# 2. model algo must support either predict_proba and decision_function\n",
    "\n",
    "\n",
    "#Lets first encode our labels\n",
    "from sklearn.preprocessing import label_binarize\n",
    "\n",
    "y_train_lb = label_binarize(y_train_US, classes=['Negative','Neutral','Positive'])\n",
    "y_test_lb = label_binarize(y_test_US, classes=['Negative','Neutral','Positive'])\n",
    "\n",
    "n_classes = y_train_lb.shape[1]\n",
    "\n",
    "#Create NaiveBayes OneVsRestClassifier Model\n",
    "from sklearn.multiclass import OneVsRestClassifier\n",
    "\n",
    "multiClassModel = OneVsRestClassifier(MultinomialNB())\n",
    "y_score = multiClassModel.fit(X_train_bow_US.toarray(),y_train_lb).predict_proba(X_test_bow_US.toarray())\n",
    "\n",
    "##############################################################################################################\n",
    "#Plot ROC-AUC\n",
    "from sklearn.metrics import roc_curve\n",
    "from sklearn.metrics import roc_auc_score\n",
    "import matplotlib.pyplot as plt\n",
    "%matplotlib inline\n",
    "\n",
    "fpr=dict()\n",
    "tpr=dict()\n",
    "auc =dict()\n",
    "\n",
    "for i in range(n_classes):\n",
    "    fpr[i],tpr[i],_ = roc_curve(y_test_lb[:,i], y_score[:,i])\n",
    "    auc[i] = roc_auc_score(y_test_lb[:,i], y_score[:,i])\n",
    "\n",
    "for i in range(n_classes):\n",
    "    plt.figure()\n",
    "    print('roc_auc_score:',auc[i])\n",
    "    plt.plot([0,1],[0,1], linestyle = '--')\n",
    "    plt.plot(fpr[i],tpr[i])"
   ]
  },
  {
   "cell_type": "markdown",
   "metadata": {},
   "source": [
    "#### Approach-3:Use of Logistic Regression  with Oversampling Data"
   ]
  },
  {
   "cell_type": "code",
   "execution_count": 63,
   "metadata": {},
   "outputs": [
    {
     "name": "stdout",
     "output_type": "stream",
     "text": [
      "train score is:0.9936872054770161 \n",
      "test score is:0.6318036286019211 \n",
      "classification_report TRAIN Data\n",
      "               precision    recall  f1-score   support\n",
      "\n",
      "    Negative       1.00      1.00      1.00      3749\n",
      "     Neutral       0.99      1.00      0.99      3749\n",
      "    Positive       1.00      0.98      0.99      3749\n",
      "\n",
      "    accuracy                           0.99     11247\n",
      "   macro avg       0.99      0.99      0.99     11247\n",
      "weighted avg       0.99      0.99      0.99     11247\n",
      "\n",
      "classification_report TEST Data\n",
      "               precision    recall  f1-score   support\n",
      "\n",
      "    Negative       0.93      0.52      0.67       937\n",
      "     Neutral       0.73      0.41      0.53       937\n",
      "    Positive       0.51      0.96      0.67       937\n",
      "\n",
      "    accuracy                           0.63      2811\n",
      "   macro avg       0.72      0.63      0.62      2811\n",
      "weighted avg       0.72      0.63      0.62      2811\n",
      "\n",
      "Wall time: 5.39 s\n"
     ]
    }
   ],
   "source": [
    "%%time\n",
    "#Model building using LogisticRegression\n",
    "from sklearn.linear_model import LogisticRegression\n",
    "model_LR_OS=LogisticRegression()\n",
    "\n",
    "model_LR_OS.fit( X_train_bow_OS.toarray(),y_train_OS)\n",
    "\n",
    "#Get Train and Test Accuracy Score\n",
    "train_score=model_LR_OS.score(X_train_bow_OS.toarray(),y_train_OS)\n",
    "test_score=model_LR_OS.score(X_test_bow_OS.toarray(),y_test_OS)\n",
    "print('train score is:{} '.format(train_score))\n",
    "print('test score is:{} '.format(test_score))\n",
    "\n",
    "#Get precision    recall  and f1-score on Train data\n",
    "cr=classification_report(y_true=y_train_OS,y_pred=model_LR_OS.predict( X_train_bow_OS.toarray() ))\n",
    "print('classification_report TRAIN Data\\n',cr)\n",
    "\n",
    "#Get precision    recall  and f1-score on Test data\n",
    "cr=classification_report(y_true=y_test_OS,y_pred=model_LR_OS.predict( X_test_bow_OS.toarray() ))\n",
    "print('classification_report TEST Data\\n',cr)"
   ]
  },
  {
   "cell_type": "markdown",
   "metadata": {},
   "source": [
    "#### Prepare  roc and auc score"
   ]
  },
  {
   "cell_type": "code",
   "execution_count": 33,
   "metadata": {},
   "outputs": [
    {
     "name": "stdout",
     "output_type": "stream",
     "text": [
      "roc_auc_score: 0.9200535554216607\n",
      "roc_auc_score: 0.758722688386492\n",
      "roc_auc_score: 0.9138534504065633\n"
     ]
    },
    {
     "data": {
      "image/png": "[encoded data removed]",
      "text/plain": [
       "<Figure size 432x288 with 1 Axes>"
      ]
     },
     "metadata": {
      "needs_background": "light"
     },
     "output_type": "display_data"
    },
    {
     "data": {
      "image/png": "[encoded data removed]",
      "text/plain": [
       "<Figure size 432x288 with 1 Axes>"
      ]
     },
     "metadata": {
      "needs_background": "light"
     },
     "output_type": "display_data"
    },
    {
     "data": {
      "image/png": "[encoded data removed]",
      "text/plain": [
       "<Figure size 432x288 with 1 Axes>"
      ]
     },
     "metadata": {
      "needs_background": "light"
     },
     "output_type": "display_data"
    }
   ],
   "source": [
    "%%time\n",
    "#Since this is a multi-class classificationm we need to ensure our labels follow binary classification logic\n",
    "#To achieve this target we can use OneVsRestClassifier\n",
    "#Requirement of OneVsRestClassifier is:\n",
    "# 1. labels must be numeric in nature\n",
    "# 2. model algo must support either predict_proba and decision_function\n",
    "\n",
    "\n",
    "#Lets first encode our labels\n",
    "from sklearn.preprocessing import label_binarize\n",
    "\n",
    "y_train_lb = label_binarize(y_train_OS, classes=['Negative','Neutral','Positive'])\n",
    "y_test_lb = label_binarize(y_test_OS, classes=['Negative','Neutral','Positive'])\n",
    "\n",
    "n_classes = y_train_lb.shape[1]\n",
    "\n",
    "#Create NaiveBayes OneVsRestClassifier Model\n",
    "from sklearn.multiclass import OneVsRestClassifier\n",
    "\n",
    "multiClassModel = OneVsRestClassifier(LogisticRegression())\n",
    "y_score = multiClassModel.fit(X_train_bow_OS.toarray(),y_train_lb).predict_proba(X_test_bow_OS.toarray())\n",
    "\n",
    "##############################################################################################################\n",
    "#Plot ROC-AUC\n",
    "from sklearn.metrics import roc_curve\n",
    "from sklearn.metrics import roc_auc_score\n",
    "import matplotlib.pyplot as plt\n",
    "%matplotlib inline\n",
    "\n",
    "fpr=dict()\n",
    "tpr=dict()\n",
    "auc =dict()\n",
    "\n",
    "for i in range(n_classes):\n",
    "    fpr[i],tpr[i],_ = roc_curve(y_test_lb[:,i], y_score[:,i])\n",
    "    auc[i] = roc_auc_score(y_test_lb[:,i], y_score[:,i])\n",
    "\n",
    "for i in range(n_classes):\n",
    "    plt.figure()\n",
    "    print('roc_auc_score:',auc[i])\n",
    "    plt.plot([0,1],[0,1], linestyle = '--')\n",
    "    plt.plot(fpr[i],tpr[i])"
   ]
  },
  {
   "cell_type": "markdown",
   "metadata": {},
   "source": [
    "#### Approach-4: Use of Logistic Regression with  Undersampling Data"
   ]
  },
  {
   "cell_type": "code",
   "execution_count": 123,
   "metadata": {},
   "outputs": [
    {
     "name": "stdout",
     "output_type": "stream",
     "text": [
      "train score is:0.989247311827957 \n",
      "test score is:0.6666666666666666 \n",
      "classification_report TRAIN Data\n",
      "               precision    recall  f1-score   support\n",
      "\n",
      "    Negative       1.00      0.98      0.99        93\n",
      "     Neutral       0.99      1.00      0.99        93\n",
      "    Positive       0.98      0.99      0.98        93\n",
      "\n",
      "    accuracy                           0.99       279\n",
      "   macro avg       0.99      0.99      0.99       279\n",
      "weighted avg       0.99      0.99      0.99       279\n",
      "\n",
      "classification_report Test Data\n",
      "               precision    recall  f1-score   support\n",
      "\n",
      "    Negative       0.63      0.79      0.70        24\n",
      "     Neutral       0.62      0.67      0.64        24\n",
      "    Positive       0.81      0.54      0.65        24\n",
      "\n",
      "    accuracy                           0.67        72\n",
      "   macro avg       0.69      0.67      0.66        72\n",
      "weighted avg       0.69      0.67      0.66        72\n",
      "\n"
     ]
    }
   ],
   "source": [
    "#Model building using multinomial LogisticRegression\n",
    "model_LR = LogisticRegression()\n",
    "model_LR.fit( X_train_bow_US.toarray(),y_train_US)\n",
    "\n",
    "#Get Train and Test Accuracy Score\n",
    "train_score=model_LR.score(X_train_bow_US.toarray(),y_train_US)\n",
    "test_score=model_LR.score(X_test_bow_US.toarray(),y_test_US)\n",
    "print('train score is:{} '.format(train_score))\n",
    "print('test score is:{} '.format(test_score))\n",
    "\n",
    "#Get precision    recall  and f1-score on Train data\n",
    "cr=classification_report(y_true=y_train_US,y_pred=model_LR.predict( X_train_bow_US.toarray() ))\n",
    "print('classification_report TRAIN Data\\n',cr)\n",
    "\n",
    "#Get precision    recall  and f1-score on Test data\n",
    "cr=classification_report(y_true=y_test_US,y_pred=model_LR.predict( X_test_bow_US.toarray() ))\n",
    "print('classification_report Test Data\\n',cr)"
   ]
  },
  {
   "cell_type": "markdown",
   "metadata": {},
   "source": [
    "#### Prepare  roc and auc score"
   ]
  },
  {
   "cell_type": "code",
   "execution_count": 35,
   "metadata": {},
   "outputs": [
    {
     "name": "stdout",
     "output_type": "stream",
     "text": [
      "roc_auc_score: 0.8776041666666666\n",
      "roc_auc_score: 0.7682291666666667\n",
      "roc_auc_score: 0.8342013888888888\n"
     ]
    },
    {
     "data": {
      "image/png": "[encoded data removed]",
      "text/plain": [
       "<Figure size 432x288 with 1 Axes>"
      ]
     },
     "metadata": {
      "needs_background": "light"
     },
     "output_type": "display_data"
    },
    {
     "data": {
      "image/png": "[encoded data removed]",
      "text/plain": [
       "<Figure size 432x288 with 1 Axes>"
      ]
     },
     "metadata": {
      "needs_background": "light"
     },
     "output_type": "display_data"
    },
    {
     "data": {
      "image/png": "[encoded data removed]",
      "text/plain": [
       "<Figure size 432x288 with 1 Axes>"
      ]
     },
     "metadata": {
      "needs_background": "light"
     },
     "output_type": "display_data"
    }
   ],
   "source": [
    "#Since this is a multi-class classificationm we need to ensure our labels follow binary classification logic\n",
    "#To achieve this target we can use OneVsRestClassifier\n",
    "#Requirement of OneVsRestClassifier is:\n",
    "# 1. labels must be numeric in nature\n",
    "# 2. model algo must support either predict_proba and decision_function\n",
    "\n",
    "\n",
    "#Lets first encode our labels\n",
    "from sklearn.preprocessing import label_binarize\n",
    "\n",
    "y_train_lb = label_binarize(y_train_US, classes=['Negative','Neutral','Positive'])\n",
    "y_test_lb = label_binarize(y_test_US, classes=['Negative','Neutral','Positive'])\n",
    "\n",
    "n_classes = y_train_lb.shape[1]\n",
    "\n",
    "#Create NaiveBayes OneVsRestClassifier Model\n",
    "from sklearn.multiclass import OneVsRestClassifier\n",
    "\n",
    "multiClassModel = OneVsRestClassifier(LogisticRegression())\n",
    "y_score = multiClassModel.fit(X_train_bow_US.toarray(),y_train_lb).predict_proba(X_test_bow_US.toarray())\n",
    "\n",
    "##############################################################################################################\n",
    "#Plot ROC-AUC\n",
    "from sklearn.metrics import roc_curve\n",
    "from sklearn.metrics import roc_auc_score\n",
    "import matplotlib.pyplot as plt\n",
    "%matplotlib inline\n",
    "\n",
    "fpr=dict()\n",
    "tpr=dict()\n",
    "auc =dict()\n",
    "\n",
    "for i in range(n_classes):\n",
    "    fpr[i],tpr[i],_ = roc_curve(y_test_lb[:,i], y_score[:,i])\n",
    "    auc[i] = roc_auc_score(y_test_lb[:,i], y_score[:,i])\n",
    "\n",
    "for i in range(n_classes):\n",
    "    plt.figure()\n",
    "    print('roc_auc_score:',auc[i])\n",
    "    plt.plot([0,1],[0,1], linestyle = '--')\n",
    "    plt.plot(fpr[i],tpr[i])"
   ]
  },
  {
   "cell_type": "markdown",
   "metadata": {},
   "source": [
    "#### Approach-5: Use of Tree-based classifiers - RandomForestClassifier"
   ]
  },
  {
   "cell_type": "code",
   "execution_count": 64,
   "metadata": {},
   "outputs": [
    {
     "name": "stdout",
     "output_type": "stream",
     "text": [
      "train score is:1.0 and test score is: 0.954\n",
      "classification_report TRAIN Data\n",
      "               precision    recall  f1-score   support\n",
      "\n",
      "    Negative       1.00      1.00      1.00        93\n",
      "     Neutral       1.00      1.00      1.00       158\n",
      "    Positive       1.00      1.00      1.00      3749\n",
      "\n",
      "    accuracy                           1.00      4000\n",
      "   macro avg       1.00      1.00      1.00      4000\n",
      "weighted avg       1.00      1.00      1.00      4000\n",
      "\n",
      "classification_report TEST Data\n",
      "               precision    recall  f1-score   support\n",
      "\n",
      "    Negative       1.00      0.29      0.45        24\n",
      "     Neutral       1.00      0.26      0.41        39\n",
      "    Positive       0.95      1.00      0.98       937\n",
      "\n",
      "    accuracy                           0.95      1000\n",
      "   macro avg       0.98      0.52      0.61      1000\n",
      "weighted avg       0.96      0.95      0.94      1000\n",
      "\n",
      "Wall time: 14.6 s\n"
     ]
    }
   ],
   "source": [
    "%%time\n",
    "from sklearn.ensemble import RandomForestClassifier\n",
    "#class_weight : {\"balanced\", \"balanced_subsample\"}\n",
    "# Model building using Random Forest classifier\n",
    "model_RFC=RandomForestClassifier(n_estimators=200,class_weight='balanced')\n",
    "model_RFC.fit( X_train_bow.toarray(),y_train)\n",
    "\n",
    "#Get Train and Test Accuracy Score\n",
    "train_score=model_RFC.score(X_train_bow.toarray(),y_train)\n",
    "test_score=model_RFC.score(X_test_bow.toarray(),y_test)\n",
    "print('train score is:{} and test score is: {}'.format(train_score,test_score))\n",
    "\n",
    "#Get precision    recall  and f1-score on Train data\n",
    "cr=classification_report(y_true=y_train,y_pred=model_RFC.predict( X_train_bow.toarray() ))\n",
    "print('classification_report TRAIN Data\\n',cr)\n",
    "\n",
    "#Get precision    recall  and f1-score on Test data\n",
    "cr=classification_report(y_true=y_test,y_pred=model_RFC.predict( X_test_bow.toarray() ))\n",
    "print('classification_report TEST Data\\n',cr)"
   ]
  },
  {
   "cell_type": "markdown",
   "metadata": {},
   "source": [
    "#### Approach-6: Use of Tree-based classifiers - XGBoost Classifier"
   ]
  },
  {
   "cell_type": "code",
   "execution_count": 125,
   "metadata": {},
   "outputs": [
    {
     "name": "stdout",
     "output_type": "stream",
     "text": [
      "[11:15:34] WARNING: C:\\Users\\Administrator\\workspace\\xgboost-win64_release_1.1.0\\src\\learner.cc:480: \n",
      "Parameters: { scale_pos_weight } might not be used.\n",
      "\n",
      "  This may not be accurate due to some parameters are only used in language bindings but\n",
      "  passed down to XGBoost core.  Or some parameters are not used but slip through this\n",
      "  verification. Please open an issue if you find above cases.\n",
      "\n",
      "\n",
      "train score is:0.9905 and test score is: 0.953\n",
      "classification_report TRAIN Data\n",
      "               precision    recall  f1-score   support\n",
      "\n",
      "    Negative       1.00      0.96      0.98        93\n",
      "     Neutral       1.00      0.78      0.88       158\n",
      "    Positive       0.99      1.00      0.99      3749\n",
      "\n",
      "    accuracy                           0.99      4000\n",
      "   macro avg       1.00      0.91      0.95      4000\n",
      "weighted avg       0.99      0.99      0.99      4000\n",
      "\n",
      "classification_report TEST Data\n",
      "               precision    recall  f1-score   support\n",
      "\n",
      "    Negative       0.90      0.38      0.53        24\n",
      "     Neutral       0.71      0.26      0.38        39\n",
      "    Positive       0.96      1.00      0.98       937\n",
      "\n",
      "    accuracy                           0.95      1000\n",
      "   macro avg       0.86      0.54      0.63      1000\n",
      "weighted avg       0.95      0.95      0.94      1000\n",
      "\n",
      "Wall time: 1min 18s\n"
     ]
    }
   ],
   "source": [
    "%%time\n",
    "\n",
    "# Model building using XGBoost Classifier\n",
    "model_XGBC=XGBClassifier(scale_pos_weight=98)\n",
    "model_XGBC.fit( X_train_bow.toarray(),y_train)\n",
    "\n",
    "#Get Train and Test Accuracy Score\n",
    "train_score=model_XGBC.score(X_train_bow.toarray(),y_train)\n",
    "test_score=model_XGBC.score(X_test_bow.toarray(),y_test)\n",
    "print('train score is:{} and test score is: {}'.format(train_score,test_score))\n",
    "\n",
    "#Note:The XGBoost documentation suggests a fast way to estimate scale_pos_weight value \n",
    "#using the training dataset as the total number of examples in the majority class \n",
    "#divided by the total number of examples in the minority class\n",
    "\n",
    "#Get precision    recall  and f1-score on Train data\n",
    "cr=classification_report(y_true=y_train,y_pred=model_XGBC.predict( X_train_bow.toarray() ))\n",
    "print('classification_report TRAIN Data\\n',cr)\n",
    "\n",
    "#Get precision    recall  and f1-score on Test data\n",
    "cr=classification_report(y_true=y_test,y_pred=model_XGBC.predict( X_test_bow.toarray() ))\n",
    "print('classification_report TEST Data\\n',cr)"
   ]
  },
  {
   "cell_type": "markdown",
   "metadata": {},
   "source": [
    "#### Observation:\n",
    "\n",
    "**Summary of Model Testing and Evaluation at end of Week-2**\n",
    "\n",
    "| Approach | Avg. F-1 Score(Train) | Avg. F-1 Score(Test) | Wt.Avg. F-1 Score(Test) | Accuracy(Test) |\n",
    "| :--- | :---: | :---: | :---: | :---: |\n",
    "| 1. Oversampling - Naive Bayes | 97 % | 61 % | 61 % | 61 % |\n",
    "| 2. Undersampling - Naive Bayes | 95 % | 71 % | 71 % | 71 % |\n",
    "| 3. Over Sampling - Logistic Regression | 99 % | 62 % | 62 % | 63 % |\n",
    "| 4. Under Sampling - Logistic Regression | 99 % | 66 % | 66 % | 67 % |\n",
    "| 5. Random Forest Classifier | 100 % | 61 % | 94 % | 95.4 % |\n",
    "| 6. XGBoost Classifier | 95 % | 63 % | 94 % | 95.3 % |\n",
    "\n",
    "\n",
    "---\n",
    "\n"
   ]
  },
  {
   "cell_type": "markdown",
   "metadata": {},
   "source": [
    "## Project Task: Week 3\n",
    "\n",
    "**Model Selection:**\n",
    "    \n",
    "1. Apply neural nets and multi-class SVM’s. \n",
    "\n",
    "2. Use possible ensemble techniques like: XGboost + oversampled_multinomial_NB.\n",
    "\n",
    "### Code :"
   ]
  },
  {
   "cell_type": "code",
   "execution_count": null,
   "metadata": {},
   "outputs": [],
   "source": [
    "# Here are the train and test dataset \n",
    "# X_train_bow_OS     y_train_OS     --- Over sampling train dataset \n",
    "# X_train_bow_US     y_train_US     ----Undersampling train dataset \n",
    "# X_test_bow_OS      y_test_OS       ----Over sampling Test dataset\n",
    "# X_test_bow_US      y_test_US       ----Under sampling Test dataset"
   ]
  },
  {
   "cell_type": "code",
   "execution_count": 33,
   "metadata": {},
   "outputs": [],
   "source": [
    "#Prepare Data for Neural Network\n",
    "\n",
    "y_test=test_hidden['sentiment']\n",
    "\n",
    "#Label encoding for Class\n",
    "y_train_NN_OS=y_train_OS.replace(['Positive','Negative','Neutral'],[1,0,2]) # Oversampled\n",
    "y_test_NN_OS=y_test_OS.replace(['Positive','Negative','Neutral'],[1,0,2])   # Oversampled\n",
    "y_train_NN_US=y_train_US.replace(['Positive','Negative','Neutral'],[1,0,2]) # Undersampled \n",
    "y_test_NN_US=y_test_US.replace(['Positive','Negative','Neutral'],[1,0,2])   # Undersampled\n",
    "\n",
    "\n",
    "#Convert class to catagorical\n",
    "y_train_NN_OSC = tf.keras.utils.to_categorical(y_train_NN_OS) # Oversampled\n",
    "y_test_NN_OSC = tf.keras.utils.to_categorical(y_test_NN_OS)   # Oversampled\n",
    "y_train_NN_USC = tf.keras.utils.to_categorical(y_train_NN_US) # Undersampled\n",
    "y_test_NN_USC = tf.keras.utils.to_categorical(y_test_NN_US)   # Undersampled\n",
    "\n",
    "# original dataset\n",
    "y_train_NN=y_train.replace(['Positive','Negative','Neutral'],[1,0,2])\n",
    "y_test_NN=y_test.replace(['Positive','Negative','Neutral'],[1,0,2])\n",
    "y_train_NNC= tf.keras.utils.to_categorical(y_train_NN)\n",
    "y_test_NNC = tf.keras.utils.to_categorical(y_test_NN)"
   ]
  },
  {
   "cell_type": "markdown",
   "metadata": {},
   "source": [
    "#### Approach-7: Use of Neural Nets with Oversampled dataset"
   ]
  },
  {
   "cell_type": "code",
   "execution_count": 48,
   "metadata": {},
   "outputs": [
    {
     "name": "stdout",
     "output_type": "stream",
     "text": [
      "Train on 11247 samples, validate on 2811 samples\n",
      "Epoch 1/100\n",
      "11247/11247 [==============================] - 4s 350us/sample - loss: 0.5492 - accuracy: 0.7751 - val_loss: 2.2239 - val_accuracy: 0.3333\n",
      "Epoch 2/100\n",
      "11247/11247 [==============================] - 3s 269us/sample - loss: 0.1251 - accuracy: 0.9594 - val_loss: 2.1516 - val_accuracy: 0.5311\n",
      "Epoch 3/100\n",
      "11247/11247 [==============================] - 3s 280us/sample - loss: 0.0805 - accuracy: 0.9755 - val_loss: 2.5313 - val_accuracy: 0.5390\n",
      "Epoch 4/100\n",
      "11247/11247 [==============================] - 3s 277us/sample - loss: 0.0582 - accuracy: 0.9820 - val_loss: 2.3219 - val_accuracy: 0.5841\n",
      "Epoch 5/100\n",
      "11247/11247 [==============================] - 4s 328us/sample - loss: 0.0564 - accuracy: 0.9813 - val_loss: 3.4723 - val_accuracy: 0.5297\n",
      "Epoch 6/100\n",
      "11247/11247 [==============================] - 4s 317us/sample - loss: 0.0505 - accuracy: 0.9839 - val_loss: 3.0897 - val_accuracy: 0.5589\n",
      "Epoch 7/100\n",
      "11247/11247 [==============================] - 3s 280us/sample - loss: 0.0526 - accuracy: 0.9837 - val_loss: 2.2916 - val_accuracy: 0.5930\n",
      "Epoch 8/100\n",
      "11247/11247 [==============================] - 3s 272us/sample - loss: 0.0389 - accuracy: 0.9876 - val_loss: 3.2842 - val_accuracy: 0.5557\n",
      "Epoch 9/100\n",
      "11247/11247 [==============================] - 3s 274us/sample - loss: 0.0405 - accuracy: 0.9867 - val_loss: 3.0045 - val_accuracy: 0.5717\n",
      "Epoch 10/100\n",
      "11247/11247 [==============================] - 3s 273us/sample - loss: 0.0309 - accuracy: 0.9899 - val_loss: 3.2590 - val_accuracy: 0.5688\n",
      "Epoch 11/100\n",
      "11247/11247 [==============================] - 3s 275us/sample - loss: 0.0362 - accuracy: 0.9891 - val_loss: 3.4540 - val_accuracy: 0.5521\n",
      "Epoch 12/100\n",
      "11247/11247 [==============================] - 4s 318us/sample - loss: 0.0387 - accuracy: 0.9881 - val_loss: 3.9891 - val_accuracy: 0.5290\n",
      "Epoch 13/100\n",
      "11247/11247 [==============================] - 3s 300us/sample - loss: 0.0346 - accuracy: 0.9881 - val_loss: 3.2582 - val_accuracy: 0.5735\n",
      "Epoch 14/100\n",
      "11247/11247 [==============================] - 3s 291us/sample - loss: 0.0324 - accuracy: 0.9900 - val_loss: 3.3596 - val_accuracy: 0.5699\n",
      "Epoch 15/100\n",
      "11247/11247 [==============================] - 3s 289us/sample - loss: 0.0260 - accuracy: 0.9919 - val_loss: 3.9859 - val_accuracy: 0.5390\n",
      "Epoch 16/100\n",
      "11247/11247 [==============================] - 3s 297us/sample - loss: 0.0293 - accuracy: 0.9914 - val_loss: 3.6681 - val_accuracy: 0.5503\n",
      "Epoch 17/100\n",
      "11247/11247 [==============================] - 3s 292us/sample - loss: 0.0287 - accuracy: 0.9925 - val_loss: 3.9686 - val_accuracy: 0.5564\n",
      "Epoch 18/100\n",
      "11247/11247 [==============================] - 3s 287us/sample - loss: 0.0303 - accuracy: 0.9900 - val_loss: 3.9459 - val_accuracy: 0.5610\n",
      "Epoch 19/100\n",
      "11247/11247 [==============================] - 3s 288us/sample - loss: 0.0268 - accuracy: 0.9909 - val_loss: 3.6299 - val_accuracy: 0.5582\n",
      "Epoch 20/100\n",
      "11247/11247 [==============================] - 3s 288us/sample - loss: 0.0212 - accuracy: 0.9935 - val_loss: 3.9434 - val_accuracy: 0.5596\n",
      "Epoch 21/100\n",
      "11247/11247 [==============================] - 3s 289us/sample - loss: 0.0257 - accuracy: 0.9920 - val_loss: 3.3303 - val_accuracy: 0.5873\n",
      "Epoch 22/100\n",
      "11247/11247 [==============================] - 3s 285us/sample - loss: 0.0321 - accuracy: 0.9895 - val_loss: 3.4305 - val_accuracy: 0.5671\n",
      "Epoch 23/100\n",
      "11247/11247 [==============================] - 3s 291us/sample - loss: 0.0228 - accuracy: 0.9931 - val_loss: 3.9705 - val_accuracy: 0.5514\n",
      "Epoch 24/100\n",
      "11247/11247 [==============================] - 3s 293us/sample - loss: 0.0201 - accuracy: 0.9945 - val_loss: 3.9316 - val_accuracy: 0.5607\n",
      "Epoch 25/100\n",
      "11247/11247 [==============================] - 3s 291us/sample - loss: 0.0192 - accuracy: 0.9951 - val_loss: 4.8245 - val_accuracy: 0.5297\n",
      "Epoch 26/100\n",
      "11247/11247 [==============================] - 3s 290us/sample - loss: 0.0208 - accuracy: 0.9937 - val_loss: 3.7741 - val_accuracy: 0.5557\n",
      "Epoch 27/100\n",
      "11247/11247 [==============================] - 3s 287us/sample - loss: 0.0202 - accuracy: 0.9938 - val_loss: 3.8783 - val_accuracy: 0.5557\n",
      "Epoch 28/100\n",
      "11247/11247 [==============================] - 3s 286us/sample - loss: 0.0202 - accuracy: 0.9939 - val_loss: 4.1725 - val_accuracy: 0.5468\n",
      "Epoch 29/100\n",
      "11247/11247 [==============================] - 3s 287us/sample - loss: 0.0262 - accuracy: 0.9924 - val_loss: 4.2376 - val_accuracy: 0.5482\n",
      "Epoch 30/100\n",
      "11247/11247 [==============================] - 4s 314us/sample - loss: 0.0197 - accuracy: 0.9936 - val_loss: 3.5749 - val_accuracy: 0.5752\n",
      "Epoch 31/100\n",
      "11247/11247 [==============================] - 4s 312us/sample - loss: 0.0243 - accuracy: 0.9925 - val_loss: 3.6821 - val_accuracy: 0.5578\n",
      "Epoch 32/100\n",
      "11247/11247 [==============================] - 3s 304us/sample - loss: 0.0200 - accuracy: 0.9948 - val_loss: 3.9914 - val_accuracy: 0.5599\n",
      "Epoch 33/100\n",
      "11247/11247 [==============================] - 3s 284us/sample - loss: 0.0134 - accuracy: 0.9964 - val_loss: 3.4859 - val_accuracy: 0.5902\n",
      "Epoch 34/100\n",
      "11247/11247 [==============================] - 3s 285us/sample - loss: 0.0191 - accuracy: 0.9942 - val_loss: 3.5368 - val_accuracy: 0.5838\n",
      "Epoch 35/100\n",
      "11247/11247 [==============================] - 3s 285us/sample - loss: 0.0207 - accuracy: 0.9940 - val_loss: 4.3233 - val_accuracy: 0.5546\n",
      "Epoch 36/100\n",
      "11247/11247 [==============================] - 3s 287us/sample - loss: 0.0167 - accuracy: 0.9950 - val_loss: 3.6656 - val_accuracy: 0.5852\n",
      "Epoch 37/100\n",
      "11247/11247 [==============================] - 3s 286us/sample - loss: 0.0125 - accuracy: 0.9963 - val_loss: 4.4539 - val_accuracy: 0.5582\n",
      "Epoch 38/100\n",
      "11247/11247 [==============================] - 3s 289us/sample - loss: 0.0152 - accuracy: 0.9957 - val_loss: 4.4842 - val_accuracy: 0.5411\n",
      "Epoch 39/100\n",
      "11247/11247 [==============================] - 3s 291us/sample - loss: 0.0176 - accuracy: 0.9947 - val_loss: 3.1575 - val_accuracy: 0.6073\n",
      "Epoch 40/100\n",
      "11247/11247 [==============================] - 3s 289us/sample - loss: 0.0126 - accuracy: 0.9961 - val_loss: 4.1131 - val_accuracy: 0.5710\n",
      "Epoch 41/100\n",
      "11247/11247 [==============================] - 3s 293us/sample - loss: 0.0147 - accuracy: 0.9960 - val_loss: 3.7518 - val_accuracy: 0.5838\n",
      "Epoch 42/100\n",
      "11247/11247 [==============================] - 3s 297us/sample - loss: 0.0147 - accuracy: 0.9950 - val_loss: 4.4551 - val_accuracy: 0.5539\n",
      "Epoch 43/100\n",
      "11247/11247 [==============================] - 3s 294us/sample - loss: 0.0118 - accuracy: 0.9964 - val_loss: 4.1447 - val_accuracy: 0.5738\n",
      "Epoch 44/100\n",
      "11247/11247 [==============================] - 3s 298us/sample - loss: 0.0125 - accuracy: 0.9967 - val_loss: 4.2848 - val_accuracy: 0.5575\n",
      "Epoch 45/100\n",
      "11247/11247 [==============================] - 3s 300us/sample - loss: 0.0211 - accuracy: 0.9942 - val_loss: 4.7339 - val_accuracy: 0.5585\n",
      "Epoch 46/100\n",
      "11247/11247 [==============================] - 3s 290us/sample - loss: 0.0143 - accuracy: 0.9961 - val_loss: 3.9421 - val_accuracy: 0.5777\n",
      "Epoch 47/100\n",
      "11247/11247 [==============================] - 3s 294us/sample - loss: 0.0125 - accuracy: 0.9965 - val_loss: 4.3081 - val_accuracy: 0.5624\n",
      "Epoch 48/100\n",
      "11247/11247 [==============================] - 3s 296us/sample - loss: 0.0107 - accuracy: 0.9969 - val_loss: 4.4584 - val_accuracy: 0.5589\n",
      "Epoch 49/100\n",
      "11247/11247 [==============================] - 3s 291us/sample - loss: 0.0140 - accuracy: 0.9963 - val_loss: 3.9115 - val_accuracy: 0.5774\n",
      "Epoch 50/100\n",
      "11247/11247 [==============================] - 3s 290us/sample - loss: 0.0131 - accuracy: 0.9959 - val_loss: 4.2632 - val_accuracy: 0.5642\n",
      "Epoch 51/100\n",
      "11247/11247 [==============================] - 3s 290us/sample - loss: 0.0120 - accuracy: 0.9965 - val_loss: 4.1763 - val_accuracy: 0.5656\n",
      "Epoch 52/100\n",
      "11247/11247 [==============================] - 3s 288us/sample - loss: 0.0113 - accuracy: 0.9970 - val_loss: 4.6714 - val_accuracy: 0.5535\n",
      "Epoch 53/100\n",
      "11247/11247 [==============================] - 3s 301us/sample - loss: 0.0073 - accuracy: 0.9980 - val_loss: 4.7059 - val_accuracy: 0.5607\n",
      "Epoch 54/100\n",
      "11247/11247 [==============================] - 3s 287us/sample - loss: 0.0126 - accuracy: 0.9958 - val_loss: 4.2046 - val_accuracy: 0.5774\n",
      "Epoch 55/100\n",
      "11247/11247 [==============================] - 3s 289us/sample - loss: 0.0152 - accuracy: 0.9957 - val_loss: 4.6116 - val_accuracy: 0.5557\n",
      "Epoch 56/100\n",
      "11247/11247 [==============================] - 3s 284us/sample - loss: 0.0121 - accuracy: 0.9961 - val_loss: 5.4548 - val_accuracy: 0.5390\n",
      "Epoch 57/100\n",
      "11247/11247 [==============================] - 3s 286us/sample - loss: 0.0107 - accuracy: 0.9964 - val_loss: 4.2153 - val_accuracy: 0.5738\n",
      "Epoch 58/100\n",
      "11247/11247 [==============================] - 3s 285us/sample - loss: 0.0106 - accuracy: 0.9967 - val_loss: 5.3721 - val_accuracy: 0.5454\n",
      "Epoch 59/100\n",
      "11247/11247 [==============================] - 3s 305us/sample - loss: 0.0095 - accuracy: 0.9971 - val_loss: 5.3265 - val_accuracy: 0.5446\n",
      "Epoch 60/100\n",
      "11247/11247 [==============================] - 3s 308us/sample - loss: 0.0129 - accuracy: 0.9957 - val_loss: 4.2956 - val_accuracy: 0.5752\n",
      "Epoch 61/100\n",
      "11247/11247 [==============================] - 3s 307us/sample - loss: 0.0146 - accuracy: 0.9956 - val_loss: 4.5594 - val_accuracy: 0.5695\n",
      "Epoch 62/100\n",
      "11247/11247 [==============================] - 3s 288us/sample - loss: 0.0074 - accuracy: 0.9974 - val_loss: 4.8020 - val_accuracy: 0.5671\n",
      "Epoch 63/100\n",
      "11247/11247 [==============================] - 3s 285us/sample - loss: 0.0091 - accuracy: 0.9975 - val_loss: 4.5800 - val_accuracy: 0.5763\n",
      "Epoch 64/100\n",
      "11247/11247 [==============================] - 3s 284us/sample - loss: 0.0091 - accuracy: 0.9977 - val_loss: 4.9846 - val_accuracy: 0.5518\n",
      "Epoch 65/100\n",
      "11247/11247 [==============================] - 3s 287us/sample - loss: 0.0096 - accuracy: 0.9972 - val_loss: 4.0135 - val_accuracy: 0.5770\n",
      "Epoch 66/100\n",
      "11247/11247 [==============================] - 3s 285us/sample - loss: 0.0067 - accuracy: 0.9986 - val_loss: 4.8264 - val_accuracy: 0.5539\n",
      "Epoch 67/100\n",
      "11247/11247 [==============================] - 3s 284us/sample - loss: 0.0100 - accuracy: 0.9972 - val_loss: 3.9235 - val_accuracy: 0.5827\n",
      "Epoch 68/100\n",
      "11247/11247 [==============================] - 3s 287us/sample - loss: 0.0085 - accuracy: 0.9974 - val_loss: 3.7601 - val_accuracy: 0.6073\n",
      "Epoch 69/100\n",
      "11247/11247 [==============================] - 3s 287us/sample - loss: 0.0089 - accuracy: 0.9973 - val_loss: 4.8620 - val_accuracy: 0.5589\n",
      "Epoch 70/100\n",
      "11247/11247 [==============================] - 3s 286us/sample - loss: 0.0117 - accuracy: 0.9971 - val_loss: 4.5473 - val_accuracy: 0.5667\n",
      "Epoch 71/100\n",
      "11247/11247 [==============================] - 3s 286us/sample - loss: 0.0093 - accuracy: 0.9972 - val_loss: 5.0245 - val_accuracy: 0.5589\n",
      "Epoch 72/100\n",
      "11247/11247 [==============================] - 3s 290us/sample - loss: 0.0073 - accuracy: 0.9982 - val_loss: 4.0770 - val_accuracy: 0.5646\n",
      "Epoch 73/100\n",
      "11247/11247 [==============================] - 3s 290us/sample - loss: 0.0093 - accuracy: 0.9975 - val_loss: 5.7128 - val_accuracy: 0.5379\n",
      "Epoch 74/100\n",
      "11247/11247 [==============================] - 3s 289us/sample - loss: 0.0075 - accuracy: 0.9979 - val_loss: 4.1049 - val_accuracy: 0.5706\n",
      "Epoch 75/100\n",
      "11247/11247 [==============================] - 3s 289us/sample - loss: 0.0068 - accuracy: 0.9983 - val_loss: 4.8975 - val_accuracy: 0.5599\n",
      "Epoch 76/100\n",
      "11247/11247 [==============================] - 3s 290us/sample - loss: 0.0077 - accuracy: 0.9979 - val_loss: 4.2953 - val_accuracy: 0.5763\n",
      "Epoch 77/100\n",
      "11247/11247 [==============================] - 3s 288us/sample - loss: 0.0084 - accuracy: 0.9972 - val_loss: 4.6230 - val_accuracy: 0.5685\n",
      "Epoch 78/100\n",
      "11247/11247 [==============================] - 3s 288us/sample - loss: 0.0077 - accuracy: 0.9977 - val_loss: 4.2035 - val_accuracy: 0.5681\n",
      "Epoch 79/100\n",
      "11247/11247 [==============================] - 3s 288us/sample - loss: 0.0077 - accuracy: 0.9977 - val_loss: 4.4303 - val_accuracy: 0.5603\n",
      "Epoch 80/100\n",
      "11247/11247 [==============================] - 3s 298us/sample - loss: 0.0057 - accuracy: 0.9981 - val_loss: 3.5944 - val_accuracy: 0.6282\n",
      "Epoch 81/100\n",
      "11247/11247 [==============================] - 3s 287us/sample - loss: 0.0060 - accuracy: 0.9979 - val_loss: 5.2119 - val_accuracy: 0.5486\n",
      "Epoch 82/100\n",
      "11247/11247 [==============================] - 3s 286us/sample - loss: 0.0057 - accuracy: 0.9983 - val_loss: 4.5223 - val_accuracy: 0.5663\n",
      "Epoch 83/100\n",
      "11247/11247 [==============================] - 3s 293us/sample - loss: 0.0076 - accuracy: 0.9980 - val_loss: 4.5840 - val_accuracy: 0.5585\n",
      "Epoch 84/100\n",
      "11247/11247 [==============================] - 3s 289us/sample - loss: 0.0057 - accuracy: 0.9979 - val_loss: 4.3932 - val_accuracy: 0.5727\n",
      "Epoch 85/100\n",
      "11247/11247 [==============================] - 4s 311us/sample - loss: 0.0089 - accuracy: 0.9975 - val_loss: 5.0657 - val_accuracy: 0.5567\n",
      "Epoch 86/100\n",
      "11247/11247 [==============================] - 3s 289us/sample - loss: 0.0075 - accuracy: 0.9975 - val_loss: 5.3126 - val_accuracy: 0.5503\n",
      "Epoch 87/100\n",
      "11247/11247 [==============================] - 3s 289us/sample - loss: 0.0049 - accuracy: 0.9986 - val_loss: 4.8083 - val_accuracy: 0.5745\n",
      "Epoch 88/100\n",
      "11247/11247 [==============================] - 3s 305us/sample - loss: 0.0064 - accuracy: 0.9978 - val_loss: 4.5340 - val_accuracy: 0.5912\n",
      "Epoch 89/100\n",
      "11247/11247 [==============================] - 4s 312us/sample - loss: 0.0034 - accuracy: 0.9989 - val_loss: 5.3632 - val_accuracy: 0.5631\n",
      "Epoch 90/100\n",
      "11247/11247 [==============================] - 4s 312us/sample - loss: 0.0071 - accuracy: 0.9983 - val_loss: 3.8534 - val_accuracy: 0.6009\n",
      "Epoch 91/100\n",
      "11247/11247 [==============================] - 3s 289us/sample - loss: 0.0069 - accuracy: 0.9981 - val_loss: 4.8660 - val_accuracy: 0.5678\n",
      "Epoch 92/100\n",
      "11247/11247 [==============================] - 3s 292us/sample - loss: 0.0051 - accuracy: 0.9986 - val_loss: 4.8277 - val_accuracy: 0.5717\n",
      "Epoch 93/100\n",
      "11247/11247 [==============================] - 3s 288us/sample - loss: 0.0047 - accuracy: 0.9986 - val_loss: 4.2006 - val_accuracy: 0.6069\n",
      "Epoch 94/100\n",
      "11247/11247 [==============================] - 3s 286us/sample - loss: 0.0087 - accuracy: 0.9972 - val_loss: 3.8676 - val_accuracy: 0.5969\n",
      "Epoch 95/100\n",
      "11247/11247 [==============================] - 3s 287us/sample - loss: 0.0053 - accuracy: 0.9986 - val_loss: 4.4236 - val_accuracy: 0.5859\n",
      "Epoch 96/100\n",
      "11247/11247 [==============================] - 3s 287us/sample - loss: 0.0064 - accuracy: 0.9980 - val_loss: 4.3826 - val_accuracy: 0.5838\n",
      "Epoch 97/100\n",
      "11247/11247 [==============================] - 3s 286us/sample - loss: 0.0038 - accuracy: 0.9988 - val_loss: 4.3855 - val_accuracy: 0.6033\n",
      "Epoch 98/100\n",
      "11247/11247 [==============================] - 3s 286us/sample - loss: 0.0041 - accuracy: 0.9990 - val_loss: 4.7588 - val_accuracy: 0.5760\n",
      "Epoch 99/100\n",
      "11247/11247 [==============================] - 3s 289us/sample - loss: 0.0085 - accuracy: 0.9976 - val_loss: 4.4732 - val_accuracy: 0.5770\n",
      "Epoch 100/100\n",
      "11247/11247 [==============================] - 3s 295us/sample - loss: 0.0067 - accuracy: 0.9977 - val_loss: 3.6637 - val_accuracy: 0.6087\n",
      "Wall time: 5min 29s\n"
     ]
    },
    {
     "data": {
      "text/plain": [
       "<tensorflow.python.keras.callbacks.History at 0x2145c72de88>"
      ]
     },
     "execution_count": 48,
     "metadata": {},
     "output_type": "execute_result"
    }
   ],
   "source": [
    "%%time\n",
    "#Initialize Sequential model\n",
    "modelNN_OS = tf.keras.models.Sequential()\n",
    "# Create Input layer\n",
    "modelNN_OS.add(tf.keras.layers.Reshape((4342,),input_shape=(4342,)))\n",
    "#Normalize the data\n",
    "modelNN_OS.add(tf.keras.layers.BatchNormalization())\n",
    "\n",
    "#Add 1st hidden layer\n",
    "modelNN_OS.add(tf.keras.layers.Dense(200, activation='relu'))\n",
    "modelNN_OS.add(tf.keras.layers.Dropout(0.5)) #Dropout layer\n",
    "modelNN_OS.add(tf.keras.layers.BatchNormalization())\n",
    "\n",
    "#Add 2nd hidden layer\n",
    "modelNN_OS.add(tf.keras.layers.Dense(100, activation='relu'))\n",
    "modelNN_OS.add(tf.keras.layers.Dropout(0.5)) #Dropout layer\n",
    "modelNN_OS.add(tf.keras.layers.BatchNormalization())\n",
    "\n",
    "\n",
    "#Add 3rd hidden layer\n",
    "modelNN_OS.add(tf.keras.layers.Dense(50, activation='relu'))\n",
    "modelNN_OS.add(tf.keras.layers.Dropout(0.3)) #Dropout layer\n",
    "modelNN_OS.add(tf.keras.layers.BatchNormalization())\n",
    "\n",
    "\n",
    "#Add OUTPUT layer\n",
    "modelNN_OS.add(tf.keras.layers.Dense(3, activation='softmax'))\n",
    "\n",
    "#Create optimizer with non-default learning rate\n",
    "#sgd_optimizer = tf.keras.optimizers.SGD(lr=0.1)\n",
    "\n",
    "#Compile the model\n",
    "#modelNN_OS.compile(optimizer=sgd_optimizer, loss='categorical_crossentropy', metrics=['accuracy'])\n",
    "\n",
    "#Compile the model with adam optimizer\n",
    "modelNN_OS.compile(optimizer='adam', loss='categorical_crossentropy', metrics=['accuracy'])\n",
    "\n",
    "## Train the model\n",
    "modelNN_OS.fit(X_train_bow_OS.toarray(),y_train_NN_OSC,          \n",
    "          validation_data=(X_test_bow_OS.toarray(),y_test_NN_OSC),\n",
    "          epochs=100,\n",
    "          batch_size=32)"
   ]
  },
  {
   "cell_type": "code",
   "execution_count": 49,
   "metadata": {},
   "outputs": [
    {
     "name": "stdout",
     "output_type": "stream",
     "text": [
      "Train Accuracy score is: 0.9985773984173557 and Test Accuracy score is: 0.608680184987549\n",
      "-------------------------------------------------------------------------------------------\n",
      "Classification Report for Train Data \n",
      "               precision    recall  f1-score   support\n",
      "\n",
      "           0       1.00      1.00      1.00      3749\n",
      "           1       1.00      1.00      1.00      3749\n",
      "           2       1.00      1.00      1.00      3749\n",
      "\n",
      "    accuracy                           1.00     11247\n",
      "   macro avg       1.00      1.00      1.00     11247\n",
      "weighted avg       1.00      1.00      1.00     11247\n",
      "\n",
      "-------------------------------------------------------------------------------------------\n",
      "Classification Report for Test Data \n",
      "               precision    recall  f1-score   support\n",
      "\n",
      "           0       0.90      0.51      0.65       937\n",
      "           1       0.49      0.95      0.64       937\n",
      "           2       0.76      0.37      0.50       937\n",
      "\n",
      "    accuracy                           0.61      2811\n",
      "   macro avg       0.71      0.61      0.60      2811\n",
      "weighted avg       0.71      0.61      0.60      2811\n",
      "\n"
     ]
    }
   ],
   "source": [
    "# predict  classes\n",
    "yhat_classes_train = modelNN_OS.predict_classes(X_train_bow_OS.toarray(), verbose=0)\n",
    "yhat_classes_test = modelNN_OS.predict_classes(X_test_bow_OS.toarray(), verbose=0)\n",
    "\n",
    "#Accuracy Score for train Data\n",
    "accuracy_score_train=accuracy_score(y_true=y_train_NN_OS,y_pred=yhat_classes_train)\n",
    "#Accuracy Score for test Data\n",
    "accuracy_score_test=accuracy_score(y_true=y_test_NN_OS,y_pred=yhat_classes_test)\n",
    "print('Train Accuracy score is: {} and Test Accuracy score is: {}'.format(accuracy_score_train,accuracy_score_test))\n",
    "print('-------------------------------------------------------------------------------------------')\n",
    "\n",
    "#Classification Report for Train Data\n",
    "cr=classification_report(y_true=y_train_NN_OS,y_pred=yhat_classes_train)\n",
    "print('Classification Report for Train Data \\n',cr)\n",
    "print('-------------------------------------------------------------------------------------------')\n",
    "\n",
    "#Classification Report for Test Data\n",
    "cr=classification_report(y_true=y_test_NN_OS,y_pred=yhat_classes_test)\n",
    "print('Classification Report for Test Data \\n',cr)\n",
    "\n"
   ]
  },
  {
   "cell_type": "code",
   "execution_count": null,
   "metadata": {},
   "outputs": [],
   "source": [
    "# Observations of Neural Network- Oversampled Data\n",
    "# Num of Layers        batch size     Epochs     optimizer         Train Accuracy   Test Accuracy   f1.Score(Test)\n",
    "#       3                  32           10          Adam                99.83 %           57.84 %        55.0 %\n",
    "#       3(WithDropout)     32           10          Adam                99.84 %           55.60 %        53.0 %\n",
    "#       3                  32           10          Adam                99.83 %          100.00 %        55.9 %\n",
    "#       3(WithDropout)     32           10          SGD(lr=0.1)         99.85 %           57.56 %        56.0 %\n"
   ]
  },
  {
   "cell_type": "markdown",
   "metadata": {},
   "source": [
    "#### Approach-8: Use of Neural Nets with Undersampled dataset"
   ]
  },
  {
   "cell_type": "code",
   "execution_count": 146,
   "metadata": {},
   "outputs": [
    {
     "name": "stdout",
     "output_type": "stream",
     "text": [
      "Wall time: 5.48 s\n"
     ]
    },
    {
     "data": {
      "text/plain": [
       "<tensorflow.python.keras.callbacks.History at 0x2766e0e47c8>"
      ]
     },
     "execution_count": 146,
     "metadata": {},
     "output_type": "execute_result"
    }
   ],
   "source": [
    "%%time\n",
    "#Initialize Sequential model\n",
    "modelNN_US = tf.keras.models.Sequential()\n",
    "# Create Input layer\n",
    "modelNN_US.add(tf.keras.layers.Reshape((4342,),input_shape=(4342,)))\n",
    "#Normalize the data\n",
    "modelNN_US.add(tf.keras.layers.BatchNormalization())\n",
    "\n",
    "#Add 1st hidden layer\n",
    "modelNN_US.add(tf.keras.layers.Dense(200, activation='relu'))\n",
    "modelNN_OS.add(tf.keras.layers.Dropout(0.5)) #Dropout layer\n",
    "modelNN_US.add(tf.keras.layers.BatchNormalization())\n",
    "\n",
    "#Add 2nd hidden layer\n",
    "modelNN_US.add(tf.keras.layers.Dense(100, activation='relu'))\n",
    "modelNN_OS.add(tf.keras.layers.Dropout(0.5)) #Dropout layer\n",
    "modelNN_US.add(tf.keras.layers.BatchNormalization())\n",
    "\n",
    "#Add 3rd hidden layer\n",
    "modelNN_US.add(tf.keras.layers.Dense(50, activation='relu'))\n",
    "modelNN_OS.add(tf.keras.layers.Dropout(0.2)) #Dropout layer\n",
    "modelNN_US.add(tf.keras.layers.BatchNormalization())\n",
    "\n",
    "\n",
    "#Add OUTPUT layer\n",
    "modelNN_US.add(tf.keras.layers.Dense(3, activation='softmax'))\n",
    "\n",
    "#Create optimizer with non-default learning rate\n",
    "#sgd_optimizer = tf.keras.optimizers.SGD(lr=0.1)\n",
    "\n",
    "#Compile the model\n",
    "#modelNN_US.compile(optimizer=sgd_optimizer, loss='categorical_crossentropy', metrics=['accuracy'])\n",
    "\n",
    "#Compile the model with adam optimizer\n",
    "modelNN_US.compile(optimizer='adam', loss='categorical_crossentropy', metrics=['accuracy'])\n",
    "\n",
    "\n",
    "## Train the model\n",
    "modelNN_US.fit(X_train_bow_US.toarray(),y_train_NN_USC,          \n",
    "          validation_data=(X_test_bow_US.toarray(),y_test_NN_USC),\n",
    "          epochs=50,\n",
    "          batch_size=32,verbose=0)"
   ]
  },
  {
   "cell_type": "code",
   "execution_count": 147,
   "metadata": {},
   "outputs": [
    {
     "name": "stdout",
     "output_type": "stream",
     "text": [
      "Train Accuracy score is: 1.0 and Test Accuracy score is: 0.5694444444444444\n",
      "-------------------------------------------------------------------------------------------\n",
      "Classification Report for Train Data \n",
      "               precision    recall  f1-score   support\n",
      "\n",
      "           0       1.00      1.00      1.00        93\n",
      "           1       1.00      1.00      1.00        93\n",
      "           2       1.00      1.00      1.00        93\n",
      "\n",
      "    accuracy                           1.00       279\n",
      "   macro avg       1.00      1.00      1.00       279\n",
      "weighted avg       1.00      1.00      1.00       279\n",
      "\n",
      "-------------------------------------------------------------------------------------------\n",
      "Classification Report for Test Data \n",
      "               precision    recall  f1-score   support\n",
      "\n",
      "           0       0.67      0.42      0.51        24\n",
      "           1       0.68      0.62      0.65        24\n",
      "           2       0.46      0.67      0.54        24\n",
      "\n",
      "    accuracy                           0.57        72\n",
      "   macro avg       0.60      0.57      0.57        72\n",
      "weighted avg       0.60      0.57      0.57        72\n",
      "\n"
     ]
    }
   ],
   "source": [
    "# predict  classes\n",
    "yhat_classes_train = modelNN_US.predict_classes(X_train_bow_US.toarray(), verbose=0)\n",
    "yhat_classes_test = modelNN_US.predict_classes(X_test_bow_US.toarray(), verbose=0)\n",
    "\n",
    "#Accuracy Score for train Data\n",
    "accuracy_score_train=accuracy_score(y_true=y_train_NN_US,y_pred=yhat_classes_train)\n",
    "#Accuracy Score for test Data\n",
    "accuracy_score_test=accuracy_score(y_true=y_test_NN_US,y_pred=yhat_classes_test)\n",
    "print('Train Accuracy score is: {} and Test Accuracy score is: {}'.format(accuracy_score_train,accuracy_score_test))\n",
    "print('-------------------------------------------------------------------------------------------')\n",
    "\n",
    "#Classification Report for Train Data\n",
    "cr=classification_report(y_true=y_train_NN_US,y_pred=yhat_classes_train)\n",
    "print('Classification Report for Train Data \\n',cr)\n",
    "print('-------------------------------------------------------------------------------------------')\n",
    "\n",
    "#Classification Report for Test Data\n",
    "cr=classification_report(y_true=y_test_NN_US,y_pred=yhat_classes_test)\n",
    "print('Classification Report for Test Data \\n',cr)\n",
    "\n"
   ]
  },
  {
   "cell_type": "code",
   "execution_count": null,
   "metadata": {},
   "outputs": [],
   "source": [
    "# Observations of Neural Network- Undersampled Data\n",
    "# Num of Layers        batch size     Epochs     optimizer         Train Accuracy   Test Accuracy   f1.Score(Test)\n",
    "#      3                  32           50          SGD(lr=0.1)         100.00 %           60.10 %        61.0 %\n",
    "#      3(WithDropout)     32           50          SGD(lr=0.1)         100.00 %           63.88 %        64.0 %\n",
    "#      3(WithDropout)     32           50          adam                 98.92 %           63.88 %        65.3 %"
   ]
  },
  {
   "cell_type": "code",
   "execution_count": null,
   "metadata": {},
   "outputs": [],
   "source": []
  },
  {
   "cell_type": "markdown",
   "metadata": {},
   "source": [
    "#### Approach-9: Use of Neural Nets with Original dataset(Imbalance Dataset)"
   ]
  },
  {
   "cell_type": "code",
   "execution_count": 139,
   "metadata": {},
   "outputs": [
    {
     "name": "stdout",
     "output_type": "stream",
     "text": [
      "Wall time: 55.5 s\n"
     ]
    },
    {
     "data": {
      "text/plain": [
       "<tensorflow.python.keras.callbacks.History at 0x2771039ba88>"
      ]
     },
     "execution_count": 139,
     "metadata": {},
     "output_type": "execute_result"
    }
   ],
   "source": [
    "%%time\n",
    "#Initialize Sequential model\n",
    "modelNN_imb = tf.keras.models.Sequential()\n",
    "# Create Input layer\n",
    "modelNN_imb.add(tf.keras.layers.Reshape((4342,),input_shape=(4342,)))\n",
    "#Normalize the data\n",
    "modelNN_imb.add(tf.keras.layers.BatchNormalization())\n",
    "\n",
    "#Add 1st hidden layer\n",
    "modelNN_imb.add(tf.keras.layers.Dense(200, activation='relu'))\n",
    "modelNN_imb.add(tf.keras.layers.Dropout(0.5)) #Dropout layer\n",
    "modelNN_imb.add(tf.keras.layers.BatchNormalization())\n",
    "\n",
    "#Add 2nd hidden layer\n",
    "modelNN_imb.add(tf.keras.layers.Dense(100, activation='relu'))\n",
    "modelNN_imb.add(tf.keras.layers.Dropout(0.5)) #Dropout layer\n",
    "modelNN_imb.add(tf.keras.layers.BatchNormalization())\n",
    "\n",
    "\n",
    "#Add 3rd hidden layer\n",
    "modelNN_imb.add(tf.keras.layers.Dense(50, activation='relu'))\n",
    "modelNN_imb.add(tf.keras.layers.Dropout(0.2)) #Dropout layer\n",
    "modelNN_OS.add(tf.keras.layers.BatchNormalization())\n",
    "\n",
    "#Add OUTPUT layer\n",
    "modelNN_imb.add(tf.keras.layers.Dense(3, activation='softmax'))\n",
    "\n",
    "#Create optimizer with non-default learning rate\n",
    "#sgd_optimizer = tf.keras.optimizers.SGD(lr=0.1)\n",
    "\n",
    "#Compile the model\n",
    "#modelNN_imb.compile(optimizer=sgd_optimizer, loss='categorical_crossentropy', metrics=['accuracy'])\n",
    "\n",
    "#Compile the model with adam optimizer\n",
    "modelNN_imb.compile(optimizer='adam', loss='categorical_crossentropy', metrics=['accuracy'])\n",
    "\n",
    "## Train the model\n",
    "modelNN_imb.fit(X_train_bow.toarray(),y_train_NNC,          \n",
    "          validation_data=(X_test_bow.toarray(),y_test_NNC),\n",
    "          epochs=50,\n",
    "          batch_size=32,verbose=0)"
   ]
  },
  {
   "cell_type": "code",
   "execution_count": 141,
   "metadata": {},
   "outputs": [
    {
     "name": "stdout",
     "output_type": "stream",
     "text": [
      "Train Accuracy score is: 0.9965 and Test Accuracy score is: 0.935\n",
      "-------------------------------------------------------------------------------------------\n",
      "Classification Report for Train Data \n",
      "               precision    recall  f1-score   support\n",
      "\n",
      "           0       0.91      1.00      0.95        93\n",
      "           1       1.00      1.00      1.00      3749\n",
      "           2       0.97      1.00      0.98       158\n",
      "\n",
      "    accuracy                           1.00      4000\n",
      "   macro avg       0.96      1.00      0.98      4000\n",
      "weighted avg       1.00      1.00      1.00      4000\n",
      "\n",
      "-------------------------------------------------------------------------------------------\n",
      "Classification Report for Test Data \n",
      "               precision    recall  f1-score   support\n",
      "\n",
      "           0       0.41      0.50      0.45        24\n",
      "           1       0.97      0.97      0.97       937\n",
      "           2       0.42      0.44      0.43        39\n",
      "\n",
      "    accuracy                           0.94      1000\n",
      "   macro avg       0.60      0.63      0.62      1000\n",
      "weighted avg       0.94      0.94      0.94      1000\n",
      "\n"
     ]
    }
   ],
   "source": [
    "# predict  classes\n",
    "yhat_classes_train = modelNN_imb.predict_classes(X_train_bow.toarray(), verbose=0)\n",
    "yhat_classes_test = modelNN_imb.predict_classes(X_test_bow.toarray(), verbose=0)\n",
    "\n",
    "#Accuracy Score for train Data\n",
    "accuracy_score_train=accuracy_score(y_true=y_train_NN,y_pred=yhat_classes_train)\n",
    "#Accuracy Score for test Data\n",
    "accuracy_score_test=accuracy_score(y_true=y_test_NN,y_pred=yhat_classes_test)\n",
    "print('Train Accuracy score is: {} and Test Accuracy score is: {}'.format(accuracy_score_train,accuracy_score_test))\n",
    "print('-------------------------------------------------------------------------------------------')\n",
    "\n",
    "#Classification Report for Train Data\n",
    "cr=classification_report(y_true=y_train_NN,y_pred=yhat_classes_train)\n",
    "print('Classification Report for Train Data \\n',cr)\n",
    "print('-------------------------------------------------------------------------------------------')\n",
    "#Classification Report for Test Data\n",
    "cr=classification_report(y_true=y_test_NN,y_pred=yhat_classes_test)\n",
    "print('Classification Report for Test Data \\n',cr)"
   ]
  },
  {
   "cell_type": "code",
   "execution_count": 115,
   "metadata": {},
   "outputs": [],
   "source": [
    "# Observations of Neural Network- Original Imbalanced Dataset\n",
    "# Num of Layers        batch size     Epochs     optimizer         Train Accuracy   Test Accuracy   f1.Score(Test)\n",
    "#       3                  32           50          Adam                99.60 %           92.00 %        58.0 %\n",
    "#       3(WithDropout)     32           10          Adam                99.65 %           93.50 %        62.0 %\n",
    "#       3                  32           10          SGD(lr=0.1)         99.25 %           90.05 %        57.0 %\n",
    "#       3(WithDropout)     32           10          SGD(lr=0.1)         99.60 %           90.70 %        59.0 %\n"
   ]
  },
  {
   "cell_type": "markdown",
   "metadata": {},
   "source": [
    "#### Approach-10: Use of Multiclass SVM with Undersampled dataset"
   ]
  },
  {
   "cell_type": "code",
   "execution_count": 117,
   "metadata": {},
   "outputs": [
    {
     "name": "stdout",
     "output_type": "stream",
     "text": [
      "train score is:1.0 \n",
      "test score is:0.5972222222222222 \n",
      "              precision    recall  f1-score   support\n",
      "\n",
      "    Negative       1.00      1.00      1.00        93\n",
      "     Neutral       1.00      1.00      1.00        93\n",
      "    Positive       1.00      1.00      1.00        93\n",
      "\n",
      "    accuracy                           1.00       279\n",
      "   macro avg       1.00      1.00      1.00       279\n",
      "weighted avg       1.00      1.00      1.00       279\n",
      "\n",
      "              precision    recall  f1-score   support\n",
      "\n",
      "    Negative       0.65      0.62      0.64        24\n",
      "     Neutral       0.50      0.71      0.59        24\n",
      "    Positive       0.73      0.46      0.56        24\n",
      "\n",
      "    accuracy                           0.60        72\n",
      "   macro avg       0.63      0.60      0.60        72\n",
      "weighted avg       0.63      0.60      0.60        72\n",
      "\n",
      "Wall time: 1.46 s\n"
     ]
    }
   ],
   "source": [
    "%%time\n",
    "from sklearn.svm import SVC\n",
    "#Model building using Multiclass SVM\n",
    "model_SVC_US = SVC()\n",
    "model_SVC_US.fit( X_train_bow_US.toarray(),y_train_US)\n",
    "\n",
    "#Get Train and Test Accuracy Score\n",
    "train_score=model_SVC_US.score(X_train_bow_US.toarray(),y_train_US)\n",
    "test_score=model_SVC_US.score(X_test_bow_US.toarray(),y_test_US)\n",
    "print('train score is:{} '.format(train_score))\n",
    "print('test score is:{} '.format(test_score))\n",
    "\n",
    "#Get precision    recall  and f1-score on Train data\n",
    "cr=classification_report(y_true=y_train_US,y_pred=model_SVC_US.predict( X_train_bow_US.toarray() ))\n",
    "print(cr)\n",
    "\n",
    "#Get precision    recall  and f1-score on Test data\n",
    "cr=classification_report(y_true=y_test_US,y_pred=model_SVC_US.predict( X_test_bow_US.toarray() ))\n",
    "print(cr)"
   ]
  },
  {
   "cell_type": "markdown",
   "metadata": {},
   "source": [
    "#### Approach-11: Use of Multiclass SVM with Oversampled dataset"
   ]
  },
  {
   "cell_type": "code",
   "execution_count": 118,
   "metadata": {},
   "outputs": [
    {
     "name": "stdout",
     "output_type": "stream",
     "text": [
      "train score is:1.0 \n",
      "test score is:0.954 \n",
      "              precision    recall  f1-score   support\n",
      "\n",
      "    Negative       1.00      1.00      1.00      3749\n",
      "     Neutral       1.00      1.00      1.00      3749\n",
      "    Positive       1.00      1.00      1.00      3749\n",
      "\n",
      "    accuracy                           1.00     11247\n",
      "   macro avg       1.00      1.00      1.00     11247\n",
      "weighted avg       1.00      1.00      1.00     11247\n",
      "\n",
      "              precision    recall  f1-score   support\n",
      "\n",
      "    Negative       1.00      0.29      0.45        24\n",
      "     Neutral       1.00      0.26      0.41        39\n",
      "    Positive       0.95      1.00      0.98       937\n",
      "\n",
      "    accuracy                           0.95      1000\n",
      "   macro avg       0.98      0.52      0.61      1000\n",
      "weighted avg       0.96      0.95      0.94      1000\n",
      "\n",
      "Wall time: 10min 3s\n"
     ]
    }
   ],
   "source": [
    "%%time\n",
    "#Model building using Multiclass SVM\n",
    "model_SVC_OS = SVC()\n",
    "model_SVC_OS.fit( X_train_bow_OS.toarray(),y_train_OS)\n",
    "\n",
    "#Get Train and Test Accuracy Score\n",
    "train_score=model_SVC_OS.score(X_train_bow_OS.toarray(),y_train_OS)\n",
    "test_score=model_SVC_OS.score(X_test_bow.toarray(),y_test)\n",
    "print('train score is:{} '.format(train_score))\n",
    "print('test score is:{} '.format(test_score))\n",
    "\n",
    "#Get precision    recall  and f1-score on Train data\n",
    "cr=classification_report(y_true=y_train_OS,y_pred=model_SVC_OS.predict( X_train_bow_OS.toarray() ))\n",
    "print(cr)\n",
    "\n",
    "#Get precision    recall  and f1-score on Test data\n",
    "cr=classification_report(y_true=y_test,y_pred=model_SVC_OS.predict( X_test_bow.toarray() ))\n",
    "print(cr)"
   ]
  },
  {
   "cell_type": "markdown",
   "metadata": {},
   "source": [
    "#### Approach 12: Use of Ensemble Technique(oversampled multinomial_NB+Logistic Regression)"
   ]
  },
  {
   "cell_type": "code",
   "execution_count": 126,
   "metadata": {},
   "outputs": [
    {
     "name": "stdout",
     "output_type": "stream",
     "text": [
      "train score is:0.9723481817373522 and test score is: 0.6360725720384205\n",
      "classification_report TRAIN Data\n",
      "               precision    recall  f1-score   support\n",
      "\n",
      "    Negative       0.98      1.00      0.99      3749\n",
      "     Neutral       0.94      1.00      0.97      3749\n",
      "    Positive       1.00      0.92      0.96      3749\n",
      "\n",
      "    accuracy                           0.97     11247\n",
      "   macro avg       0.97      0.97      0.97     11247\n",
      "weighted avg       0.97      0.97      0.97     11247\n",
      "\n",
      "classification_report TEST Data\n",
      "               precision    recall  f1-score   support\n",
      "\n",
      "    Negative       0.87      0.59      0.70       937\n",
      "     Neutral       0.65      0.45      0.54       937\n",
      "    Positive       0.53      0.86      0.66       937\n",
      "\n",
      "    accuracy                           0.64      2811\n",
      "   macro avg       0.68      0.64      0.63      2811\n",
      "weighted avg       0.68      0.64      0.63      2811\n",
      "\n",
      "Wall time: 5.96 s\n"
     ]
    }
   ],
   "source": [
    "%%time\n",
    "# 11.Ensemble Learning\n",
    "from sklearn.ensemble import VotingClassifier\n",
    "model_ensemble = VotingClassifier([('M1', model_MNB_OS), \n",
    "                                  ('M2', model_LR_OS)\n",
    "                                 ]\n",
    "                                )\n",
    "model_ensemble.fit( X_train_bow_OS.toarray(),y_train_OS)\n",
    "#Get Train and Test Accuracy Score\n",
    "train_score=model_ensemble.score(X_train_bow_OS.toarray(),y_train_OS)\n",
    "test_score=model_ensemble.score(X_test_bow_OS.toarray(),y_test_OS)\n",
    "print('train score is:{} and test score is: {}'.format(train_score,test_score))\n",
    "\n",
    "#Get precision    recall  and f1-score on Train data\n",
    "cr=classification_report(y_true=y_train_OS,y_pred=model_ensemble.predict( X_train_bow_OS.toarray() ))\n",
    "print('classification_report TRAIN Data\\n',cr)\n",
    "\n",
    "#Get precision    recall  and f1-score on Test data\n",
    "cr=classification_report(y_true=y_test_OS,y_pred=model_ensemble.predict( X_test_bow_OS.toarray() ))\n",
    "print('classification_report TEST Data\\n',cr)"
   ]
  },
  {
   "cell_type": "markdown",
   "metadata": {},
   "source": [
    "#### Approach 13: Use of Ensemble Technique(oversampled_multinomial_NB+XGboost)"
   ]
  },
  {
   "cell_type": "code",
   "execution_count": 127,
   "metadata": {},
   "outputs": [
    {
     "name": "stdout",
     "output_type": "stream",
     "text": [
      "[11:16:59] WARNING: C:\\Users\\Administrator\\workspace\\xgboost-win64_release_1.1.0\\src\\learner.cc:480: \n",
      "Parameters: { scale_pos_weight } might not be used.\n",
      "\n",
      "  This may not be accurate due to some parameters are only used in language bindings but\n",
      "  passed down to XGBoost core.  Or some parameters are not used but slip through this\n",
      "  verification. Please open an issue if you find above cases.\n",
      "\n",
      "\n",
      "train score is:0.9731483951275895 and test score is: 0.6705798648167912\n",
      "classification_report TRAIN Data\n",
      "               precision    recall  f1-score   support\n",
      "\n",
      "    Negative       0.98      1.00      0.99      3749\n",
      "     Neutral       0.95      1.00      0.97      3749\n",
      "    Positive       1.00      0.92      0.96      3749\n",
      "\n",
      "    accuracy                           0.97     11247\n",
      "   macro avg       0.97      0.97      0.97     11247\n",
      "weighted avg       0.97      0.97      0.97     11247\n",
      "\n",
      "classification_report TEST Data\n",
      "               precision    recall  f1-score   support\n",
      "\n",
      "    Negative       0.84      0.62      0.72       937\n",
      "     Neutral       0.65      0.53      0.58       937\n",
      "    Positive       0.60      0.86      0.71       937\n",
      "\n",
      "    accuracy                           0.67      2811\n",
      "   macro avg       0.69      0.67      0.67      2811\n",
      "weighted avg       0.69      0.67      0.67      2811\n",
      "\n",
      "Wall time: 3min 46s\n"
     ]
    }
   ],
   "source": [
    "%%time\n",
    "# 11.Ensemble Learning\n",
    "from sklearn.ensemble import VotingClassifier\n",
    "model_ensemble = VotingClassifier([('M1', model_MNB_OS), \n",
    "                                  ('M2', model_XGBC)\n",
    "                                 ]\n",
    "                                )\n",
    "model_ensemble.fit( X_train_bow_OS.toarray(),y_train_OS)\n",
    "#Get Train and Test Accuracy Score\n",
    "train_score=model_ensemble.score(X_train_bow_OS.toarray(),y_train_OS)\n",
    "test_score=model_ensemble.score(X_test_bow_OS.toarray(),y_test_OS)\n",
    "print('train score is:{} and test score is: {}'.format(train_score,test_score))\n",
    "\n",
    "#Get precision    recall  and f1-score on Train data\n",
    "cr=classification_report(y_true=y_train_OS,y_pred=model_ensemble.predict( X_train_bow_OS.toarray() ))\n",
    "print('classification_report TRAIN Data\\n',cr)\n",
    "\n",
    "#Get precision    recall  and f1-score on Test data\n",
    "cr=classification_report(y_true=y_test_OS,y_pred=model_ensemble.predict( X_test_bow_OS.toarray() ))\n",
    "print('classification_report TEST Data\\n',cr)"
   ]
  },
  {
   "cell_type": "markdown",
   "metadata": {},
   "source": [
    "#### Observation:\n",
    "\n",
    "**Summary of Model Testing and Evaluation at end of Week-3**\n",
    "\n",
    "| Approach | Avg. F-1 Score(Train) | Avg. F-1 Score(Test) | Wt.Avg. F-1 Score(Test) | Accuracy(Test) |\n",
    "| :--- | :---: | :---: | :---: | :---: |\n",
    "| 1. Oversampling - Naive Bayes | 97 % | 61 % | 61 % | 61 % |\n",
    "| 2. Undersampling - Naive Bayes | 95 % | 71 % | 71 % | 71 % |\n",
    "| 3. Over Sampling - Logistic Regression | 99 % | 62 % | 62 % | 63 % |\n",
    "| 4. Under Sampling - Logistic Regression | 99 % | 66 % | 66 % | 67 % |\n",
    "| 5. Random Forest Classifier | 100 % | 61 % | 94 % | 95 % |\n",
    "| 6. XGBoost Classifier | 95 % | 63 % | 94 % | 95 % |\n",
    "| 7. Over Sampling - Neural Network | 100 % | 58 % | 58 % | 58 % |\n",
    "| 8. Under Sampling - Neural Network | 100 % | 57 % | 57 % | 57 % |\n",
    "| 9. Neural Network with Original data(imbalance dataset) | 98 % | 62 % | 94 % | 94 % |\n",
    "| 10. Oversampling - SVM | 100 % | 61 % | 94 % | 95 % |\n",
    "| 11. Undersampling - SVM | 100 % | 60 % | 60 % | 60 % |\n",
    "| 12. Ensemble Technique(Oversampled Naive Bayes+LogisticReg) | 97 % | 63 % | 63 % | 64 % |\n",
    "| 13. Ensemble Technique(Oversampled Naive Bayes+XGBoost) | 97 % | 67 % | 67 % | 67 % |\n"
   ]
  },
  {
   "cell_type": "markdown",
   "metadata": {},
   "source": [
    "## Week4 Tasks: Approach 14: Implement LSTM"
   ]
  },
  {
   "cell_type": "markdown",
   "metadata": {},
   "source": [
    "## Project Task: Week 4\n",
    "\n",
    "**Applying LSTM::**\n",
    "    \n",
    "1. Use LSTM for the previous problem (use parameters of LSTM like top-word, embedding-length, Dropout, epochs, number of layers, etc.). \n",
    "\n",
    "2. Compare the accuracy of neural nets with traditional ML based algorithms.\n",
    "\n",
    "3. Find the best setting of LSTM (Neural Net) that can best classify the reviews as positive, negative, and neutral.\n",
    "\n",
    "\n",
    "### Code :"
   ]
  },
  {
   "cell_type": "code",
   "execution_count": 21,
   "metadata": {},
   "outputs": [
    {
     "name": "stdout",
     "output_type": "stream",
     "text": [
      "Text Preprocessing Step-1:Converting to list for easy manipulation \n",
      " Works as expected. Very easy to use and does not hurt my eyes like a tablet would. \n",
      "\n",
      "Text Preprocessing Step-2&3:Word standardize and Tokenize \n",
      " ['works', 'as', 'expected', '.', 'very', 'easy', 'to', 'use', 'and', 'does', 'not', 'hurt', 'my', 'eyes', 'like', 'a', 'tablet', 'would', '.'] \n",
      "\n",
      "Text Preprocessing Step-5:Remove stop words and punctuations \n",
      " ['works', 'expected', 'easy', 'use', 'hurt', 'eyes', 'like', 'tablet', 'would'] \n",
      "\n",
      "Text Preprocessing Step-6:lemmatized_docs \n",
      " ['work', 'expected', 'easy', 'use', 'hurt', 'eye', 'like', 'tablet', 'would'] \n",
      "\n",
      "Text Preprocessing Step-7:Delete numeric tokens \n",
      " ['work', 'expected', 'easy', 'use', 'hurt', 'eye', 'like', 'tablet', 'would'] \n",
      "\n",
      "Text Preprocessing Step-8:Clean  documents \n",
      " work expected easy use hurt eye like tablet would \n",
      "\n",
      "Text Preprocessing Step-1:Converting to list for easy manipulation \n",
      " Works good. Have to be very careful with kids. Overall good product \n",
      "\n",
      "Text Preprocessing Step-2&3:Word standardize and Tokenize \n",
      " ['works', 'good', '.', 'have', 'to', 'be', 'very', 'careful', 'with', 'kids', '.', 'overall', 'good', 'product'] \n",
      "\n",
      "Text Preprocessing Step-5:Remove stop words and punctuations \n",
      " ['works', 'good', 'careful', 'kids', 'overall', 'good', 'product'] \n",
      "\n",
      "Text Preprocessing Step-6:lemmatized_docs \n",
      " ['work', 'good', 'careful', 'kid', 'overall', 'good', 'product'] \n",
      "\n",
      "Text Preprocessing Step-7:Delete numeric tokens \n",
      " ['work', 'good', 'careful', 'kid', 'overall', 'good', 'product'] \n",
      "\n",
      "Text Preprocessing Step-8:Clean  documents \n",
      " work good careful kid overall good product \n",
      "\n"
     ]
    }
   ],
   "source": [
    "# AS LSTM is memory intensive lets take 30% of the data and test it\n",
    "\n",
    "#Lets take only relevent columns for the preprocessing of Train Data(reviews.text and sentiment)\n",
    "traindata=train[['reviews.text','sentiment']]\n",
    "traindata= traindata.sample(frac=0.3,random_state=1)\n",
    "\n",
    "#Lets take only relevent columns for the preprocessing of Test Data (reviews.text and sentiment)\n",
    "testdata=test_hidden[['reviews.text','sentiment']]\n",
    "testdata= testdata.sample(frac=0.3,random_state=1)\n",
    "\n",
    "train_clean_reviews=text_preprocessing(traindata)\n",
    "test_clean_reviews=text_preprocessing(testdata)"
   ]
  },
  {
   "cell_type": "code",
   "execution_count": 23,
   "metadata": {},
   "outputs": [
    {
     "name": "stdout",
     "output_type": "stream",
     "text": [
      "the shape of X_train and  y_train:  1200 (1200,)\n",
      "the shape of X_test and  y_test:  300 (300,)\n"
     ]
    }
   ],
   "source": [
    "#Prepare Data for Neural Network\n",
    "X_train=train_clean_reviews\n",
    "X_test=test_clean_reviews\n",
    "y_train=traindata['sentiment']\n",
    "y_test=testdata['sentiment']\n",
    "\n",
    "\n",
    "#Label encoding for Class\n",
    "y_train_NN=y_train.replace(['Positive','Negative','Neutral'],[1,0,2])\n",
    "y_test_NN=y_test.replace(['Positive','Negative','Neutral'],[1,0,2])\n",
    "# and Convert class to catagorical\n",
    "y_train_NNC= tf.keras.utils.to_categorical(y_train_NN)\n",
    "y_test_NNC = tf.keras.utils.to_categorical(y_test_NN)\n",
    "\n",
    "print('the shape of X_train and  y_train: ', len(X_train), y_train.shape)\n",
    "print('the shape of X_test and  y_test: ', len(X_test),y_test.shape)"
   ]
  },
  {
   "cell_type": "markdown",
   "metadata": {},
   "source": [
    "## Lets build the Word2Vec Model from Gensim"
   ]
  },
  {
   "cell_type": "code",
   "execution_count": 24,
   "metadata": {},
   "outputs": [
    {
     "name": "stdout",
     "output_type": "stream",
     "text": [
      "5000\n"
     ]
    }
   ],
   "source": [
    "### Convert Review to a Word List\n",
    "#List to hold all words in each review\n",
    "documents = []\n",
    "\n",
    "#Iterate over each review\n",
    "for doc in fulldata_clean_reviews:\n",
    "    documents.append(doc.split(' '))\n",
    "\n",
    "print(len(documents))\n"
   ]
  },
  {
   "cell_type": "code",
   "execution_count": 25,
   "metadata": {},
   "outputs": [],
   "source": [
    "#Build the model\n",
    "model= gensim.models.Word2Vec(documents, #Word list\n",
    "                               min_count=10, #Ignore all words with total frequency lower than this                           \n",
    "                               workers=4, #Number of CPU Cores\n",
    "                               size=50,  #Embedding size\n",
    "                               window=5, #Maximum Distance between current and predicted word\n",
    "                               iter=10   #Number of iterations over the text corpus\n",
    "                              )  "
   ]
  },
  {
   "cell_type": "markdown",
   "metadata": {},
   "source": [
    "### Saving the model"
   ]
  },
  {
   "cell_type": "code",
   "execution_count": 26,
   "metadata": {},
   "outputs": [],
   "source": [
    "model.save('word2vec-ecomm')\n",
    "#Load model from memory\n",
    "#model = gensim.models.Word2Vec.load('word2vec-ecomm')"
   ]
  },
  {
   "cell_type": "code",
   "execution_count": 27,
   "metadata": {},
   "outputs": [],
   "source": [
    "#1.Build Tokenizer to get Number sequences for Each review\n",
    "from tensorflow.python.keras.preprocessing.text import Tokenizer\n",
    "\n",
    "#Vocab size\n",
    "top_words = 5000\n",
    "\n",
    "t = Tokenizer(num_words=top_words)\n",
    "t.fit_on_texts(X_train)\n",
    "\n",
    "#2.Get the word index for each of the word in the review\n",
    "X_train = t.texts_to_sequences(X_train)\n",
    "X_test = t.texts_to_sequences(X_test)"
   ]
  },
  {
   "cell_type": "code",
   "execution_count": 28,
   "metadata": {},
   "outputs": [
    {
     "name": "stdout",
     "output_type": "stream",
     "text": [
      "Maximum review length: 773\n",
      "Minimum review length: 3\n"
     ]
    }
   ],
   "source": [
    "#Maximum review length\n",
    "print('Maximum review length: {}'.format(\n",
    "len(max((X_train + X_test), key=len))))\n",
    "\n",
    "#Minimum review length.\n",
    "print('Minimum review length: {}'.format(\n",
    "len(min((X_test + X_test), key=len))))"
   ]
  },
  {
   "cell_type": "code",
   "execution_count": 29,
   "metadata": {},
   "outputs": [],
   "source": [
    "#3.Limit the maximum review length to max_words by truncating longer reviews and padding shorter reviews \n",
    "# with a null value.\n",
    "from tensorflow.python.keras.preprocessing import sequence\n",
    "\n",
    "#Each review size\n",
    "max_review_length = 500\n",
    "\n",
    "X_train = sequence.pad_sequences(X_train,maxlen=max_review_length,padding='post')\n",
    "X_test = sequence.pad_sequences(X_test, maxlen=max_review_length, padding='post')"
   ]
  },
  {
   "cell_type": "markdown",
   "metadata": {},
   "source": [
    "## Build Embedding Matrix from Pre-Trained Word2Vec model"
   ]
  },
  {
   "cell_type": "code",
   "execution_count": 30,
   "metadata": {},
   "outputs": [
    {
     "name": "stdout",
     "output_type": "stream",
     "text": [
      "Loaded word2vec model..\n",
      "Model shape:  (1009, 50)\n"
     ]
    }
   ],
   "source": [
    "#Load pre-trained model\n",
    "word2vec = gensim.models.Word2Vec.load('word2vec-ecomm')\n",
    "#word2vec = gensim.models.Word2Vec.load('word2vec-movie-ratings')\n",
    "\n",
    "\n",
    "#Embedding Length\n",
    "embedding_vector_length = word2vec.wv.vectors.shape[1]\n",
    "\n",
    "print('Loaded word2vec model..')\n",
    "print('Model shape: ', word2vec.wv.vectors.shape)\n",
    "\n",
    "#Initialize embedding matrix to all zeros\n",
    "embedding_matrix = np.zeros((top_words + 1, embedding_vector_length))\n",
    "\n",
    "#Steps for populating embedding matrix\n",
    "\n",
    "#1. Check each word in tokenizer vocablury to see if it exist in pre-trained\n",
    "# word2vec model.\n",
    "#2. If found, update embedding matrix with embeddings for the word \n",
    "# from word2vec model\n",
    "\n",
    "for word, i in sorted(t.word_index.items(),key=lambda x:x[1]):\n",
    "    if i > top_words:\n",
    "        break\n",
    "    if word in word2vec.wv.vocab:\n",
    "        embedding_vector = word2vec.wv[word]\n",
    "        embedding_matrix[i] = embedding_vector"
   ]
  },
  {
   "cell_type": "markdown",
   "metadata": {},
   "source": [
    "## Build the Graph"
   ]
  },
  {
   "cell_type": "code",
   "execution_count": 31,
   "metadata": {},
   "outputs": [],
   "source": [
    "import tensorflow as tf\n",
    "tf.keras.backend.clear_session()\n",
    "from tensorflow.python.keras.models import Sequential\n",
    "from tensorflow.python.keras.layers import Dropout, Dense, Embedding, Flatten,LSTM"
   ]
  },
  {
   "cell_type": "markdown",
   "metadata": {},
   "source": [
    "Add Embedding layer"
   ]
  },
  {
   "cell_type": "code",
   "execution_count": 33,
   "metadata": {},
   "outputs": [],
   "source": [
    "#Build a sequential model\n",
    "model_LSTM = Sequential()\n",
    "\n",
    "model_LSTM.add(Embedding(top_words + 1, #Indexes that we need to deal with                    \n",
    "                    embedding_vector_length, #embedding_size i.e 50 in this case\n",
    "                    input_length=max_review_length, #Size of each review i.e 300 in this case\n",
    "                    weights=[embedding_matrix], #This can be also a Pre-trained embedding\n",
    "                    trainable=False   #This can set to False incase of pretrained model\n",
    "                   )\n",
    "         )\n",
    "\n",
    "#model_LSTM.add(LSTM(200,activation='relu',return_sequences=True))\n",
    "#model_LSTM.add(Dropout(0.5))\n",
    "#model_LSTM.add(tf.keras.layers.BatchNormalization())\n",
    "\n",
    "#model_LSTM.add(LSTM(100,activation='relu',return_sequences=True))\n",
    "#model_LSTM.add(Dropout(0.4))\n",
    "#model_LSTM.add(tf.keras.layers.BatchNormalization())\n",
    "\n",
    "model_LSTM.add(LSTM(100,activation='relu'))\n",
    "#model_LSTM.add(Dropout(0.3))\n",
    "model_LSTM.add(tf.keras.layers.BatchNormalization())\n",
    "\n",
    "model_LSTM.add(Dense(50,activation='relu'))\n",
    "#model_LSTM.add(Dropout(0.3))\n",
    "model_LSTM.add(tf.keras.layers.BatchNormalization())\n",
    "\n",
    "\n",
    "model_LSTM.add(Dense(3,activation='softmax'))\n",
    "\n",
    "model_LSTM.compile(optimizer='adam',\n",
    "              loss='categorical_crossentropy',\n",
    "              metrics=['accuracy'])"
   ]
  },
  {
   "cell_type": "markdown",
   "metadata": {},
   "source": [
    "## Execute the graph"
   ]
  },
  {
   "cell_type": "code",
   "execution_count": 46,
   "metadata": {},
   "outputs": [
    {
     "name": "stdout",
     "output_type": "stream",
     "text": [
      "Train on 1200 samples, validate on 300 samples\n",
      "Epoch 1/10\n",
      "1200/1200 [==============================] - 23s 20ms/sample - loss: 1.0552 - accuracy: 0.7833 - val_loss: 0.9662 - val_accuracy: 0.9500\n",
      "Epoch 2/10\n",
      "1200/1200 [==============================] - 21s 18ms/sample - loss: 0.9284 - accuracy: 0.9300 - val_loss: 0.8253 - val_accuracy: 0.9500\n",
      "Epoch 3/10\n",
      "1200/1200 [==============================] - 22s 18ms/sample - loss: 0.7837 - accuracy: 0.9308 - val_loss: 0.6913 - val_accuracy: 0.9500\n",
      "Epoch 4/10\n",
      "1200/1200 [==============================] - 22s 18ms/sample - loss: 0.6453 - accuracy: 0.9325 - val_loss: 0.5447 - val_accuracy: 0.9500\n",
      "Epoch 5/10\n",
      "1200/1200 [==============================] - 22s 18ms/sample - loss: 0.5213 - accuracy: 0.9308 - val_loss: 0.4390 - val_accuracy: 0.9500\n",
      "Epoch 6/10\n",
      "1200/1200 [==============================] - 22s 18ms/sample - loss: 0.4223 - accuracy: 0.9325 - val_loss: 0.3455 - val_accuracy: 0.9500\n",
      "Epoch 7/10\n",
      "1200/1200 [==============================] - 22s 18ms/sample - loss: 0.3600 - accuracy: 0.9317 - val_loss: 0.3063 - val_accuracy: 0.9500\n",
      "Epoch 8/10\n",
      "1200/1200 [==============================] - 22s 18ms/sample - loss: 0.3269 - accuracy: 0.9325 - val_loss: 0.2736 - val_accuracy: 0.9500\n",
      "Epoch 9/10\n",
      "1200/1200 [==============================] - 22s 18ms/sample - loss: 0.3114 - accuracy: 0.9317 - val_loss: 0.2605 - val_accuracy: 0.9500\n",
      "Epoch 10/10\n",
      "1200/1200 [==============================] - 22s 18ms/sample - loss: 0.3013 - accuracy: 0.9325 - val_loss: 0.2567 - val_accuracy: 0.9500\n",
      "Wall time: 3min 39s\n"
     ]
    },
    {
     "data": {
      "text/plain": [
       "<tensorflow.python.keras.callbacks.History at 0x1baa7df0108>"
      ]
     },
     "execution_count": 46,
     "metadata": {},
     "output_type": "execute_result"
    }
   ],
   "source": [
    "%%time\n",
    "model_LSTM.fit(X_train,y_train_NNC,\n",
    "          epochs=10,\n",
    "          batch_size=64,          \n",
    "          validation_data=(X_test, y_test_NNC))"
   ]
  },
  {
   "cell_type": "code",
   "execution_count": 47,
   "metadata": {},
   "outputs": [
    {
     "name": "stdout",
     "output_type": "stream",
     "text": [
      "Classification Report for Train Data \n",
      "               precision    recall  f1-score   support\n",
      "\n",
      "           0       0.00      0.00      0.00        27\n",
      "           1       0.93      1.00      0.97      1119\n",
      "           2       0.00      0.00      0.00        54\n",
      "\n",
      "    accuracy                           0.93      1200\n",
      "   macro avg       0.31      0.33      0.32      1200\n",
      "weighted avg       0.87      0.93      0.90      1200\n",
      "\n",
      "-------------------------------------------------------------------------------------------\n",
      "Classification Report for Test Data \n",
      "               precision    recall  f1-score   support\n",
      "\n",
      "           0       0.00      0.00      0.00         5\n",
      "           1       0.95      1.00      0.97       285\n",
      "           2       0.00      0.00      0.00        10\n",
      "\n",
      "    accuracy                           0.95       300\n",
      "   macro avg       0.32      0.33      0.32       300\n",
      "weighted avg       0.90      0.95      0.93       300\n",
      "\n"
     ]
    }
   ],
   "source": [
    "# predict  classes\n",
    "yhat_classes_train = model_LSTM.predict_classes(X_train, verbose=0)\n",
    "yhat_classes_test = model_LSTM.predict_classes(X_test, verbose=0)\n",
    "\n",
    "#Classification Report for Train Data\n",
    "cr=classification_report(y_true=y_train_NN,y_pred=yhat_classes_train)\n",
    "print('Classification Report for Train Data \\n',cr)\n",
    "print('-------------------------------------------------------------------------------------------')\n",
    "\n",
    "#Classification Report for Test Data\n",
    "cr=classification_report(y_true=y_test_NN,y_pred=yhat_classes_test)\n",
    "print('Classification Report for Test Data \\n',cr)"
   ]
  },
  {
   "cell_type": "markdown",
   "metadata": {},
   "source": [
    "### Lets do Cross validation and see if there is any improvement in the score\n",
    "    We will select top 3 models and perform cross validations and select the best model post crosss validation\n",
    "    Here are the steps for CV \n",
    "    Step1: Cross validate with StratifiedKFold with 10 splits\n",
    "           Select those model which has highest F1 scores with minimum standard deviation \n",
    "    Step2: Identify which splits(among 10 splits) gives the best Train and Test sample\n",
    "    Step3: Extract the best Sample and Refit the model with the best train sample\n",
    "    Step4: Predict with Unseen Test Data and find out Classification report\n"
   ]
  },
  {
   "cell_type": "code",
   "execution_count": 68,
   "metadata": {},
   "outputs": [],
   "source": [
    "COLUMN_NAMES = [\"Approach\",\"Model Name\", \"F1 Scores\",\"Range of F1 Scores\",\"Std Deviation of F1 Scores\"]\n",
    "df_model_selection = pd.DataFrame(columns=COLUMN_NAMES)\n",
    "\n",
    "\n",
    "from sklearn.model_selection import StratifiedKFold\n",
    "from sklearn.metrics import f1_score\n",
    "#from sklearn import metrics\n",
    "\n",
    "def model_traintest_CV(model_obj, model_name, approach, n_splits, X, y):\n",
    "    global df_model_selection\n",
    "    \n",
    "    skf = StratifiedKFold(n_splits, random_state=12,shuffle=True)\n",
    "    \n",
    "    weighted_f1_score = []\n",
    "    \n",
    "    for train_index, test_index in skf.split(X,y):\n",
    "        X_train, X_test = X[train_index], X[test_index] \n",
    "        y_train, y_test = y[train_index], y[test_index]\n",
    "        \n",
    "        model_obj.fit(X_train,y_train)\n",
    "        \n",
    "        test_ds_predicted = model_obj.predict( X_test )\n",
    "        \n",
    "        weighted_f1_score.append(round(f1_score(y_true=y_test, y_pred=test_ds_predicted , average='weighted'),2))   \n",
    "         \n",
    "    sd_weighted_f1_score = np.std(weighted_f1_score, ddof=1)\n",
    "    range_of_f1_scores = \"{}-{}\".format(min(weighted_f1_score),max(weighted_f1_score))    \n",
    "    df_model_selection = pd.concat([df_model_selection,pd.DataFrame([[approach,model_name,sorted(weighted_f1_score),range_of_f1_scores,sd_weighted_f1_score]], columns =COLUMN_NAMES) ])\n"
   ]
  },
  {
   "cell_type": "markdown",
   "metadata": {},
   "source": [
    "#### Step1: Cross validate with StratifiedKFold with 10 splits"
   ]
  },
  {
   "cell_type": "code",
   "execution_count": null,
   "metadata": {},
   "outputs": [],
   "source": [
    "%%time\n",
    "COLUMN_NAMES = [\"Approach\",\"Model Name\", \"F1 Scores\",\"Range of F1 Scores\",\"Std Deviation of F1 Scores\"]\n",
    "df_model_selection = pd.DataFrame(columns=COLUMN_NAMES)\n",
    "\n",
    "\n",
    "n_splits = 10\n",
    "X=X_train_bow.toarray()\n",
    "y=y_train\n",
    "\n",
    "\n",
    "# 1.RandomForestClassifier\n",
    "approach='RandomForestClassifier with Cross Validation'\n",
    "model_RFC=RandomForestClassifier(n_estimators=200,class_weight='balanced')\n",
    "model_obj=model_RFC\n",
    "model_name='RandomForest Classifier'\n",
    "model_traintest_CV(model_obj, model_name, approach, n_splits, X, y)\n",
    "\n",
    "# 2.XGBoost Classifier\n",
    "approach='XGBoost Classifier with Cross Validation'\n",
    "model_XGBC=XGBClassifier()\n",
    "model_obj=model_XGBC\n",
    "model_name='XGBoost Classifier'\n",
    "model_traintest_CV(model_obj, model_name, approach, n_splits, X, y)\n",
    "\n",
    "#3.Undersampling - Naive Bayes\n",
    "X=X_train_bow_US.toarray()\n",
    "y=y_train_US\n",
    "approach='Undersampling - Multinomial Naive Bayes with Cross Validation'\n",
    "model_MNB = MultinomialNB()\n",
    "model_obj=model_MNB\n",
    "model_name='Multinomial Naive Bayes'\n",
    "model_traintest_CV(model_obj, model_name, approach, n_splits, X, y)\n",
    "\n",
    "df_model_selection"
   ]
  },
  {
   "cell_type": "code",
   "execution_count": 85,
   "metadata": {},
   "outputs": [
    {
     "data": {
      "text/html": [
       "<div>\n",
       "<style scoped>\n",
       "    .dataframe tbody tr th:only-of-type {\n",
       "        vertical-align: middle;\n",
       "    }\n",
       "\n",
       "    .dataframe tbody tr th {\n",
       "        vertical-align: top;\n",
       "    }\n",
       "\n",
       "    .dataframe thead th {\n",
       "        text-align: right;\n",
       "    }\n",
       "</style>\n",
       "<table border=\"1\" class=\"dataframe\">\n",
       "  <thead>\n",
       "    <tr style=\"text-align: right;\">\n",
       "      <th></th>\n",
       "      <th>Approach</th>\n",
       "      <th>Model Name</th>\n",
       "      <th>F1 Scores</th>\n",
       "      <th>Range of F1 Scores</th>\n",
       "      <th>Std Deviation of F1 Scores</th>\n",
       "    </tr>\n",
       "  </thead>\n",
       "  <tbody>\n",
       "    <tr>\n",
       "      <th>0</th>\n",
       "      <td>RandomForestClassifier with Cross Validation</td>\n",
       "      <td>RandomForest Classifier</td>\n",
       "      <td>[0.92, 0.92, 0.92, 0.92, 0.93, 0.93, 0.93, 0.9...</td>\n",
       "      <td>0.92-0.94</td>\n",
       "      <td>0.008756</td>\n",
       "    </tr>\n",
       "    <tr>\n",
       "      <th>0</th>\n",
       "      <td>XGBoost Classifier with Cross Validation</td>\n",
       "      <td>XGBoost Classifier</td>\n",
       "      <td>[0.92, 0.93, 0.93, 0.93, 0.93, 0.93, 0.93, 0.9...</td>\n",
       "      <td>0.92-0.94</td>\n",
       "      <td>0.006325</td>\n",
       "    </tr>\n",
       "    <tr>\n",
       "      <th>0</th>\n",
       "      <td>Undersampling - Multinomial Naive Bayes with C...</td>\n",
       "      <td>Multinomial Naive Bayes</td>\n",
       "      <td>[0.52, 0.53, 0.56, 0.56, 0.58, 0.6, 0.6, 0.61,...</td>\n",
       "      <td>0.52-0.74</td>\n",
       "      <td>0.062370</td>\n",
       "    </tr>\n",
       "  </tbody>\n",
       "</table>\n",
       "</div>"
      ],
      "text/plain": [
       "                                            Approach               Model Name  \\\n",
       "0       RandomForestClassifier with Cross Validation  RandomForest Classifier   \n",
       "0           XGBoost Classifier with Cross Validation       XGBoost Classifier   \n",
       "0  Undersampling - Multinomial Naive Bayes with C...  Multinomial Naive Bayes   \n",
       "\n",
       "                                           F1 Scores Range of F1 Scores  \\\n",
       "0  [0.92, 0.92, 0.92, 0.92, 0.93, 0.93, 0.93, 0.9...          0.92-0.94   \n",
       "0  [0.92, 0.93, 0.93, 0.93, 0.93, 0.93, 0.93, 0.9...          0.92-0.94   \n",
       "0  [0.52, 0.53, 0.56, 0.56, 0.58, 0.6, 0.6, 0.61,...          0.52-0.74   \n",
       "\n",
       "   Std Deviation of F1 Scores  \n",
       "0                    0.008756  \n",
       "0                    0.006325  \n",
       "0                    0.062370  "
      ]
     },
     "execution_count": 85,
     "metadata": {},
     "output_type": "execute_result"
    }
   ],
   "source": [
    "df_model_selection"
   ]
  },
  {
   "cell_type": "markdown",
   "metadata": {},
   "source": [
    "#### Step2: Identify which splits(among 10 splits) gives the best Train and Test sample"
   ]
  },
  {
   "cell_type": "code",
   "execution_count": 73,
   "metadata": {},
   "outputs": [
    {
     "name": "stdout",
     "output_type": "stream",
     "text": [
      "Train f1-Score: 1.0, Test f1-score: 0.92, for Sample Split: 1\n",
      "Train f1-Score: 1.0, Test f1-score: 0.94, for Sample Split: 2\n",
      "Train f1-Score: 1.0, Test f1-score: 0.93, for Sample Split: 3\n",
      "Train f1-Score: 1.0, Test f1-score: 0.94, for Sample Split: 4\n",
      "Train f1-Score: 1.0, Test f1-score: 0.94, for Sample Split: 5\n",
      "Train f1-Score: 1.0, Test f1-score: 0.93, for Sample Split: 6\n",
      "Train f1-Score: 1.0, Test f1-score: 0.94, for Sample Split: 7\n",
      "Train f1-Score: 1.0, Test f1-score: 0.91, for Sample Split: 8\n",
      "Train f1-Score: 1.0, Test f1-score: 0.93, for Sample Split: 9\n",
      "Train f1-Score: 1.0, Test f1-score: 0.92, for Sample Split: 10\n",
      "Wall time: 2min 1s\n"
     ]
    }
   ],
   "source": [
    "%%time\n",
    "# Now lets try to get the Scores using StratifiedKFold Cross Validation for RandomForest Classifier\n",
    "\n",
    "#Initialize the algo\n",
    "model=RandomForestClassifier(n_estimators=200,class_weight='balanced')\n",
    "X=X_train_bow.toarray()\n",
    "y=y_train\n",
    "\n",
    "#Initialize StratifiedKFold Method\n",
    "from sklearn.model_selection import StratifiedKFold\n",
    "kfold = StratifiedKFold(n_splits=10, \n",
    "              random_state=1,\n",
    "              shuffle=True)\n",
    "\n",
    "#Initialize For Loop \n",
    "\n",
    "i=0\n",
    "for train,test in kfold.split(X,y):\n",
    "    i = i+1\n",
    "    X_train,X_test = X[train],X[test]\n",
    "    y_train,y_test = y[train],y[test]\n",
    "    \n",
    "    model.fit(X_train,y_train)\n",
    "    test_ds_predicted=model.predict(X_test)\n",
    "    train_ds_predicted=model.predict(X_train)\n",
    "    \n",
    "    test_f1_score=round(f1_score(y_true=y_test, y_pred=test_ds_predicted , average='weighted'),2)\n",
    "    train_f1_score=round(f1_score(y_true=y_train, y_pred=train_ds_predicted , average='weighted'),2)\n",
    "    \n",
    "    #print(\"Train Score: {}, Test score: {}, for Sample Split: {}\".format(model.score(X_train,y_train),model.score(X_test,y_test),i))\n",
    "    print(\"Train f1-Score: {}, Test f1-score: {}, for Sample Split: {}\".format(train_f1_score,test_f1_score,i))\n",
    "        "
   ]
  },
  {
   "cell_type": "markdown",
   "metadata": {},
   "source": [
    "#### Step3: Extract the best Sample and Refit the model with the best train sample"
   ]
  },
  {
   "cell_type": "code",
   "execution_count": 74,
   "metadata": {},
   "outputs": [],
   "source": [
    "#From above results we can extract the best Train and Test sample from either from split 2,4,5 or 7\n",
    "from sklearn.model_selection import StratifiedKFold\n",
    "kfold = StratifiedKFold(n_splits=10, #n_splits should be equal to no of cv value in cross_val_score\n",
    "              random_state=1,\n",
    "              shuffle=True)\n",
    "i=0\n",
    "for train,test in kfold.split(X,y):\n",
    "    i = i+1\n",
    "    if i == 2:\n",
    "        X_train,X_test,y_train,y_test = X[train],X[test],y[train],y[test]"
   ]
  },
  {
   "cell_type": "code",
   "execution_count": 75,
   "metadata": {},
   "outputs": [
    {
     "name": "stdout",
     "output_type": "stream",
     "text": [
      "Train f1-Score: 0.99, Test f1-score: 1.0\n",
      "Train Accuracy Score is:1.0 and  Test Accuracy Score:0.95\n"
     ]
    }
   ],
   "source": [
    "#Now Lets fit the model with above X_train,X_test \n",
    "finalModel=RandomForestClassifier(n_estimators=200,class_weight='balanced')\n",
    "finalModel.fit(X_train,y_train)\n",
    "\n",
    "test_ds_predicted=model.predict(X_test)\n",
    "train_ds_predicted=model.predict(X_train)\n",
    "\n",
    "test_f1_score=round(f1_score(y_true=y_test, y_pred=test_ds_predicted , average='weighted'),2)\n",
    "train_f1_score=round(f1_score(y_true=y_train, y_pred=train_ds_predicted , average='weighted'),2)\n",
    "print(\"Train f1-Score: {}, Test f1-score: {}\".format(train_f1_score,test_f1_score))\n",
    "\n",
    "\n",
    "train_score=np.round(finalModel.score(X_train,y_train),2)\n",
    "test_score=np.round(finalModel.score(X_test,y_test),2)\n",
    "print('Train Accuracy Score is:{} and  Test Accuracy Score:{}'.format(train_score,test_score))"
   ]
  },
  {
   "cell_type": "markdown",
   "metadata": {},
   "source": [
    "#### Step4: Predict with Unseen Test Data and find out Classification report"
   ]
  },
  {
   "cell_type": "code",
   "execution_count": 81,
   "metadata": {},
   "outputs": [
    {
     "name": "stdout",
     "output_type": "stream",
     "text": [
      "train score is:1.0 and test score is: 0.952\n",
      "classification_report TRAIN Data\n",
      "               precision    recall  f1-score   support\n",
      "\n",
      "    Negative       1.00      1.00      1.00        84\n",
      "     Neutral       1.00      1.00      1.00       142\n",
      "    Positive       1.00      1.00      1.00      3374\n",
      "\n",
      "    accuracy                           1.00      3600\n",
      "   macro avg       1.00      1.00      1.00      3600\n",
      "weighted avg       1.00      1.00      1.00      3600\n",
      "\n",
      "classification_report TEST Data\n",
      "               precision    recall  f1-score   support\n",
      "\n",
      "    Negative       1.00      0.29      0.45        24\n",
      "     Neutral       1.00      0.21      0.34        39\n",
      "    Positive       0.95      1.00      0.98       937\n",
      "\n",
      "    accuracy                           0.95      1000\n",
      "   macro avg       0.98      0.50      0.59      1000\n",
      "weighted avg       0.95      0.95      0.94      1000\n",
      "\n"
     ]
    }
   ],
   "source": [
    "#Now Lets get the performance Report from Unseen Test Data(X_test_bow)\n",
    "\n",
    "y_test_actual=test_hidden['sentiment']\n",
    "\n",
    "train_score=finalModel.score(X_train,y_train)\n",
    "test_score=finalModel.score(X_test_bow.toarray(),y_test_actual)\n",
    "print('train score is:{} and test score is: {}'.format(train_score,test_score))\n",
    "\n",
    "#Get precision    recall  and f1-score on Train data\n",
    "cr=classification_report(y_true=y_train,y_pred=finalModel.predict( X_train ))\n",
    "print('classification_report TRAIN Data\\n',cr)\n",
    "\n",
    "#Get precision    recall  and f1-score on Test data\n",
    "cr=classification_report(y_true=y_test_actual,y_pred=finalModel.predict( X_test_bow.toarray() ))\n",
    "print('classification_report TEST Data\\n',cr)"
   ]
  },
  {
   "cell_type": "markdown",
   "metadata": {},
   "source": [
    "#### Conclusion after Cross Validation\n",
    "    Even after 10 fold Startified Cross validation , the f1 score and accuracy score did not change much.\n",
    "    This clearly explains for the fact that there is no scope for improving the performance unless we optimize the input data"
   ]
  },
  {
   "cell_type": "markdown",
   "metadata": {},
   "source": [
    "#### Observation:\n",
    "\n",
    "**Summary of Model Testing and Evaluation at end of Week-3**\n",
    "\n",
    "| Approach | Avg. F-1 Score(Train) | Avg. F-1 Score(Test) | Wt.Avg. F-1 Score(Test) | Accuracy(Test) |\n",
    "| :--- | :---: | :---: | :---: | :---: |\n",
    "| 1. Oversampling - Naive Bayes | 97 % | 61 % | 61 % | 61 % |\n",
    "| 2. Undersampling - Naive Bayes | 95 % | 71 % | 71 % | 71 % |\n",
    "| 3. Over Sampling - Logistic Regression | 99 % | 62 % | 62 % | 63 % |\n",
    "| 4. Under Sampling - Logistic Regression | 99 % | 66 % | 66 % | 67 % |\n",
    "| 5. Random Forest Classifier | 100 % | 61 % | 94 % | 95 % |\n",
    "| 6. XGBoost Classifier | 95 % | 63 % | 94 % | 95 % |\n",
    "| 7. Over Sampling - Neural Network | 100 % | 58 % | 58 % | 58 % |\n",
    "| 8. Under Sampling - Neural Network | 100 % | 57 % | 57 % | 57 % |\n",
    "| 9. Neural Network with Original data(imbalance dataset) | 98 % | 62 % | 94 % | 94 % |\n",
    "| 10. Oversampling - SVM | 100 % | 61 % | 94 % | 95 % |\n",
    "| 11. Undersampling - SVM | 100 % | 60 % | 60 % | 60 % |\n",
    "| 12. Ensemble Technique(Oversampled Naive Bayes+LogisticReg) | 97 % | 63 % | 63 % | 64 % |\n",
    "| 13. Ensemble Technique(Oversampled Naive Bayes+XGBoost) | 97 % | 67 % | 67 % | 67 % |\n",
    "| 14. LSTM | 32 % | 32 % | 93 % | 95 % |\n",
    "\n",
    " **Note: Below are some of the different options tried out and summary of observation**\n",
    "    1. Executed LSTM with single layer with whole dataset ( It could not be executed becase of huge resource requirement)\n",
    "    2. Executed LSTM with single layer with 30% of data: Accuracy was around 95%. However   F-1 score for -ve and neutral\n",
    "     sentiments could not be performed well. \n",
    "    3. Tried with valious combinationes of optimizers(SGG, rmsprop).Tried with various combinations of epochs, batch sizes\n",
    "    4. Tried with different combinations of Topwords, Max review lengths, embedding vector length etc.\n",
    "    5. Tried with 2 hidden layers but it could not be executed. \n",
    "    \n",
    "    \n",
    "    In summary, LSTM is the least performing model as compared to  Traditional Neural Network and othef ML models used \n",
    "    for this usecase.\n",
    "    The primary reason for poor LSTM performance is because we need a pretrained  Corpus specific to this domain \n",
    "    so that model can utilize the  power of word embedding. \n",
    "    \n",
    "    The best performing models for this usecase are below\n",
    "    1.Random Forest Classifier with wt.Avg F1-score of 94% \n",
    "    2.XGBoost Classifier with wt.Avg F1-score of 94% \n",
    "    3.Neural Network with Original data(imbalance dataset) wt.Avg F1-score of 94% \n",
    "    \n",
    "    If we consider the Average F1 score criteria, then the best performing model is Naive Bayes with Undersampled data. \n"
   ]
  },
  {
   "cell_type": "markdown",
   "metadata": {},
   "source": [
    "## Project Task: Week 4\n",
    "\n",
    "**Topic Modeling:**\n",
    "    \n",
    "\n",
    "\n",
    "### Code :"
   ]
  },
  {
   "cell_type": "code",
   "execution_count": 88,
   "metadata": {},
   "outputs": [],
   "source": [
    "train=pd.read_csv('train_data.csv')\n",
    "test_hidden=pd.read_csv('test_data_hidden.csv')\n",
    "test=pd.read_csv('test_data.csv')\n"
   ]
  },
  {
   "cell_type": "code",
   "execution_count": 89,
   "metadata": {},
   "outputs": [
    {
     "name": "stdout",
     "output_type": "stream",
     "text": [
      "shape of merged data is:  (5000, 8)\n"
     ]
    },
    {
     "data": {
      "text/html": [
       "<div>\n",
       "<style scoped>\n",
       "    .dataframe tbody tr th:only-of-type {\n",
       "        vertical-align: middle;\n",
       "    }\n",
       "\n",
       "    .dataframe tbody tr th {\n",
       "        vertical-align: top;\n",
       "    }\n",
       "\n",
       "    .dataframe thead th {\n",
       "        text-align: right;\n",
       "    }\n",
       "</style>\n",
       "<table border=\"1\" class=\"dataframe\">\n",
       "  <thead>\n",
       "    <tr style=\"text-align: right;\">\n",
       "      <th></th>\n",
       "      <th>name</th>\n",
       "      <th>brand</th>\n",
       "      <th>categories</th>\n",
       "      <th>primaryCategories</th>\n",
       "      <th>reviews.date</th>\n",
       "      <th>reviews.text</th>\n",
       "      <th>reviews.title</th>\n",
       "      <th>sentiment</th>\n",
       "    </tr>\n",
       "  </thead>\n",
       "  <tbody>\n",
       "    <tr>\n",
       "      <th>0</th>\n",
       "      <td>All-New Fire HD 8 Tablet, 8\" HD Display, Wi-Fi...</td>\n",
       "      <td>Amazon</td>\n",
       "      <td>Electronics,iPad &amp; Tablets,All Tablets,Fire Ta...</td>\n",
       "      <td>Electronics</td>\n",
       "      <td>2016-12-26T00:00:00.000Z</td>\n",
       "      <td>Purchased on Black FridayPros - Great Price (e...</td>\n",
       "      <td>Powerful tablet</td>\n",
       "      <td>Positive</td>\n",
       "    </tr>\n",
       "    <tr>\n",
       "      <th>1</th>\n",
       "      <td>Amazon - Echo Plus w/ Built-In Hub - Silver</td>\n",
       "      <td>Amazon</td>\n",
       "      <td>Amazon Echo,Smart Home,Networking,Home &amp; Tools...</td>\n",
       "      <td>Electronics,Hardware</td>\n",
       "      <td>2018-01-17T00:00:00.000Z</td>\n",
       "      <td>I purchased two Amazon in Echo Plus and two do...</td>\n",
       "      <td>Amazon Echo Plus AWESOME</td>\n",
       "      <td>Positive</td>\n",
       "    </tr>\n",
       "    <tr>\n",
       "      <th>2</th>\n",
       "      <td>Amazon Echo Show Alexa-enabled Bluetooth Speak...</td>\n",
       "      <td>Amazon</td>\n",
       "      <td>Amazon Echo,Virtual Assistant Speakers,Electro...</td>\n",
       "      <td>Electronics,Hardware</td>\n",
       "      <td>2017-12-20T00:00:00.000Z</td>\n",
       "      <td>Just an average Alexa option. Does show a few ...</td>\n",
       "      <td>Average</td>\n",
       "      <td>Neutral</td>\n",
       "    </tr>\n",
       "    <tr>\n",
       "      <th>3</th>\n",
       "      <td>Fire HD 10 Tablet, 10.1 HD Display, Wi-Fi, 16 ...</td>\n",
       "      <td>Amazon</td>\n",
       "      <td>eBook Readers,Fire Tablets,Electronics Feature...</td>\n",
       "      <td>Office Supplies,Electronics</td>\n",
       "      <td>2017-08-04T00:00:00.000Z</td>\n",
       "      <td>very good product. Exactly what I wanted, and ...</td>\n",
       "      <td>Greattttttt</td>\n",
       "      <td>Positive</td>\n",
       "    </tr>\n",
       "    <tr>\n",
       "      <th>4</th>\n",
       "      <td>Brand New Amazon Kindle Fire 16gb 7\" Ips Displ...</td>\n",
       "      <td>Amazon</td>\n",
       "      <td>Computers/Tablets &amp; Networking,Tablets &amp; eBook...</td>\n",
       "      <td>Electronics</td>\n",
       "      <td>2017-01-23T00:00:00.000Z</td>\n",
       "      <td>This is the 3rd one I've purchased. I've bough...</td>\n",
       "      <td>Very durable!</td>\n",
       "      <td>Positive</td>\n",
       "    </tr>\n",
       "  </tbody>\n",
       "</table>\n",
       "</div>"
      ],
      "text/plain": [
       "                                                name   brand  \\\n",
       "0  All-New Fire HD 8 Tablet, 8\" HD Display, Wi-Fi...  Amazon   \n",
       "1        Amazon - Echo Plus w/ Built-In Hub - Silver  Amazon   \n",
       "2  Amazon Echo Show Alexa-enabled Bluetooth Speak...  Amazon   \n",
       "3  Fire HD 10 Tablet, 10.1 HD Display, Wi-Fi, 16 ...  Amazon   \n",
       "4  Brand New Amazon Kindle Fire 16gb 7\" Ips Displ...  Amazon   \n",
       "\n",
       "                                          categories  \\\n",
       "0  Electronics,iPad & Tablets,All Tablets,Fire Ta...   \n",
       "1  Amazon Echo,Smart Home,Networking,Home & Tools...   \n",
       "2  Amazon Echo,Virtual Assistant Speakers,Electro...   \n",
       "3  eBook Readers,Fire Tablets,Electronics Feature...   \n",
       "4  Computers/Tablets & Networking,Tablets & eBook...   \n",
       "\n",
       "             primaryCategories              reviews.date  \\\n",
       "0                  Electronics  2016-12-26T00:00:00.000Z   \n",
       "1         Electronics,Hardware  2018-01-17T00:00:00.000Z   \n",
       "2         Electronics,Hardware  2017-12-20T00:00:00.000Z   \n",
       "3  Office Supplies,Electronics  2017-08-04T00:00:00.000Z   \n",
       "4                  Electronics  2017-01-23T00:00:00.000Z   \n",
       "\n",
       "                                        reviews.text  \\\n",
       "0  Purchased on Black FridayPros - Great Price (e...   \n",
       "1  I purchased two Amazon in Echo Plus and two do...   \n",
       "2  Just an average Alexa option. Does show a few ...   \n",
       "3  very good product. Exactly what I wanted, and ...   \n",
       "4  This is the 3rd one I've purchased. I've bough...   \n",
       "\n",
       "              reviews.title sentiment  \n",
       "0           Powerful tablet  Positive  \n",
       "1  Amazon Echo Plus AWESOME  Positive  \n",
       "2                   Average   Neutral  \n",
       "3               Greattttttt  Positive  \n",
       "4             Very durable!  Positive  "
      ]
     },
     "execution_count": 89,
     "metadata": {},
     "output_type": "execute_result"
    }
   ],
   "source": [
    "#Merge Train and Test data for Topic Modeling\n",
    "dataSet=pd.concat([train,test_hidden])\n",
    "print('shape of merged data is: ',dataSet.shape)\n",
    "dataSet.head()"
   ]
  },
  {
   "cell_type": "code",
   "execution_count": 90,
   "metadata": {},
   "outputs": [
    {
     "name": "stdout",
     "output_type": "stream",
     "text": [
      "Text Preprocessing Step-1:Converting to list for easy manipulation \n",
      " Purchased on Black FridayPros - Great Price (even off sale)Very powerful and fast with quad core processors Amazing soundWell builtCons -Amazon ads, Amazon need this to subsidize the tablet and will remove the adds if you pay them $15.Inability to access other apps except the ones from Amazon. There is a way which I was able to accomplish to add the Google Play storeNet this is a great tablet for the money \n",
      "\n",
      "Text Preprocessing Step-2&3:Word standardize and Tokenize \n",
      " ['purchased', 'on', 'black', 'fridaypros', '-', 'great', 'price', '(', 'even', 'off', 'sale', ')', 'very', 'powerful', 'and', 'fast', 'with', 'quad', 'core', 'processors', 'amazing', 'soundwell', 'builtcons', '-amazon', 'ads', ',', 'amazon', 'need', 'this', 'to', 'subsidize', 'the', 'tablet', 'and', 'will', 'remove', 'the', 'adds', 'if', 'you', 'pay', 'them', '$', '15.inability', 'to', 'access', 'other', 'apps', 'except', 'the', 'ones', 'from', 'amazon', '.', 'there', 'is', 'a', 'way', 'which', 'i', 'was', 'able', 'to', 'accomplish', 'to', 'add', 'the', 'google', 'play', 'storenet', 'this', 'is', 'a', 'great', 'tablet', 'for', 'the', 'money'] \n",
      "\n",
      "Text Preprocessing Step-5:Remove stop words and punctuations \n",
      " ['purchased', 'black', 'fridaypros', 'great', 'price', 'even', 'sale', 'powerful', 'fast', 'quad', 'core', 'processors', 'amazing', 'soundwell', 'builtcons', '-amazon', 'ads', 'amazon', 'need', 'subsidize', 'tablet', 'remove', 'adds', 'pay', '15.inability', 'access', 'apps', 'except', 'ones', 'amazon', 'way', 'able', 'accomplish', 'add', 'google', 'play', 'storenet', 'great', 'tablet', 'money'] \n",
      "\n",
      "Text Preprocessing Step-6:lemmatized_docs \n",
      " ['purchased', 'black', 'fridaypros', 'great', 'price', 'even', 'sale', 'powerful', 'fast', 'quad', 'core', 'processor', 'amazing', 'soundwell', 'builtcons', '-amazon', 'ad', 'amazon', 'need', 'subsidize', 'tablet', 'remove', 'add', 'pay', '15.inability', 'access', 'apps', 'except', 'one', 'amazon', 'way', 'able', 'accomplish', 'add', 'google', 'play', 'storenet', 'great', 'tablet', 'money'] \n",
      "\n",
      "Text Preprocessing Step-7:Delete numeric tokens \n",
      " ['purchased', 'black', 'fridaypros', 'great', 'price', 'even', 'sale', 'powerful', 'fast', 'quad', 'core', 'processor', 'amazing', 'soundwell', 'builtcons', '-amazon', 'ad', 'amazon', 'need', 'subsidize', 'tablet', 'remove', 'add', 'pay', '15.inability', 'access', 'apps', 'except', 'one', 'amazon', 'way', 'able', 'accomplish', 'add', 'google', 'play', 'storenet', 'great', 'tablet', 'money'] \n",
      "\n",
      "Text Preprocessing Step-8:Clean  documents \n",
      " purchased black fridaypros great price even sale powerful fast quad core processor amazing soundwell builtcons -amazon ad amazon need subsidize tablet remove add pay 15.inability access apps except one amazon way able accomplish add google play storenet great tablet money \n",
      "\n"
     ]
    }
   ],
   "source": [
    "#Lets take only relevent columns for the preprocessing of Full Dataset (reviews.text and sentiment)\n",
    "fulldata=dataSet[['reviews.text','sentiment']]\n",
    "# Data Preprocessing and getthe clean reviews\n",
    "fulldata_clean_reviews=text_preprocessing(fulldata)"
   ]
  },
  {
   "cell_type": "code",
   "execution_count": 91,
   "metadata": {},
   "outputs": [
    {
     "data": {
      "text/plain": [
       "['average', 'alexa', 'option', 'show', 'thing', 'screen', 'still', 'limited']"
      ]
     },
     "execution_count": 91,
     "metadata": {},
     "output_type": "execute_result"
    }
   ],
   "source": [
    "#Lets extract  the clean tokens back from each review\n",
    "# Tokenization\n",
    "from nltk.tokenize import word_tokenize\n",
    "tokenizedComments=[word_tokenize(doc) for doc in fulldata_clean_reviews]\n",
    "tokenizedComments[2]"
   ]
  },
  {
   "cell_type": "code",
   "execution_count": 92,
   "metadata": {},
   "outputs": [
    {
     "data": {
      "text/plain": [
       "[('average', 'JJ'),\n",
       " ('alexa', 'JJ'),\n",
       " ('option', 'NN'),\n",
       " ('show', 'NN'),\n",
       " ('thing', 'NN'),\n",
       " ('screen', 'NN'),\n",
       " ('still', 'RB'),\n",
       " ('limited', 'VBD')]"
      ]
     },
     "execution_count": 92,
     "metadata": {},
     "output_type": "execute_result"
    }
   ],
   "source": [
    "# POS Tagging\n",
    "# Why POS tagging is done ?\n",
    "#  1. First: For understanding the structure of a sentence.\n",
    "#  2. Second: For being able to extract a perticular kind of words.\n",
    "posTagged=[]\n",
    "for comments in tokenizedComments:\n",
    "    posTagged.append(nltk.pos_tag(comments))\n",
    "posTagged[2]"
   ]
  },
  {
   "cell_type": "code",
   "execution_count": 93,
   "metadata": {},
   "outputs": [],
   "source": [
    "#Find out all the POS tags that correspond to nouns OR adjectives.\n",
    "extractedData=[]\n",
    "for posTaggedComment in posTagged:\n",
    "    extractedData.append([word for (word, pos) in posTaggedComment if ((pos[0] == 'N')| (pos[0] == 'J'))])\n",
    "    #onlyNouns.append([word for (word, pos) in posTaggedComment if pos[0] == 'N'])\n"
   ]
  },
  {
   "cell_type": "code",
   "execution_count": 94,
   "metadata": {},
   "outputs": [],
   "source": [
    "## Lets do LDA ( Latent Dirchlet Allocation) for Topic Modeling\n",
    "#1.Create Dictionary\n",
    "dictionary = gensim.corpora.Dictionary(extractedData)\n",
    "\n",
    "bow_corpus = [dictionary.doc2bow(doc) for doc in extractedData]\n",
    "\n",
    "# LDA Modeling\n",
    "lda_model =  gensim.models.LdaMulticore(bow_corpus, \n",
    "                                   num_topics = 10, \n",
    "                                   id2word = dictionary,                                    \n",
    "                                   passes = 10,\n",
    "                                   workers = 2)"
   ]
  },
  {
   "cell_type": "code",
   "execution_count": 95,
   "metadata": {},
   "outputs": [
    {
     "name": "stdout",
     "output_type": "stream",
     "text": [
      "Topic: 0 \n",
      "Words: 0.033*\"product\" + 0.027*\"great\" + 0.019*\"tablet\" + 0.018*\"best\" + 0.017*\"time\" + 0.016*\"amazon\" + 0.016*\"happy\" + 0.015*\"buy\" + 0.013*\"fire\" + 0.012*\"screen\"\n",
      "\n",
      "\n",
      "Topic: 1 \n",
      "Words: 0.036*\"great\" + 0.019*\"book\" + 0.019*\"daughter\" + 0.018*\"life\" + 0.017*\"tablet\" + 0.017*\"battery\" + 0.017*\"easy\" + 0.016*\"thing\" + 0.014*\"read\" + 0.014*\"awesome\"\n",
      "\n",
      "\n",
      "Topic: 2 \n",
      "Words: 0.044*\"kindle\" + 0.016*\"light\" + 0.015*\"smart\" + 0.015*\"device\" + 0.012*\"hub\" + 0.012*\"second\" + 0.012*\"echo\" + 0.011*\"love\" + 0.011*\"item\" + 0.011*\"fire\"\n",
      "\n",
      "\n",
      "Topic: 3 \n",
      "Words: 0.044*\"love\" + 0.025*\"old\" + 0.021*\"year\" + 0.021*\"great\" + 0.017*\"tablet\" + 0.016*\"gift\" + 0.015*\"kindle\" + 0.015*\"product\" + 0.014*\"christmas\" + 0.014*\"game\"\n",
      "\n",
      "\n",
      "Topic: 4 \n",
      "Words: 0.036*\"music\" + 0.034*\"alexa\" + 0.021*\"great\" + 0.020*\"echo\" + 0.020*\"product\" + 0.018*\"show\" + 0.017*\"family\" + 0.017*\"thing\" + 0.015*\"device\" + 0.014*\"use\"\n",
      "\n",
      "\n",
      "Topic: 5 \n",
      "Words: 0.068*\"use\" + 0.066*\"easy\" + 0.023*\"screen\" + 0.018*\"amazon\" + 0.015*\"love\" + 0.012*\"echo\" + 0.011*\"son\" + 0.010*\"great\" + 0.009*\"tablet\" + 0.009*\"fire\"\n",
      "\n",
      "\n",
      "Topic: 6 \n",
      "Words: 0.095*\"tablet\" + 0.047*\"great\" + 0.039*\"kid\" + 0.024*\"game\" + 0.020*\"price\" + 0.019*\"year\" + 0.019*\"good\" + 0.018*\"perfect\" + 0.017*\"old\" + 0.016*\"use\"\n",
      "\n",
      "\n",
      "Topic: 7 \n",
      "Words: 0.028*\"kindle\" + 0.025*\"size\" + 0.021*\"fire\" + 0.020*\"screen\" + 0.020*\"small\" + 0.019*\"easy\" + 0.017*\"fit\" + 0.015*\"use\" + 0.015*\"good\" + 0.014*\"light\"\n",
      "\n",
      "\n",
      "Topic: 8 \n",
      "Words: 0.032*\"book\" + 0.025*\"tablet\" + 0.022*\"amazon\" + 0.022*\"device\" + 0.018*\"apps\" + 0.014*\"use\" + 0.013*\"screen\" + 0.009*\"love\" + 0.009*\"magazine\" + 0.008*\"feature\"\n",
      "\n",
      "\n",
      "Topic: 9 \n",
      "Words: 0.067*\"great\" + 0.041*\"work\" + 0.041*\"echo\" + 0.029*\"sound\" + 0.023*\"show\" + 0.022*\"good\" + 0.019*\"video\" + 0.018*\"amazon\" + 0.016*\"use\" + 0.014*\"product\"\n",
      "\n",
      "\n"
     ]
    }
   ],
   "source": [
    "## Print the Topic\n",
    "for idx, topic in lda_model.print_topics(-1):\n",
    "    print(\"Topic: {} \\nWords: {}\".format(idx, topic ))\n",
    "    print(\"\\n\")"
   ]
  },
  {
   "cell_type": "code",
   "execution_count": 96,
   "metadata": {},
   "outputs": [],
   "source": [
    "#Find out coherence of the model \n",
    "from gensim.models.coherencemodel import CoherenceModel\n",
    "def compute_coherence_values(corpus,texts, dictionary, k, a, b):\n",
    "    \n",
    "    lda_model = gensim.models.LdaMulticore(corpus=corpus,\n",
    "                                           id2word=dictionary,\n",
    "                                           num_topics=k, \n",
    "                                           random_state=100,\n",
    "                                           chunksize=100,\n",
    "                                           passes=10,\n",
    "                                           alpha=a,\n",
    "                                           eta=b,\n",
    "                                           per_word_topics=True\n",
    "                                          )\n",
    "    \n",
    "    coherence_model_lda = CoherenceModel(model=lda_model, texts=texts, dictionary=dictionary, coherence='c_v')\n",
    "    \n",
    "    return coherence_model_lda.get_coherence()"
   ]
  },
  {
   "cell_type": "code",
   "execution_count": 97,
   "metadata": {},
   "outputs": [],
   "source": [
    "import numpy as np\n",
    "import tqdm\n",
    "grid = {}\n",
    "grid['Validation_Set'] = {}\n",
    "# Topics range\n",
    "min_topics = 3\n",
    "max_topics = 19\n",
    "step_size = 3\n",
    "topics_range = range(min_topics, max_topics, step_size)\n",
    "# Alpha parameter\n",
    "alpha = list(np.arange(0.01, 1, 0.3))\n",
    "\n",
    "# Beta parameter\n",
    "beta = list(np.arange(0.01, 1, 0.3))\n",
    "\n",
    "# Validation sets\n",
    "num_of_docs = len(bow_corpus)\n",
    "corpus_sets = [# gensim.utils.ClippedCorpus(corpus, num_of_docs*0.25), \n",
    "               # gensim.utils.ClippedCorpus(corpus, num_of_docs*0.5), \n",
    "               gensim.utils.ClippedCorpus(bow_corpus, num_of_docs*0.75).corpus, \n",
    "               bow_corpus]"
   ]
  },
  {
   "cell_type": "code",
   "execution_count": 294,
   "metadata": {},
   "outputs": [
    {
     "name": "stderr",
     "output_type": "stream",
     "text": [
      "\n",
      "  0%|                                                                                          | 0/126 [00:00<?, ?it/s]\u001b[A\n",
      "  1%|▋                                                                                 | 1/126 [00:10<22:09, 10.64s/it]\u001b[A"
     ]
    },
    {
     "name": "stdout",
     "output_type": "stream",
     "text": [
      "i is 0, k is 3, a is 0.01, b is 0.01 and final cv is 0.3164943350022172\n"
     ]
    },
    {
     "name": "stderr",
     "output_type": "stream",
     "text": [
      "\n",
      "  2%|█▎                                                                                | 2/126 [00:21<21:53, 10.59s/it]\u001b[A"
     ]
    },
    {
     "name": "stdout",
     "output_type": "stream",
     "text": [
      "i is 0, k is 3, a is 0.01, b is 0.31 and final cv is 0.3135951219821799\n"
     ]
    },
    {
     "name": "stderr",
     "output_type": "stream",
     "text": [
      "\n",
      "  2%|█▉                                                                                | 3/126 [00:32<22:02, 10.75s/it]\u001b[A"
     ]
    },
    {
     "name": "stdout",
     "output_type": "stream",
     "text": [
      "i is 0, k is 3, a is 0.01, b is 0.61 and final cv is 0.3241904478754909\n"
     ]
    },
    {
     "name": "stderr",
     "output_type": "stream",
     "text": [
      "\n",
      "  3%|██▌                                                                               | 4/126 [00:45<23:14, 11.43s/it]\u001b[A"
     ]
    },
    {
     "name": "stdout",
     "output_type": "stream",
     "text": [
      "i is 0, k is 3, a is 0.01, b is 0.9099999999999999 and final cv is 0.31623756107140094\n"
     ]
    },
    {
     "name": "stderr",
     "output_type": "stream",
     "text": [
      "\n",
      "  4%|███▎                                                                              | 5/126 [00:58<24:13, 12.01s/it]\u001b[A"
     ]
    },
    {
     "name": "stdout",
     "output_type": "stream",
     "text": [
      "i is 0, k is 3, a is 0.31, b is 0.01 and final cv is 0.32450808891717636\n"
     ]
    },
    {
     "name": "stderr",
     "output_type": "stream",
     "text": [
      "\n",
      "  5%|███▉                                                                              | 6/126 [01:12<25:18, 12.65s/it]\u001b[A"
     ]
    },
    {
     "name": "stdout",
     "output_type": "stream",
     "text": [
      "i is 0, k is 3, a is 0.31, b is 0.31 and final cv is 0.3021119765206885\n"
     ]
    },
    {
     "name": "stderr",
     "output_type": "stream",
     "text": [
      "\n",
      "  6%|████▌                                                                             | 7/126 [01:27<26:12, 13.22s/it]\u001b[A"
     ]
    },
    {
     "name": "stdout",
     "output_type": "stream",
     "text": [
      "i is 0, k is 3, a is 0.31, b is 0.61 and final cv is 0.3161258703615957\n"
     ]
    },
    {
     "name": "stderr",
     "output_type": "stream",
     "text": [
      "\n",
      "  6%|█████▏                                                                            | 8/126 [01:41<26:36, 13.53s/it]\u001b[A"
     ]
    },
    {
     "name": "stdout",
     "output_type": "stream",
     "text": [
      "i is 0, k is 3, a is 0.31, b is 0.9099999999999999 and final cv is 0.3126492957242999\n"
     ]
    },
    {
     "name": "stderr",
     "output_type": "stream",
     "text": [
      "\n",
      "  7%|█████▊                                                                            | 9/126 [01:54<26:18, 13.49s/it]\u001b[A"
     ]
    },
    {
     "name": "stdout",
     "output_type": "stream",
     "text": [
      "i is 0, k is 3, a is 0.61, b is 0.01 and final cv is 0.31783566085677745\n"
     ]
    },
    {
     "name": "stderr",
     "output_type": "stream",
     "text": [
      "\n",
      "  8%|██████▍                                                                          | 10/126 [02:09<26:30, 13.71s/it]\u001b[A"
     ]
    },
    {
     "name": "stdout",
     "output_type": "stream",
     "text": [
      "i is 0, k is 3, a is 0.61, b is 0.31 and final cv is 0.328794722284171\n"
     ]
    },
    {
     "name": "stderr",
     "output_type": "stream",
     "text": [
      "\n",
      "  9%|███████                                                                          | 11/126 [02:23<26:28, 13.82s/it]\u001b[A"
     ]
    },
    {
     "name": "stdout",
     "output_type": "stream",
     "text": [
      "i is 0, k is 3, a is 0.61, b is 0.61 and final cv is 0.3266205412536192\n"
     ]
    },
    {
     "name": "stderr",
     "output_type": "stream",
     "text": [
      "\n",
      " 10%|███████▋                                                                         | 12/126 [02:37<26:41, 14.05s/it]\u001b[A"
     ]
    },
    {
     "name": "stdout",
     "output_type": "stream",
     "text": [
      "i is 0, k is 3, a is 0.61, b is 0.9099999999999999 and final cv is 0.3267435146391063\n"
     ]
    },
    {
     "name": "stderr",
     "output_type": "stream",
     "text": [
      "\n",
      " 10%|████████▎                                                                        | 13/126 [02:51<25:59, 13.80s/it]\u001b[A"
     ]
    },
    {
     "name": "stdout",
     "output_type": "stream",
     "text": [
      "i is 0, k is 3, a is 0.9099999999999999, b is 0.01 and final cv is 0.3143468216909339\n"
     ]
    },
    {
     "name": "stderr",
     "output_type": "stream",
     "text": [
      "\n",
      " 11%|█████████                                                                        | 14/126 [03:03<25:10, 13.49s/it]\u001b[A"
     ]
    },
    {
     "name": "stdout",
     "output_type": "stream",
     "text": [
      "i is 0, k is 3, a is 0.9099999999999999, b is 0.31 and final cv is 0.31316458855886004\n"
     ]
    },
    {
     "name": "stderr",
     "output_type": "stream",
     "text": [
      "\n",
      " 12%|█████████▋                                                                       | 15/126 [03:17<25:15, 13.65s/it]\u001b[A"
     ]
    },
    {
     "name": "stdout",
     "output_type": "stream",
     "text": [
      "i is 0, k is 3, a is 0.9099999999999999, b is 0.61 and final cv is 0.31064036005639034\n"
     ]
    },
    {
     "name": "stderr",
     "output_type": "stream",
     "text": [
      "\n",
      " 13%|██████████▎                                                                      | 16/126 [03:31<25:16, 13.79s/it]\u001b[A"
     ]
    },
    {
     "name": "stdout",
     "output_type": "stream",
     "text": [
      "i is 0, k is 3, a is 0.9099999999999999, b is 0.9099999999999999 and final cv is 0.3139895680333741\n"
     ]
    },
    {
     "name": "stderr",
     "output_type": "stream",
     "text": [
      "\n",
      " 13%|██████████▉                                                                      | 17/126 [03:44<24:34, 13.53s/it]\u001b[A"
     ]
    },
    {
     "name": "stdout",
     "output_type": "stream",
     "text": [
      "i is 0, k is 6, a is 0.01, b is 0.01 and final cv is 0.4172630712416318\n"
     ]
    },
    {
     "name": "stderr",
     "output_type": "stream",
     "text": [
      "\n",
      " 14%|███████████▌                                                                     | 18/126 [03:58<24:18, 13.51s/it]\u001b[A"
     ]
    },
    {
     "name": "stdout",
     "output_type": "stream",
     "text": [
      "i is 0, k is 6, a is 0.01, b is 0.31 and final cv is 0.4184617226099641\n"
     ]
    },
    {
     "name": "stderr",
     "output_type": "stream",
     "text": [
      "\n",
      " 15%|████████████▏                                                                    | 19/126 [04:12<24:16, 13.62s/it]\u001b[A"
     ]
    },
    {
     "name": "stdout",
     "output_type": "stream",
     "text": [
      "i is 0, k is 6, a is 0.01, b is 0.61 and final cv is 0.3664145632874985\n"
     ]
    },
    {
     "name": "stderr",
     "output_type": "stream",
     "text": [
      "\n",
      " 16%|████████████▊                                                                    | 20/126 [04:25<23:43, 13.43s/it]\u001b[A"
     ]
    },
    {
     "name": "stdout",
     "output_type": "stream",
     "text": [
      "i is 0, k is 6, a is 0.01, b is 0.9099999999999999 and final cv is 0.443990975586899\n"
     ]
    },
    {
     "name": "stderr",
     "output_type": "stream",
     "text": [
      "\n",
      " 17%|█████████████▌                                                                   | 21/126 [04:40<24:18, 13.89s/it]\u001b[A"
     ]
    },
    {
     "name": "stdout",
     "output_type": "stream",
     "text": [
      "i is 0, k is 6, a is 0.31, b is 0.01 and final cv is 0.4376826357350141\n"
     ]
    },
    {
     "name": "stderr",
     "output_type": "stream",
     "text": [
      "\n",
      " 17%|██████████████▏                                                                  | 22/126 [04:54<24:29, 14.13s/it]\u001b[A"
     ]
    },
    {
     "name": "stdout",
     "output_type": "stream",
     "text": [
      "i is 0, k is 6, a is 0.31, b is 0.31 and final cv is 0.4174516664437629\n"
     ]
    },
    {
     "name": "stderr",
     "output_type": "stream",
     "text": [
      "\n",
      " 18%|██████████████▊                                                                  | 23/126 [05:10<24:50, 14.47s/it]\u001b[A"
     ]
    },
    {
     "name": "stdout",
     "output_type": "stream",
     "text": [
      "i is 0, k is 6, a is 0.31, b is 0.61 and final cv is 0.4078148828689707\n"
     ]
    },
    {
     "name": "stderr",
     "output_type": "stream",
     "text": [
      "\n",
      " 19%|███████████████▍                                                                 | 24/126 [05:25<25:07, 14.77s/it]\u001b[A"
     ]
    },
    {
     "name": "stdout",
     "output_type": "stream",
     "text": [
      "i is 0, k is 6, a is 0.31, b is 0.9099999999999999 and final cv is 0.43793907321156783\n"
     ]
    },
    {
     "name": "stderr",
     "output_type": "stream",
     "text": [
      "\n",
      " 20%|████████████████                                                                 | 25/126 [05:40<24:50, 14.76s/it]\u001b[A"
     ]
    },
    {
     "name": "stdout",
     "output_type": "stream",
     "text": [
      "i is 0, k is 6, a is 0.61, b is 0.01 and final cv is 0.4113347020869156\n"
     ]
    },
    {
     "name": "stderr",
     "output_type": "stream",
     "text": [
      "\n",
      " 21%|████████████████▋                                                                | 26/126 [05:53<24:00, 14.40s/it]\u001b[A"
     ]
    },
    {
     "name": "stdout",
     "output_type": "stream",
     "text": [
      "i is 0, k is 6, a is 0.61, b is 0.31 and final cv is 0.43375802594199087\n"
     ]
    },
    {
     "name": "stderr",
     "output_type": "stream",
     "text": [
      "\n",
      " 21%|█████████████████▎                                                               | 27/126 [06:08<24:03, 14.58s/it]\u001b[A"
     ]
    },
    {
     "name": "stdout",
     "output_type": "stream",
     "text": [
      "i is 0, k is 6, a is 0.61, b is 0.61 and final cv is 0.4212411144859883\n"
     ]
    },
    {
     "name": "stderr",
     "output_type": "stream",
     "text": [
      "\n",
      " 22%|██████████████████                                                               | 28/126 [06:23<23:39, 14.49s/it]\u001b[A"
     ]
    },
    {
     "name": "stdout",
     "output_type": "stream",
     "text": [
      "i is 0, k is 6, a is 0.61, b is 0.9099999999999999 and final cv is 0.3954595465765303\n"
     ]
    },
    {
     "name": "stderr",
     "output_type": "stream",
     "text": [
      "\n",
      " 23%|██████████████████▋                                                              | 29/126 [06:35<22:23, 13.85s/it]\u001b[A"
     ]
    },
    {
     "name": "stdout",
     "output_type": "stream",
     "text": [
      "i is 0, k is 6, a is 0.9099999999999999, b is 0.01 and final cv is 0.4095615970444275\n"
     ]
    },
    {
     "name": "stderr",
     "output_type": "stream",
     "text": [
      "\n",
      " 24%|███████████████████▎                                                             | 30/126 [06:48<21:37, 13.51s/it]\u001b[A"
     ]
    },
    {
     "name": "stdout",
     "output_type": "stream",
     "text": [
      "i is 0, k is 6, a is 0.9099999999999999, b is 0.31 and final cv is 0.40055688578362475\n"
     ]
    },
    {
     "name": "stderr",
     "output_type": "stream",
     "text": [
      "\n",
      " 25%|███████████████████▉                                                             | 31/126 [07:01<21:16, 13.44s/it]\u001b[A"
     ]
    },
    {
     "name": "stdout",
     "output_type": "stream",
     "text": [
      "i is 0, k is 6, a is 0.9099999999999999, b is 0.61 and final cv is 0.4258657423583232\n"
     ]
    },
    {
     "name": "stderr",
     "output_type": "stream",
     "text": [
      "\n",
      " 25%|████████████████████▌                                                            | 32/126 [07:15<21:32, 13.75s/it]\u001b[A"
     ]
    },
    {
     "name": "stdout",
     "output_type": "stream",
     "text": [
      "i is 0, k is 6, a is 0.9099999999999999, b is 0.9099999999999999 and final cv is 0.42851301171606176\n"
     ]
    },
    {
     "name": "stderr",
     "output_type": "stream",
     "text": [
      "\n",
      " 26%|█████████████████████▏                                                           | 33/126 [07:30<21:33, 13.91s/it]\u001b[A"
     ]
    },
    {
     "name": "stdout",
     "output_type": "stream",
     "text": [
      "i is 0, k is 9, a is 0.01, b is 0.01 and final cv is 0.4072418650433277\n"
     ]
    },
    {
     "name": "stderr",
     "output_type": "stream",
     "text": [
      "\n",
      " 27%|█████████████████████▊                                                           | 34/126 [07:43<21:02, 13.73s/it]\u001b[A"
     ]
    },
    {
     "name": "stdout",
     "output_type": "stream",
     "text": [
      "i is 0, k is 9, a is 0.01, b is 0.31 and final cv is 0.36455270087551694\n"
     ]
    },
    {
     "name": "stderr",
     "output_type": "stream",
     "text": [
      "\n",
      " 28%|██████████████████████▌                                                          | 35/126 [07:56<20:33, 13.56s/it]\u001b[A"
     ]
    },
    {
     "name": "stdout",
     "output_type": "stream",
     "text": [
      "i is 0, k is 9, a is 0.01, b is 0.61 and final cv is 0.4136320741975339\n"
     ]
    },
    {
     "name": "stderr",
     "output_type": "stream",
     "text": [
      "\n",
      " 29%|███████████████████████▏                                                         | 36/126 [08:10<20:24, 13.61s/it]\u001b[A"
     ]
    },
    {
     "name": "stdout",
     "output_type": "stream",
     "text": [
      "i is 0, k is 9, a is 0.01, b is 0.9099999999999999 and final cv is 0.3967235693497556\n"
     ]
    },
    {
     "name": "stderr",
     "output_type": "stream",
     "text": [
      "\n",
      " 29%|███████████████████████▊                                                         | 37/126 [08:25<20:50, 14.05s/it]\u001b[A"
     ]
    },
    {
     "name": "stdout",
     "output_type": "stream",
     "text": [
      "i is 0, k is 9, a is 0.31, b is 0.01 and final cv is 0.4032362290096397\n"
     ]
    },
    {
     "name": "stderr",
     "output_type": "stream",
     "text": [
      "\n",
      " 30%|████████████████████████▍                                                        | 38/126 [08:40<21:02, 14.35s/it]\u001b[A"
     ]
    },
    {
     "name": "stdout",
     "output_type": "stream",
     "text": [
      "i is 0, k is 9, a is 0.31, b is 0.31 and final cv is 0.38536444574940304\n"
     ]
    },
    {
     "name": "stderr",
     "output_type": "stream",
     "text": [
      "\n",
      " 31%|█████████████████████████                                                        | 39/126 [08:55<20:59, 14.47s/it]\u001b[A"
     ]
    },
    {
     "name": "stdout",
     "output_type": "stream",
     "text": [
      "i is 0, k is 9, a is 0.31, b is 0.61 and final cv is 0.37868032412200153\n"
     ]
    },
    {
     "name": "stderr",
     "output_type": "stream",
     "text": [
      "\n",
      " 32%|█████████████████████████▋                                                       | 40/126 [09:09<20:45, 14.49s/it]\u001b[A"
     ]
    },
    {
     "name": "stdout",
     "output_type": "stream",
     "text": [
      "i is 0, k is 9, a is 0.31, b is 0.9099999999999999 and final cv is 0.4269060059477614\n"
     ]
    },
    {
     "name": "stderr",
     "output_type": "stream",
     "text": [
      "\n",
      " 33%|██████████████████████████▎                                                      | 41/126 [09:23<20:15, 14.30s/it]\u001b[A"
     ]
    },
    {
     "name": "stdout",
     "output_type": "stream",
     "text": [
      "i is 0, k is 9, a is 0.61, b is 0.01 and final cv is 0.40742508689164403\n"
     ]
    },
    {
     "name": "stderr",
     "output_type": "stream",
     "text": [
      "\n",
      " 33%|███████████████████████████                                                      | 42/126 [09:37<19:40, 14.05s/it]\u001b[A"
     ]
    },
    {
     "name": "stdout",
     "output_type": "stream",
     "text": [
      "i is 0, k is 9, a is 0.61, b is 0.31 and final cv is 0.41724052224838776\n"
     ]
    },
    {
     "name": "stderr",
     "output_type": "stream",
     "text": [
      "\n",
      " 34%|███████████████████████████▋                                                     | 43/126 [09:52<20:01, 14.48s/it]\u001b[A"
     ]
    },
    {
     "name": "stdout",
     "output_type": "stream",
     "text": [
      "i is 0, k is 9, a is 0.61, b is 0.61 and final cv is 0.40258906379351767\n"
     ]
    },
    {
     "name": "stderr",
     "output_type": "stream",
     "text": [
      "\n",
      " 35%|████████████████████████████▎                                                    | 44/126 [10:07<19:54, 14.56s/it]\u001b[A"
     ]
    },
    {
     "name": "stdout",
     "output_type": "stream",
     "text": [
      "i is 0, k is 9, a is 0.61, b is 0.9099999999999999 and final cv is 0.3688942152524696\n"
     ]
    },
    {
     "name": "stderr",
     "output_type": "stream",
     "text": [
      "\n",
      " 36%|████████████████████████████▉                                                    | 45/126 [10:21<19:17, 14.29s/it]\u001b[A"
     ]
    },
    {
     "name": "stdout",
     "output_type": "stream",
     "text": [
      "i is 0, k is 9, a is 0.9099999999999999, b is 0.01 and final cv is 0.41722980279142496\n"
     ]
    },
    {
     "name": "stderr",
     "output_type": "stream",
     "text": [
      "\n",
      " 37%|█████████████████████████████▌                                                   | 46/126 [10:35<18:57, 14.21s/it]\u001b[A"
     ]
    },
    {
     "name": "stdout",
     "output_type": "stream",
     "text": [
      "i is 0, k is 9, a is 0.9099999999999999, b is 0.31 and final cv is 0.41376443212237357\n"
     ]
    },
    {
     "name": "stderr",
     "output_type": "stream",
     "text": [
      "\n",
      " 37%|██████████████████████████████▏                                                  | 47/126 [10:49<18:36, 14.14s/it]\u001b[A"
     ]
    },
    {
     "name": "stdout",
     "output_type": "stream",
     "text": [
      "i is 0, k is 9, a is 0.9099999999999999, b is 0.61 and final cv is 0.3953392699264028\n"
     ]
    },
    {
     "name": "stderr",
     "output_type": "stream",
     "text": [
      "\n",
      " 38%|██████████████████████████████▊                                                  | 48/126 [11:03<18:24, 14.16s/it]\u001b[A"
     ]
    },
    {
     "name": "stdout",
     "output_type": "stream",
     "text": [
      "i is 0, k is 9, a is 0.9099999999999999, b is 0.9099999999999999 and final cv is 0.37177289269647695\n"
     ]
    },
    {
     "name": "stderr",
     "output_type": "stream",
     "text": [
      "\n",
      " 39%|███████████████████████████████▌                                                 | 49/126 [11:17<18:08, 14.14s/it]\u001b[A"
     ]
    },
    {
     "name": "stdout",
     "output_type": "stream",
     "text": [
      "i is 0, k is 12, a is 0.01, b is 0.01 and final cv is 0.38635651721080005\n"
     ]
    },
    {
     "name": "stderr",
     "output_type": "stream",
     "text": [
      "\n",
      " 40%|████████████████████████████████▏                                                | 50/126 [11:31<17:51, 14.11s/it]\u001b[A"
     ]
    },
    {
     "name": "stdout",
     "output_type": "stream",
     "text": [
      "i is 0, k is 12, a is 0.01, b is 0.31 and final cv is 0.3892904561150901\n"
     ]
    },
    {
     "name": "stderr",
     "output_type": "stream",
     "text": [
      "\n",
      " 40%|████████████████████████████████▊                                                | 51/126 [11:44<17:25, 13.94s/it]\u001b[A"
     ]
    },
    {
     "name": "stdout",
     "output_type": "stream",
     "text": [
      "i is 0, k is 12, a is 0.01, b is 0.61 and final cv is 0.43690986613108823\n"
     ]
    },
    {
     "name": "stderr",
     "output_type": "stream",
     "text": [
      "\n",
      " 41%|█████████████████████████████████▍                                               | 52/126 [11:59<17:17, 14.02s/it]\u001b[A"
     ]
    },
    {
     "name": "stdout",
     "output_type": "stream",
     "text": [
      "i is 0, k is 12, a is 0.01, b is 0.9099999999999999 and final cv is 0.4493514920109114\n"
     ]
    },
    {
     "name": "stderr",
     "output_type": "stream",
     "text": [
      "\n",
      " 42%|██████████████████████████████████                                               | 53/126 [12:14<17:22, 14.27s/it]\u001b[A"
     ]
    },
    {
     "name": "stdout",
     "output_type": "stream",
     "text": [
      "i is 0, k is 12, a is 0.31, b is 0.01 and final cv is 0.35116141741438617\n"
     ]
    },
    {
     "name": "stderr",
     "output_type": "stream",
     "text": [
      "\n",
      " 43%|██████████████████████████████████▋                                              | 54/126 [12:29<17:30, 14.59s/it]\u001b[A"
     ]
    },
    {
     "name": "stdout",
     "output_type": "stream",
     "text": [
      "i is 0, k is 12, a is 0.31, b is 0.31 and final cv is 0.3796383758436154\n"
     ]
    },
    {
     "name": "stderr",
     "output_type": "stream",
     "text": [
      "\n",
      " 44%|███████████████████████████████████▎                                             | 55/126 [12:43<17:12, 14.54s/it]\u001b[A"
     ]
    },
    {
     "name": "stdout",
     "output_type": "stream",
     "text": [
      "i is 0, k is 12, a is 0.31, b is 0.61 and final cv is 0.4198980138136757\n"
     ]
    },
    {
     "name": "stderr",
     "output_type": "stream",
     "text": [
      "\n",
      " 44%|████████████████████████████████████                                             | 56/126 [12:59<17:13, 14.77s/it]\u001b[A"
     ]
    },
    {
     "name": "stdout",
     "output_type": "stream",
     "text": [
      "i is 0, k is 12, a is 0.31, b is 0.9099999999999999 and final cv is 0.4563471035769333\n"
     ]
    },
    {
     "name": "stderr",
     "output_type": "stream",
     "text": [
      "\n",
      " 45%|████████████████████████████████████▋                                            | 57/126 [13:12<16:35, 14.43s/it]\u001b[A"
     ]
    },
    {
     "name": "stdout",
     "output_type": "stream",
     "text": [
      "i is 0, k is 12, a is 0.61, b is 0.01 and final cv is 0.3674082327161345\n"
     ]
    },
    {
     "name": "stderr",
     "output_type": "stream",
     "text": [
      "\n",
      " 46%|█████████████████████████████████████▎                                           | 58/126 [13:26<16:12, 14.30s/it]\u001b[A"
     ]
    },
    {
     "name": "stdout",
     "output_type": "stream",
     "text": [
      "i is 0, k is 12, a is 0.61, b is 0.31 and final cv is 0.36518598681226727\n"
     ]
    },
    {
     "name": "stderr",
     "output_type": "stream",
     "text": [
      "\n",
      " 47%|█████████████████████████████████████▉                                           | 59/126 [13:41<16:01, 14.35s/it]\u001b[A"
     ]
    },
    {
     "name": "stdout",
     "output_type": "stream",
     "text": [
      "i is 0, k is 12, a is 0.61, b is 0.61 and final cv is 0.3806575902116291\n"
     ]
    },
    {
     "name": "stderr",
     "output_type": "stream",
     "text": [
      "\n",
      " 48%|██████████████████████████████████████▌                                          | 60/126 [13:54<15:34, 14.16s/it]\u001b[A"
     ]
    },
    {
     "name": "stdout",
     "output_type": "stream",
     "text": [
      "i is 0, k is 12, a is 0.61, b is 0.9099999999999999 and final cv is 0.3633883483555986\n"
     ]
    },
    {
     "name": "stderr",
     "output_type": "stream",
     "text": [
      "\n",
      " 48%|███████████████████████████████████████▏                                         | 61/126 [14:08<15:04, 13.91s/it]\u001b[A"
     ]
    },
    {
     "name": "stdout",
     "output_type": "stream",
     "text": [
      "i is 0, k is 12, a is 0.9099999999999999, b is 0.01 and final cv is 0.3898049063288275\n"
     ]
    },
    {
     "name": "stderr",
     "output_type": "stream",
     "text": [
      "\n",
      " 49%|███████████████████████████████████████▊                                         | 62/126 [14:21<14:36, 13.70s/it]\u001b[A"
     ]
    },
    {
     "name": "stdout",
     "output_type": "stream",
     "text": [
      "i is 0, k is 12, a is 0.9099999999999999, b is 0.31 and final cv is 0.3920607078753806\n"
     ]
    },
    {
     "name": "stderr",
     "output_type": "stream",
     "text": [
      "\n",
      " 50%|████████████████████████████████████████▌                                        | 63/126 [14:34<14:11, 13.51s/it]\u001b[A"
     ]
    },
    {
     "name": "stdout",
     "output_type": "stream",
     "text": [
      "i is 0, k is 12, a is 0.9099999999999999, b is 0.61 and final cv is 0.3607924261532962\n"
     ]
    },
    {
     "name": "stderr",
     "output_type": "stream",
     "text": [
      "\n",
      " 51%|█████████████████████████████████████████▏                                       | 64/126 [14:47<13:53, 13.45s/it]\u001b[A"
     ]
    },
    {
     "name": "stdout",
     "output_type": "stream",
     "text": [
      "i is 0, k is 12, a is 0.9099999999999999, b is 0.9099999999999999 and final cv is 0.30868086388099397\n"
     ]
    },
    {
     "name": "stderr",
     "output_type": "stream",
     "text": [
      "\n",
      " 52%|█████████████████████████████████████████▊                                       | 65/126 [15:02<13:54, 13.68s/it]\u001b[A"
     ]
    },
    {
     "name": "stdout",
     "output_type": "stream",
     "text": [
      "i is 0, k is 15, a is 0.01, b is 0.01 and final cv is 0.40379066848170164\n"
     ]
    },
    {
     "name": "stderr",
     "output_type": "stream",
     "text": [
      "\n",
      " 52%|██████████████████████████████████████████▍                                      | 66/126 [15:16<13:54, 13.92s/it]\u001b[A"
     ]
    },
    {
     "name": "stdout",
     "output_type": "stream",
     "text": [
      "i is 0, k is 15, a is 0.01, b is 0.31 and final cv is 0.4213895191272592\n"
     ]
    },
    {
     "name": "stderr",
     "output_type": "stream",
     "text": [
      "\n",
      " 53%|███████████████████████████████████████████                                      | 67/126 [15:31<13:51, 14.10s/it]\u001b[A"
     ]
    },
    {
     "name": "stdout",
     "output_type": "stream",
     "text": [
      "i is 0, k is 15, a is 0.01, b is 0.61 and final cv is 0.43128851023801246\n"
     ]
    },
    {
     "name": "stderr",
     "output_type": "stream",
     "text": [
      "\n",
      " 54%|███████████████████████████████████████████▋                                     | 68/126 [15:45<13:38, 14.11s/it]\u001b[A"
     ]
    },
    {
     "name": "stdout",
     "output_type": "stream",
     "text": [
      "i is 0, k is 15, a is 0.01, b is 0.9099999999999999 and final cv is 0.41883510176852984\n"
     ]
    },
    {
     "name": "stderr",
     "output_type": "stream",
     "text": [
      "\n",
      " 55%|████████████████████████████████████████████▎                                    | 69/126 [16:00<13:46, 14.50s/it]\u001b[A"
     ]
    },
    {
     "name": "stdout",
     "output_type": "stream",
     "text": [
      "i is 0, k is 15, a is 0.31, b is 0.01 and final cv is 0.3736658406168471\n"
     ]
    },
    {
     "name": "stderr",
     "output_type": "stream",
     "text": [
      "\n",
      " 56%|█████████████████████████████████████████████                                    | 70/126 [16:15<13:44, 14.72s/it]\u001b[A"
     ]
    },
    {
     "name": "stdout",
     "output_type": "stream",
     "text": [
      "i is 0, k is 15, a is 0.31, b is 0.31 and final cv is 0.38307042191777124\n"
     ]
    },
    {
     "name": "stderr",
     "output_type": "stream",
     "text": [
      "\n",
      " 56%|█████████████████████████████████████████████▋                                   | 71/126 [16:31<13:39, 14.89s/it]\u001b[A"
     ]
    },
    {
     "name": "stdout",
     "output_type": "stream",
     "text": [
      "i is 0, k is 15, a is 0.31, b is 0.61 and final cv is 0.41579240076948326\n"
     ]
    },
    {
     "name": "stderr",
     "output_type": "stream",
     "text": [
      "\n",
      " 57%|██████████████████████████████████████████████▎                                  | 72/126 [16:46<13:27, 14.94s/it]\u001b[A"
     ]
    },
    {
     "name": "stdout",
     "output_type": "stream",
     "text": [
      "i is 0, k is 15, a is 0.31, b is 0.9099999999999999 and final cv is 0.4067590300758521\n"
     ]
    },
    {
     "name": "stderr",
     "output_type": "stream",
     "text": [
      "\n",
      " 58%|██████████████████████████████████████████████▉                                  | 73/126 [17:00<13:02, 14.77s/it]\u001b[A"
     ]
    },
    {
     "name": "stdout",
     "output_type": "stream",
     "text": [
      "i is 0, k is 15, a is 0.61, b is 0.01 and final cv is 0.3753135390795184\n"
     ]
    },
    {
     "name": "stderr",
     "output_type": "stream",
     "text": [
      "\n",
      " 59%|███████████████████████████████████████████████▌                                 | 74/126 [17:14<12:35, 14.54s/it]\u001b[A"
     ]
    },
    {
     "name": "stdout",
     "output_type": "stream",
     "text": [
      "i is 0, k is 15, a is 0.61, b is 0.31 and final cv is 0.38368401495290766\n"
     ]
    },
    {
     "name": "stderr",
     "output_type": "stream",
     "text": [
      "\n",
      " 60%|████████████████████████████████████████████████▏                                | 75/126 [17:28<12:16, 14.44s/it]\u001b[A"
     ]
    },
    {
     "name": "stdout",
     "output_type": "stream",
     "text": [
      "i is 0, k is 15, a is 0.61, b is 0.61 and final cv is 0.3971748166982982\n"
     ]
    },
    {
     "name": "stderr",
     "output_type": "stream",
     "text": [
      "\n",
      " 60%|████████████████████████████████████████████████▊                                | 76/126 [17:42<11:58, 14.37s/it]\u001b[A"
     ]
    },
    {
     "name": "stdout",
     "output_type": "stream",
     "text": [
      "i is 0, k is 15, a is 0.61, b is 0.9099999999999999 and final cv is 0.36480292719535345\n"
     ]
    },
    {
     "name": "stderr",
     "output_type": "stream",
     "text": [
      "\n",
      " 61%|█████████████████████████████████████████████████▌                               | 77/126 [17:55<11:24, 13.97s/it]\u001b[A"
     ]
    },
    {
     "name": "stdout",
     "output_type": "stream",
     "text": [
      "i is 0, k is 15, a is 0.9099999999999999, b is 0.01 and final cv is 0.37749806845730255\n"
     ]
    },
    {
     "name": "stderr",
     "output_type": "stream",
     "text": [
      "\n",
      " 62%|██████████████████████████████████████████████████▏                              | 78/126 [18:09<11:04, 13.85s/it]\u001b[A"
     ]
    },
    {
     "name": "stdout",
     "output_type": "stream",
     "text": [
      "i is 0, k is 15, a is 0.9099999999999999, b is 0.31 and final cv is 0.37501003827829693\n"
     ]
    },
    {
     "name": "stderr",
     "output_type": "stream",
     "text": [
      "\n",
      " 63%|██████████████████████████████████████████████████▊                              | 79/126 [18:22<10:42, 13.67s/it]\u001b[A"
     ]
    },
    {
     "name": "stdout",
     "output_type": "stream",
     "text": [
      "i is 0, k is 15, a is 0.9099999999999999, b is 0.61 and final cv is 0.3413598319110568\n"
     ]
    },
    {
     "name": "stderr",
     "output_type": "stream",
     "text": [
      "\n",
      " 63%|███████████████████████████████████████████████████▍                             | 80/126 [18:35<10:19, 13.48s/it]\u001b[A"
     ]
    },
    {
     "name": "stdout",
     "output_type": "stream",
     "text": [
      "i is 0, k is 15, a is 0.9099999999999999, b is 0.9099999999999999 and final cv is 0.3119917075833492\n"
     ]
    },
    {
     "name": "stderr",
     "output_type": "stream",
     "text": [
      "\n",
      " 64%|████████████████████████████████████████████████████                             | 81/126 [18:50<10:19, 13.76s/it]\u001b[A"
     ]
    },
    {
     "name": "stdout",
     "output_type": "stream",
     "text": [
      "i is 0, k is 18, a is 0.01, b is 0.01 and final cv is 0.3722208416719946\n"
     ]
    },
    {
     "name": "stderr",
     "output_type": "stream",
     "text": [
      "\n",
      " 65%|████████████████████████████████████████████████████▋                            | 82/126 [19:04<10:16, 14.01s/it]\u001b[A"
     ]
    },
    {
     "name": "stdout",
     "output_type": "stream",
     "text": [
      "i is 0, k is 18, a is 0.01, b is 0.31 and final cv is 0.4038245842279205\n"
     ]
    },
    {
     "name": "stderr",
     "output_type": "stream",
     "text": [
      "\n",
      " 66%|█████████████████████████████████████████████████████▎                           | 83/126 [19:19<10:12, 14.26s/it]\u001b[A"
     ]
    },
    {
     "name": "stdout",
     "output_type": "stream",
     "text": [
      "i is 0, k is 18, a is 0.01, b is 0.61 and final cv is 0.4507799654167824\n"
     ]
    },
    {
     "name": "stderr",
     "output_type": "stream",
     "text": [
      "\n",
      " 67%|██████████████████████████████████████████████████████                           | 84/126 [19:34<10:01, 14.33s/it]\u001b[A"
     ]
    },
    {
     "name": "stdout",
     "output_type": "stream",
     "text": [
      "i is 0, k is 18, a is 0.01, b is 0.9099999999999999 and final cv is 0.3926177039478046\n"
     ]
    },
    {
     "name": "stderr",
     "output_type": "stream",
     "text": [
      "\n",
      " 67%|██████████████████████████████████████████████████████▋                          | 85/126 [19:49<10:05, 14.76s/it]\u001b[A"
     ]
    },
    {
     "name": "stdout",
     "output_type": "stream",
     "text": [
      "i is 0, k is 18, a is 0.31, b is 0.01 and final cv is 0.3767833659068646\n"
     ]
    },
    {
     "name": "stderr",
     "output_type": "stream",
     "text": [
      "\n",
      " 68%|███████████████████████████████████████████████████████▎                         | 86/126 [20:05<09:58, 14.97s/it]\u001b[A"
     ]
    },
    {
     "name": "stdout",
     "output_type": "stream",
     "text": [
      "i is 0, k is 18, a is 0.31, b is 0.31 and final cv is 0.3967214661989307\n"
     ]
    },
    {
     "name": "stderr",
     "output_type": "stream",
     "text": [
      "\n",
      " 69%|███████████████████████████████████████████████████████▉                         | 87/126 [20:21<09:57, 15.31s/it]\u001b[A"
     ]
    },
    {
     "name": "stdout",
     "output_type": "stream",
     "text": [
      "i is 0, k is 18, a is 0.31, b is 0.61 and final cv is 0.4020934440639237\n"
     ]
    },
    {
     "name": "stderr",
     "output_type": "stream",
     "text": [
      "\n",
      " 70%|████████████████████████████████████████████████████████▌                        | 88/126 [20:37<09:47, 15.46s/it]\u001b[A"
     ]
    },
    {
     "name": "stdout",
     "output_type": "stream",
     "text": [
      "i is 0, k is 18, a is 0.31, b is 0.9099999999999999 and final cv is 0.4179183928535328\n"
     ]
    },
    {
     "name": "stderr",
     "output_type": "stream",
     "text": [
      "\n",
      " 71%|█████████████████████████████████████████████████████████▏                       | 89/126 [20:51<09:22, 15.21s/it]\u001b[A"
     ]
    },
    {
     "name": "stdout",
     "output_type": "stream",
     "text": [
      "i is 0, k is 18, a is 0.61, b is 0.01 and final cv is 0.3681963574300745\n"
     ]
    },
    {
     "name": "stderr",
     "output_type": "stream",
     "text": [
      "\n",
      " 71%|█████████████████████████████████████████████████████████▊                       | 90/126 [21:06<09:01, 15.05s/it]\u001b[A"
     ]
    },
    {
     "name": "stdout",
     "output_type": "stream",
     "text": [
      "i is 0, k is 18, a is 0.61, b is 0.31 and final cv is 0.37426686277381155\n"
     ]
    },
    {
     "name": "stderr",
     "output_type": "stream",
     "text": [
      "\n",
      " 72%|██████████████████████████████████████████████████████████▌                      | 91/126 [21:21<08:41, 14.91s/it]\u001b[A"
     ]
    },
    {
     "name": "stdout",
     "output_type": "stream",
     "text": [
      "i is 0, k is 18, a is 0.61, b is 0.61 and final cv is 0.35934785591631846\n"
     ]
    },
    {
     "name": "stderr",
     "output_type": "stream",
     "text": [
      "\n",
      " 73%|███████████████████████████████████████████████████████████▏                     | 92/126 [21:35<08:16, 14.60s/it]\u001b[A"
     ]
    },
    {
     "name": "stdout",
     "output_type": "stream",
     "text": [
      "i is 0, k is 18, a is 0.61, b is 0.9099999999999999 and final cv is 0.3460408617581806\n"
     ]
    },
    {
     "name": "stderr",
     "output_type": "stream",
     "text": [
      "\n",
      " 74%|███████████████████████████████████████████████████████████▊                     | 93/126 [21:48<07:54, 14.38s/it]\u001b[A"
     ]
    },
    {
     "name": "stdout",
     "output_type": "stream",
     "text": [
      "i is 0, k is 18, a is 0.9099999999999999, b is 0.01 and final cv is 0.3662618593442397\n"
     ]
    },
    {
     "name": "stderr",
     "output_type": "stream",
     "text": [
      "\n",
      " 75%|████████████████████████████████████████████████████████████▍                    | 94/126 [22:05<07:59, 14.97s/it]\u001b[A"
     ]
    },
    {
     "name": "stdout",
     "output_type": "stream",
     "text": [
      "i is 0, k is 18, a is 0.9099999999999999, b is 0.31 and final cv is 0.35019698540654376\n"
     ]
    },
    {
     "name": "stderr",
     "output_type": "stream",
     "text": [
      "\n",
      " 75%|█████████████████████████████████████████████████████████████                    | 95/126 [22:18<07:32, 14.58s/it]\u001b[A"
     ]
    },
    {
     "name": "stdout",
     "output_type": "stream",
     "text": [
      "i is 0, k is 18, a is 0.9099999999999999, b is 0.61 and final cv is 0.3455685784203874\n"
     ]
    },
    {
     "name": "stderr",
     "output_type": "stream",
     "text": [
      "\n",
      " 76%|█████████████████████████████████████████████████████████████▋                   | 96/126 [22:32<07:02, 14.09s/it]\u001b[A"
     ]
    },
    {
     "name": "stdout",
     "output_type": "stream",
     "text": [
      "i is 0, k is 18, a is 0.9099999999999999, b is 0.9099999999999999 and final cv is 0.32509386663819345\n"
     ]
    },
    {
     "name": "stderr",
     "output_type": "stream",
     "text": [
      "\n"
     ]
    },
    {
     "name": "stdout",
     "output_type": "stream",
     "text": [
      "i is 1, k is 3, a is 0.01, b is 0.01 and final cv is 0.32823221968519595\n",
      "i is 1, k is 3, a is 0.01, b is 0.31 and final cv is 0.3231927571201237\n",
      "i is 1, k is 3, a is 0.01, b is 0.61 and final cv is 0.33354690429912953\n",
      "i is 1, k is 3, a is 0.01, b is 0.9099999999999999 and final cv is 0.30982997636749415\n",
      "i is 1, k is 3, a is 0.31, b is 0.01 and final cv is 0.31708407295046653\n",
      "i is 1, k is 3, a is 0.31, b is 0.31 and final cv is 0.29270873829778404\n",
      "i is 1, k is 3, a is 0.31, b is 0.61 and final cv is 0.31327325610457485\n",
      "i is 1, k is 3, a is 0.31, b is 0.9099999999999999 and final cv is 0.31521228855898126\n",
      "i is 1, k is 3, a is 0.61, b is 0.01 and final cv is 0.33526134410556613\n",
      "i is 1, k is 3, a is 0.61, b is 0.31 and final cv is 0.3394232640254377\n",
      "i is 1, k is 3, a is 0.61, b is 0.61 and final cv is 0.33942326402543777\n",
      "i is 1, k is 3, a is 0.61, b is 0.9099999999999999 and final cv is 0.33257946656801884\n",
      "i is 1, k is 3, a is 0.9099999999999999, b is 0.01 and final cv is 0.31607530608725454\n",
      "i is 1, k is 3, a is 0.9099999999999999, b is 0.31 and final cv is 0.30452908228816444\n",
      "i is 1, k is 3, a is 0.9099999999999999, b is 0.61 and final cv is 0.32467197440796325\n",
      "i is 1, k is 3, a is 0.9099999999999999, b is 0.9099999999999999 and final cv is 0.32260460496314675\n",
      "i is 1, k is 6, a is 0.01, b is 0.01 and final cv is 0.40165194185293845\n",
      "i is 1, k is 6, a is 0.01, b is 0.31 and final cv is 0.4079626153630651\n",
      "i is 1, k is 6, a is 0.01, b is 0.61 and final cv is 0.372533426299759\n",
      "i is 1, k is 6, a is 0.01, b is 0.9099999999999999 and final cv is 0.41955524960619156\n",
      "i is 1, k is 6, a is 0.31, b is 0.01 and final cv is 0.4306468934755077\n",
      "i is 1, k is 6, a is 0.31, b is 0.31 and final cv is 0.42515748922802693\n",
      "i is 1, k is 6, a is 0.31, b is 0.61 and final cv is 0.409362474821858\n",
      "i is 1, k is 6, a is 0.31, b is 0.9099999999999999 and final cv is 0.41989522657598166\n",
      "i is 1, k is 6, a is 0.61, b is 0.01 and final cv is 0.39990646453017775\n",
      "i is 1, k is 6, a is 0.61, b is 0.31 and final cv is 0.4102700444779068\n",
      "i is 1, k is 6, a is 0.61, b is 0.61 and final cv is 0.40529698795624186\n",
      "i is 1, k is 6, a is 0.61, b is 0.9099999999999999 and final cv is 0.402258840101583\n",
      "i is 1, k is 6, a is 0.9099999999999999, b is 0.01 and final cv is 0.4006836652069597\n",
      "i is 1, k is 6, a is 0.9099999999999999, b is 0.31 and final cv is 0.4235093922113658\n",
      "i is 1, k is 6, a is 0.9099999999999999, b is 0.61 and final cv is 0.3989394763196789\n",
      "i is 1, k is 6, a is 0.9099999999999999, b is 0.9099999999999999 and final cv is 0.43449533988913314\n",
      "i is 1, k is 9, a is 0.01, b is 0.01 and final cv is 0.3911789536193608\n",
      "i is 1, k is 9, a is 0.01, b is 0.31 and final cv is 0.42186704018745425\n",
      "i is 1, k is 9, a is 0.01, b is 0.61 and final cv is 0.3736473488092311\n",
      "i is 1, k is 9, a is 0.01, b is 0.9099999999999999 and final cv is 0.4574549389136091\n",
      "i is 1, k is 9, a is 0.31, b is 0.01 and final cv is 0.37360229888601715\n",
      "i is 1, k is 9, a is 0.31, b is 0.31 and final cv is 0.387349365949667\n",
      "i is 1, k is 9, a is 0.31, b is 0.61 and final cv is 0.3863186553496984\n",
      "i is 1, k is 9, a is 0.31, b is 0.9099999999999999 and final cv is 0.3999769534733079\n",
      "i is 1, k is 9, a is 0.61, b is 0.01 and final cv is 0.40931223230169134\n",
      "i is 1, k is 9, a is 0.61, b is 0.31 and final cv is 0.3916266479191899\n",
      "i is 1, k is 9, a is 0.61, b is 0.61 and final cv is 0.39062032812674263\n",
      "i is 1, k is 9, a is 0.61, b is 0.9099999999999999 and final cv is 0.37444734450250566\n",
      "i is 1, k is 9, a is 0.9099999999999999, b is 0.01 and final cv is 0.43563552597245003\n",
      "i is 1, k is 9, a is 0.9099999999999999, b is 0.31 and final cv is 0.4229029178959282\n",
      "i is 1, k is 9, a is 0.9099999999999999, b is 0.61 and final cv is 0.4040868030840309\n",
      "i is 1, k is 9, a is 0.9099999999999999, b is 0.9099999999999999 and final cv is 0.37420446817450226\n",
      "i is 1, k is 12, a is 0.01, b is 0.01 and final cv is 0.3840651866260043\n",
      "i is 1, k is 12, a is 0.01, b is 0.31 and final cv is 0.3789994309881381\n",
      "i is 1, k is 12, a is 0.01, b is 0.61 and final cv is 0.4284173654093357\n",
      "i is 1, k is 12, a is 0.01, b is 0.9099999999999999 and final cv is 0.4044144588884993\n",
      "i is 1, k is 12, a is 0.31, b is 0.01 and final cv is 0.34689884592202774\n",
      "i is 1, k is 12, a is 0.31, b is 0.31 and final cv is 0.37445636789829245\n",
      "i is 1, k is 12, a is 0.31, b is 0.61 and final cv is 0.42152189790214195\n",
      "i is 1, k is 12, a is 0.31, b is 0.9099999999999999 and final cv is 0.4563039290696073\n",
      "i is 1, k is 12, a is 0.61, b is 0.01 and final cv is 0.3765331855637981\n",
      "i is 1, k is 12, a is 0.61, b is 0.31 and final cv is 0.37234802661663174\n",
      "i is 1, k is 12, a is 0.61, b is 0.61 and final cv is 0.3852041530966512\n",
      "i is 1, k is 12, a is 0.61, b is 0.9099999999999999 and final cv is 0.38977419240218203\n",
      "i is 1, k is 12, a is 0.9099999999999999, b is 0.01 and final cv is 0.38727799974011096\n",
      "i is 1, k is 12, a is 0.9099999999999999, b is 0.31 and final cv is 0.41172334956855733\n",
      "i is 1, k is 12, a is 0.9099999999999999, b is 0.61 and final cv is 0.3521406533575127\n",
      "i is 1, k is 12, a is 0.9099999999999999, b is 0.9099999999999999 and final cv is 0.32335113426194234\n",
      "i is 1, k is 15, a is 0.01, b is 0.01 and final cv is 0.3938896020980198\n",
      "i is 1, k is 15, a is 0.01, b is 0.31 and final cv is 0.4109329829915345\n",
      "i is 1, k is 15, a is 0.01, b is 0.61 and final cv is 0.44280235342267493\n",
      "i is 1, k is 15, a is 0.01, b is 0.9099999999999999 and final cv is 0.4334273016485793\n",
      "i is 1, k is 15, a is 0.31, b is 0.01 and final cv is 0.35906755698905707\n",
      "i is 1, k is 15, a is 0.31, b is 0.31 and final cv is 0.40527897220328274\n",
      "i is 1, k is 15, a is 0.31, b is 0.61 and final cv is 0.4279844599085083\n",
      "i is 1, k is 15, a is 0.31, b is 0.9099999999999999 and final cv is 0.4032929896387475\n",
      "i is 1, k is 15, a is 0.61, b is 0.01 and final cv is 0.3547284364191378\n",
      "i is 1, k is 15, a is 0.61, b is 0.31 and final cv is 0.4118393049059242\n",
      "i is 1, k is 15, a is 0.61, b is 0.61 and final cv is 0.39152597169181175\n",
      "i is 1, k is 15, a is 0.61, b is 0.9099999999999999 and final cv is 0.3970033402109917\n",
      "i is 1, k is 15, a is 0.9099999999999999, b is 0.01 and final cv is 0.3613027234828862\n",
      "i is 1, k is 15, a is 0.9099999999999999, b is 0.31 and final cv is 0.3804226620135218\n",
      "i is 1, k is 15, a is 0.9099999999999999, b is 0.61 and final cv is 0.34200115276330295\n",
      "i is 1, k is 15, a is 0.9099999999999999, b is 0.9099999999999999 and final cv is 0.3257463206151408\n",
      "i is 1, k is 18, a is 0.01, b is 0.01 and final cv is 0.38625706982477515\n",
      "i is 1, k is 18, a is 0.01, b is 0.31 and final cv is 0.3971564457153095\n",
      "i is 1, k is 18, a is 0.01, b is 0.61 and final cv is 0.4418222644436323\n",
      "i is 1, k is 18, a is 0.01, b is 0.9099999999999999 and final cv is 0.4068110967791244\n",
      "i is 1, k is 18, a is 0.31, b is 0.01 and final cv is 0.35857144007746106\n",
      "i is 1, k is 18, a is 0.31, b is 0.31 and final cv is 0.38613531343612806\n",
      "i is 1, k is 18, a is 0.31, b is 0.61 and final cv is 0.3939944800165078\n",
      "i is 1, k is 18, a is 0.31, b is 0.9099999999999999 and final cv is 0.43553520649378874\n",
      "i is 1, k is 18, a is 0.61, b is 0.01 and final cv is 0.37492022891957855\n",
      "i is 1, k is 18, a is 0.61, b is 0.31 and final cv is 0.3885060256242359\n",
      "i is 1, k is 18, a is 0.61, b is 0.61 and final cv is 0.3583391154407903\n",
      "i is 1, k is 18, a is 0.61, b is 0.9099999999999999 and final cv is 0.3839029595199241\n",
      "i is 1, k is 18, a is 0.9099999999999999, b is 0.01 and final cv is 0.37263769774710165\n",
      "i is 1, k is 18, a is 0.9099999999999999, b is 0.31 and final cv is 0.33592290248411294\n",
      "i is 1, k is 18, a is 0.9099999999999999, b is 0.61 and final cv is 0.34197686906875047\n",
      "i is 1, k is 18, a is 0.9099999999999999, b is 0.9099999999999999 and final cv is 0.32026973141671483\n",
      "Wall time: 51min 11s\n"
     ]
    }
   ],
   "source": [
    "%%time\n",
    "## Grid Search Code\n",
    "corpus_title = ['75% Corpus', '100% Corpus']\n",
    "model_results = {'Validation_Set': [],\n",
    "                 'Topics': [],\n",
    "                 'Alpha': [],\n",
    "                 'Beta': [],\n",
    "                 'Coherence': []\n",
    "                }\n",
    "# Can take a long time to run\n",
    "if 1 == 1:\n",
    "    pbar = tqdm.tqdm(total=126)\n",
    "    \n",
    "    # iterate through validation corpuses\n",
    "    for i in range(len(corpus_sets)):\n",
    "        # iterate through number of topics\n",
    "        for k in topics_range:\n",
    "            # iterate through alpha values\n",
    "            for a in alpha:\n",
    "                # iterare through beta values\n",
    "                for b in beta:\n",
    "                    # get the coherence score for the given parameters\n",
    "                    cv =0\n",
    "                    #print( \"i is {}, k is {}, a is {}, b is {}\".format(i,k,a,b) )\n",
    "                    cv = compute_coherence_values(corpus_sets[i],extractedData, dictionary,k, a, b)\n",
    "                    print( \"i is {}, k is {}, a is {}, b is {} and final cv is {}\".format(i,k,a,b,cv) )\n",
    "                    # Save the model results\n",
    "                    model_results['Validation_Set'].append(corpus_title[i])\n",
    "                    model_results['Topics'].append(k)\n",
    "                    model_results['Alpha'].append(a)\n",
    "                    model_results['Beta'].append(b)\n",
    "                    model_results['Coherence'].append(cv)\n",
    "                    \n",
    "                    pbar.update(1)\n",
    "        pd.DataFrame(model_results).to_csv('lda_tuning_results.csv', index=False)\n",
    "        pbar.close()"
   ]
  },
  {
   "cell_type": "code",
   "execution_count": 98,
   "metadata": {},
   "outputs": [],
   "source": [
    "tuneResults=pd.read_csv('lda_tuning_results.csv')"
   ]
  },
  {
   "cell_type": "code",
   "execution_count": 99,
   "metadata": {},
   "outputs": [
    {
     "data": {
      "text/html": [
       "<div>\n",
       "<style scoped>\n",
       "    .dataframe tbody tr th:only-of-type {\n",
       "        vertical-align: middle;\n",
       "    }\n",
       "\n",
       "    .dataframe tbody tr th {\n",
       "        vertical-align: top;\n",
       "    }\n",
       "\n",
       "    .dataframe thead th {\n",
       "        text-align: right;\n",
       "    }\n",
       "</style>\n",
       "<table border=\"1\" class=\"dataframe\">\n",
       "  <thead>\n",
       "    <tr style=\"text-align: right;\">\n",
       "      <th></th>\n",
       "      <th>Validation_Set</th>\n",
       "      <th>Topics</th>\n",
       "      <th>Alpha</th>\n",
       "      <th>Beta</th>\n",
       "      <th>Coherence</th>\n",
       "    </tr>\n",
       "  </thead>\n",
       "  <tbody>\n",
       "    <tr>\n",
       "      <th>131</th>\n",
       "      <td>100% Corpus</td>\n",
       "      <td>9</td>\n",
       "      <td>0.01</td>\n",
       "      <td>0.91</td>\n",
       "      <td>0.457455</td>\n",
       "    </tr>\n",
       "  </tbody>\n",
       "</table>\n",
       "</div>"
      ],
      "text/plain": [
       "    Validation_Set  Topics  Alpha  Beta  Coherence\n",
       "131    100% Corpus       9   0.01  0.91   0.457455"
      ]
     },
     "execution_count": 99,
     "metadata": {},
     "output_type": "execute_result"
    }
   ],
   "source": [
    "tuneResults[tuneResults.Coherence == tuneResults.Coherence.values.ravel().max()]"
   ]
  },
  {
   "cell_type": "code",
   "execution_count": 100,
   "metadata": {},
   "outputs": [
    {
     "data": {
      "text/html": [
       "<div>\n",
       "<style scoped>\n",
       "    .dataframe tbody tr th:only-of-type {\n",
       "        vertical-align: middle;\n",
       "    }\n",
       "\n",
       "    .dataframe tbody tr th {\n",
       "        vertical-align: top;\n",
       "    }\n",
       "\n",
       "    .dataframe thead th {\n",
       "        text-align: right;\n",
       "    }\n",
       "</style>\n",
       "<table border=\"1\" class=\"dataframe\">\n",
       "  <thead>\n",
       "    <tr style=\"text-align: right;\">\n",
       "      <th></th>\n",
       "      <th>Validation_Set</th>\n",
       "      <th>Topics</th>\n",
       "      <th>Alpha</th>\n",
       "      <th>Beta</th>\n",
       "      <th>Coherence</th>\n",
       "    </tr>\n",
       "  </thead>\n",
       "  <tbody>\n",
       "    <tr>\n",
       "      <th>55</th>\n",
       "      <td>75% Corpus</td>\n",
       "      <td>12</td>\n",
       "      <td>0.31</td>\n",
       "      <td>0.91</td>\n",
       "      <td>0.456347</td>\n",
       "    </tr>\n",
       "    <tr>\n",
       "      <th>82</th>\n",
       "      <td>75% Corpus</td>\n",
       "      <td>18</td>\n",
       "      <td>0.01</td>\n",
       "      <td>0.61</td>\n",
       "      <td>0.450780</td>\n",
       "    </tr>\n",
       "    <tr>\n",
       "      <th>131</th>\n",
       "      <td>100% Corpus</td>\n",
       "      <td>9</td>\n",
       "      <td>0.01</td>\n",
       "      <td>0.91</td>\n",
       "      <td>0.457455</td>\n",
       "    </tr>\n",
       "    <tr>\n",
       "      <th>151</th>\n",
       "      <td>100% Corpus</td>\n",
       "      <td>12</td>\n",
       "      <td>0.31</td>\n",
       "      <td>0.91</td>\n",
       "      <td>0.456304</td>\n",
       "    </tr>\n",
       "  </tbody>\n",
       "</table>\n",
       "</div>"
      ],
      "text/plain": [
       "    Validation_Set  Topics  Alpha  Beta  Coherence\n",
       "55      75% Corpus      12   0.31  0.91   0.456347\n",
       "82      75% Corpus      18   0.01  0.61   0.450780\n",
       "131    100% Corpus       9   0.01  0.91   0.457455\n",
       "151    100% Corpus      12   0.31  0.91   0.456304"
      ]
     },
     "execution_count": 100,
     "metadata": {},
     "output_type": "execute_result"
    }
   ],
   "source": [
    "tuneResults[tuneResults.Coherence > 0.45]"
   ]
  },
  {
   "cell_type": "code",
   "execution_count": 101,
   "metadata": {},
   "outputs": [],
   "source": [
    "#Prepare final model\n",
    "lda_model = gensim.models.LdaMulticore(corpus=corpus_sets[0],\n",
    "                                           id2word=dictionary,\n",
    "                                           num_topics=7, \n",
    "                                           random_state=100,\n",
    "                                           chunksize=100,\n",
    "                                           passes=10,\n",
    "                                           alpha=0.31,\n",
    "                                           eta=0.91,\n",
    "                                           per_word_topics=True)"
   ]
  },
  {
   "cell_type": "code",
   "execution_count": 102,
   "metadata": {},
   "outputs": [
    {
     "data": {
      "text/html": [
       "\n",
       "<link rel=\"stylesheet\" type=\"text/css\" href=\"https://cdn.rawgit.com/bmabey/pyLDAvis/files/ldavis.v1.0.0.css\">\n",
       "\n",
       "\n",
       "<div id=\"ldavis_el3380829515342669527945934987\"></div>\n",
       "<script type=\"text/javascript\">\n",
       "\n",
       "var ldavis_el3380829515342669527945934987_data = {\"mdsDat\": {\"x\": [-0.19042191570557848, -0.055964675947950716, -0.0334216547674076, 0.037462959008862255, 0.027184760904702007, 0.11017536963739198, 0.10498515686998054], \"y\": [0.05730096398785675, -0.14118646520121322, 0.04573550733128725, 0.08381610732515701, -0.07858779465668687, 0.01513696054720942, 0.017784720666389742], \"topics\": [1, 2, 3, 4, 5, 6, 7], \"cluster\": [1, 1, 1, 1, 1, 1, 1], \"Freq\": [31.55142593383789, 23.71156883239746, 16.301681518554688, 13.25844955444336, 8.192839622497559, 3.5605006217956543, 3.4235284328460693]}, \"tinfo\": {\"Term\": [\"tablet\", \"work\", \"echo\", \"book\", \"great\", \"alexa\", \"product\", \"kindle\", \"lot\", \"kid\", \"music\", \"old\", \"device\", \"sound\", \"show\", \"year\", \"home\", \"read\", \"light\", \"video\", \"price\", \"easy\", \"best\", \"amazon\", \"game\", \"item\", \"smart\", \"love\", \"fire\", \"good\", \"kid\", \"old\", \"child\", \"grandson\", \"year\", \"parental\", \"age\", \"granddaughter\", \"tablet\", \"son\", \"durable\", \"educational\", \"daughter\", \"storage\", \"price\", \"adult\", \"yr\", \"charger\", \"game\", \"grand\", \"young\", \"parent\", \"gift\", \"bought\", \"speed\", \"pleased\", \"toddler\", \"ipad\", \"plenty\", \"appropriate\", \"warranty\", \"apps\", \"christmas\", \"easy\", \"good\", \"hd\", \"perfect\", \"love\", \"use\", \"great\", \"fire\", \"happy\", \"product\", \"time\", \"little\", \"case\", \"nice\", \"size\", \"play\", \"amazon\", \"work\", \"quality\", \"kindle\", \"alexa\", \"sound\", \"house\", \"tap\", \"dot\", \"news\", \"bulb\", \"kitchen\", \"recipe\", \"ask\", \"weather\", \"hue\", \"show\", \"echo\", \"music\", \"room\", \"speaker\", \"it\\u201a\\u00e4\\u00f4s\", \"list\", \"lyric\", \"song\", \"question\", \"bedroom\", \"talk\", \"listen\", \"volume\", \"hear\", \"morning\", \"timer\", \"whole\", \"family\", \"hub\", \"voice\", \"portable\", \"light\", \"fun\", \"thing\", \"able\", \"amazon\", \"great\", \"love\", \"use\", \"play\", \"device\", \"quality\", \"screen\", \"home\", \"feature\", \"video\", \"product\", \"easy\", \"time\", \"good\", \"store\", \"magazine\", \"life\", \"online\", \"menu\", \"customer\", \"photo\", \"service\", \"email\", \"tag\", \"buy\", \"law\", \"battery\", \"best\", \"next\", \"computer\", \"grandkids\", \"subscription\", \"facebook\", \"money\", \"swipe\", \"network\", \"google\", \"digital\", \"keyboard\", \"biggest\", \"third\", \"code\", \"class\", \"watch\", \"version\", \"access\", \"upgrade\", \"prime\", \"experience\", \"app\", \"amazon\", \"internet\", \"screen\", \"download\", \"device\", \"member\", \"kindle\", \"movie\", \"free\", \"fire\", \"day\", \"time\", \"play\", \"tablet\", \"book\", \"much\", \"great\", \"little\", \"new\", \"apps\", \"use\", \"read\", \"reader\", \"paperwhite\", \"oasis\", \"voyage\", \"cover\", \"model\", \"dark\", \"purse\", \"weight\", \"lightweight\", \"paper\", \"eye\", \"book\", \"white\", \"fit\", \"junk\", \"nook\", \"compact\", \"bright\", \"page\", \"sunlight\", \"longer\", \"e\", \"glare\", \"text\", \"ebook\", \"bag\", \"avid\", \"sun\", \"charge\", \"car\", \"night\", \"kindle\", \"last\", \"reading\", \"light\", \"easier\", \"library\", \"hand\", \"small\", \"size\", \"week\", \"new\", \"screen\", \"easy\", \"much\", \"battery\", \"case\", \"able\", \"thing\", \"use\", \"friend\", \"automation\", \"answer\", \"addition\", \"useful\", \"assistant\", \"satisfied\", \"work\", \"informative\", \"mess\", \"recognition\", \"consumer\", \"smart\", \"iphone\", \"people\", \"entertaining\", \"make\", \"connects\", \"knowledgeable\", \"home\", \"associate\", \"integration\", \"owner\", \"basis\", \"appointment\", \"compare\", \"fair\", \"siri\", \"doorbell\", \"man\", \"helpful\", \"video\", \"product\", \"device\", \"security\", \"youtube\", \"call\", \"phone\", \"great\", \"information\", \"wifi\", \"camera\", \"easier\", \"good\", \"echo\", \"voice\", \"nice\", \"anyone\", \"item\", \"need\", \"amazon\", \"sale\", \"family\", \"thing\", \"screen\", \"use\", \"fun\", \"sd\", \"card\", \"slot\", \"instruction\", \"nexus\", \"recipient\", \"savvy\", \"purchased\", \"teenager\", \"alternative\", \"darn\", \"hope\", \"item\", \"transfer\", \"forward\", \".easy\", \"advertised\", \"credit\", \"stair\", \"flight\", \"pre\", \"lucky\", \"mini\", \"senior\", \"desciples\", \"better/faster\", \"saver\", \"hitch\", \"shy\", \"phooey\", \"electronic\", \"data\", \"memory\", \"fact\", \"member\", \"couple\", \"ipad\", \"tech\", \"assistance\", \"money\", \"break\", \"thing\", \"add\", \"cheap\", \"problem\", \"model\", \"family\", \"lot\", \"busy\", \"s2\", \"functionality\", \"manual\", \"squad\", \"in-law\", \"efficient\", \"geek\", \"daughter-in-law\", \"amplitude\", \"netflix\", \"evening\", \"feachers\", \"goodexcellent\", \"screenlike\", \"sweet\", \"sister\", \"easy-to-use\", \"vibrant\", \"well.this\", \"punch..\", \"spouse\", \"headphone\", \"great..i\", \"it..glad\", \"it..my\", \"stand/cover\", \"bed\", \"difficult\", \"clarity\", \"equipment\", \"box\", \"hulu\", \"stream\", \"natural\", \"steal\", \"tab\", \"intuitive\", \"thought\", \"hard\", \"quick\", \"pair\", \"navigate\", \"setup\", \"decent\", \"right\", \"clear\", \"size\", \"thing\", \"screen\", \"easy\", \"inch\", \"good\"], \"Freq\": [1026.0, 323.0, 434.0, 313.0, 1143.0, 307.0, 373.0, 397.0, 119.0, 333.0, 302.0, 316.0, 313.0, 229.0, 274.0, 313.0, 175.0, 124.0, 231.0, 202.0, 357.0, 598.0, 204.0, 473.0, 292.0, 90.0, 104.0, 537.0, 322.0, 475.0, 327.69384765625, 308.13189697265625, 113.78463745117188, 89.4934310913086, 298.91424560546875, 48.03357696533203, 48.035865783691406, 64.3422622680664, 947.8743896484375, 153.34706115722656, 39.69541931152344, 31.751792907714844, 138.01925659179688, 47.85474395751953, 318.4345397949219, 27.828100204467773, 22.717199325561523, 28.50330352783203, 253.22752380371094, 23.205326080322266, 19.456178665161133, 35.022701263427734, 206.36334228515625, 67.84820556640625, 20.993215560913086, 30.23004150390625, 16.34306526184082, 70.15692138671875, 17.783161163330078, 15.216387748718262, 29.12067985534668, 183.70547485351562, 120.10126495361328, 438.9407958984375, 340.333984375, 60.705135345458984, 129.9196319580078, 365.99090576171875, 459.021240234375, 702.5750732421875, 217.9489288330078, 90.0227279663086, 177.36111450195312, 146.61724853515625, 91.27220153808594, 70.39762878417969, 81.59233093261719, 83.14559936523438, 91.67408752441406, 114.34298706054688, 99.19234466552734, 80.07937622070312, 96.81234741210938, 303.1778869628906, 221.87779235839844, 101.26012420654297, 72.19697570800781, 98.13453674316406, 51.173465728759766, 47.918853759765625, 46.681766510009766, 39.800865173339844, 40.72265625, 61.60190200805664, 43.63314437866211, 249.84625244140625, 395.47186279296875, 274.26434326171875, 76.41973114013672, 143.61793518066406, 39.41123962402344, 36.69147872924805, 28.615842819213867, 26.941125869750977, 63.47520065307617, 18.513097763061523, 27.394554138183594, 32.50674057006836, 18.914295196533203, 16.946758270263672, 18.405460357666016, 17.328813552856445, 33.65372085571289, 106.31172180175781, 41.93634796142578, 43.318511962890625, 36.03554153442383, 128.96836853027344, 74.77731323242188, 121.30767059326172, 86.64685821533203, 150.473876953125, 239.2493438720703, 140.695556640625, 149.82192993164062, 82.98011779785156, 95.8145980834961, 66.7297592163086, 86.41089630126953, 65.43083953857422, 65.73444366455078, 67.2056884765625, 76.00054168701172, 83.29953002929688, 71.12762451171875, 64.58345794677734, 84.20744323730469, 31.943824768066406, 89.49772644042969, 38.32514190673828, 13.569926261901855, 20.44540023803711, 25.950159072875977, 33.29824447631836, 26.900774002075195, 9.400836944580078, 83.9420166015625, 11.1906156539917, 86.51136016845703, 141.41058349609375, 19.00336265563965, 19.851961135864258, 17.6594181060791, 9.748957633972168, 15.776713371276855, 46.33970642089844, 7.740373611450195, 12.41739559173584, 56.18706130981445, 11.512680053710938, 9.612556457519531, 9.071887016296387, 12.353745460510254, 5.812025547027588, 7.261280536651611, 51.03175354003906, 42.09951400756836, 37.34101486206055, 32.14006042480469, 53.293113708496094, 16.494220733642578, 46.73762512207031, 182.68844604492188, 47.02851104736328, 134.3169708251953, 32.745323181152344, 109.39970397949219, 21.394264221191406, 116.1560287475586, 44.10493469238281, 37.84651565551758, 80.87857818603516, 40.61195373535156, 55.97010040283203, 49.52790069580078, 73.95842742919922, 51.37774658203125, 42.03850555419922, 63.5531120300293, 39.320289611816406, 40.19456481933594, 40.48634338378906, 38.14065170288086, 118.59119415283203, 66.62184143066406, 43.2950325012207, 34.91543960571289, 39.705650329589844, 48.08636474609375, 58.549007415771484, 21.433427810668945, 21.50200653076172, 23.927021026611328, 19.446205139160156, 15.310347557067871, 22.7708797454834, 255.4981231689453, 17.536237716674805, 36.13557052612305, 12.794242858886719, 11.16746997833252, 18.443748474121094, 14.852424621582031, 42.62240219116211, 7.890079975128174, 7.947912693023682, 8.311640739440918, 7.30114221572876, 15.148080825805664, 8.000872611999512, 9.422690391540527, 8.616250038146973, 7.40735387802124, 44.63603210449219, 11.971715927124023, 17.847288131713867, 182.0599822998047, 38.37827682495117, 37.99382781982422, 95.03553009033203, 29.746822357177734, 17.224201202392578, 33.141090393066406, 43.11842346191406, 47.416805267333984, 24.75665283203125, 48.942142486572266, 60.79859161376953, 65.42693328857422, 37.02738571166992, 32.046791076660156, 29.901866912841797, 27.327177047729492, 26.161500930786133, 27.86347007751465, 35.55250930786133, 13.891663551330566, 16.4772891998291, 30.06268310546875, 19.75642204284668, 12.252696990966797, 10.081402778625488, 173.57269287109375, 4.019327640533447, 4.317684650421143, 5.394582271575928, 3.571761131286621, 52.511940002441406, 4.751450061798096, 12.145373344421387, 3.4718053340911865, 8.287445068359375, 3.2301506996154785, 3.6035139560699463, 82.67758178710938, 4.498311996459961, 5.978837966918945, 4.36965799331665, 3.4134504795074463, 3.0893630981445312, 2.958683490753174, 3.070517063140869, 2.5128302574157715, 6.754270076751709, 2.3745741844177246, 15.137887954711914, 72.57523345947266, 116.08976745605469, 91.14073181152344, 11.516468048095703, 10.352975845336914, 15.819854736328125, 21.838157653808594, 128.66586303710938, 9.577753067016602, 11.013008117675781, 20.135093688964844, 12.754905700683594, 39.00275802612305, 36.500877380371094, 12.207868576049805, 18.397579193115234, 9.89863109588623, 13.626188278198242, 13.635384559631348, 20.8377742767334, 12.239970207214355, 13.742875099182129, 13.889050483703613, 14.266316413879395, 13.513917922973633, 12.3434419631958, 11.161725997924805, 18.58717155456543, 4.40941858291626, 9.747188568115234, 3.705552339553833, 3.8803954124450684, 4.533722877502441, 5.013715744018555, 2.3480191230773926, 4.950949192047119, 1.9989240169525146, 2.9856481552124023, 31.356107711791992, 1.9139238595962524, 2.460815668106079, 1.7098019123077393, 2.0521721839904785, 2.203570604324341, 1.7296338081359863, 1.9254931211471558, 1.7188118696212769, 1.5923044681549072, 4.68515682220459, 1.756051778793335, 1.4512927532196045, 1.4512927532196045, 1.469086766242981, 1.3841365575790405, 1.3841326236724854, 1.4097734689712524, 4.191544055938721, 2.040138006210327, 6.635921478271484, 5.228031158447266, 5.487941741943359, 4.004550933837891, 7.067644119262695, 3.606067419052124, 2.364439010620117, 5.20667028427124, 2.30725359916687, 4.053571701049805, 2.3152308464050293, 2.372852087020874, 2.551010847091675, 2.320148468017578, 2.248182535171509, 71.0159683227539, 7.418426990509033, 3.6724472045898438, 6.816030502319336, 2.5347084999084473, 2.813924551010132, 1.8118634223937988, 1.9202038049697876, 2.9731857776641846, 1.727542519569397, 1.7424465417861938, 6.383386135101318, 1.8152159452438354, 1.4485880136489868, 1.4485880136489868, 1.4485880136489868, 1.4587655067443848, 5.216678619384766, 1.2747594118118286, 1.6414657831192017, 1.1195478439331055, 1.1195478439331055, 1.4276587963104248, 1.8894826173782349, 1.1064202785491943, 1.1064202785491943, 1.1064202785491943, 1.1546415090560913, 3.2995951175689697, 4.76469612121582, 3.492661952972412, 1.99851655960083, 3.3533432483673096, 1.769971489906311, 3.3703434467315674, 1.3460420370101929, 1.546401023864746, 3.173959255218506, 1.9554121494293213, 3.399712085723877, 3.153566837310791, 2.678147554397583, 2.116149663925171, 2.771759510040283, 2.5115511417388916, 2.315709114074707, 2.460228443145752, 2.4216156005859375, 2.4961812496185303, 2.5559322834014893, 2.6054317951202393, 2.315232276916504, 2.0064358711242676, 2.0449233055114746], \"Total\": [1026.0, 323.0, 434.0, 313.0, 1143.0, 307.0, 373.0, 397.0, 119.0, 333.0, 302.0, 316.0, 313.0, 229.0, 274.0, 313.0, 175.0, 124.0, 231.0, 202.0, 357.0, 598.0, 204.0, 473.0, 292.0, 90.0, 104.0, 537.0, 322.0, 475.0, 333.58538818359375, 316.2938232421875, 117.48443603515625, 92.82337188720703, 313.11798095703125, 51.35048294067383, 51.65769958496094, 69.2076644897461, 1026.4581298828125, 166.1103057861328, 43.166351318359375, 35.018653869628906, 152.49160766601562, 53.19822311401367, 357.35394287109375, 31.702381134033203, 26.047813415527344, 32.75296401977539, 292.24017333984375, 26.78594398498535, 22.768903732299805, 41.21589660644531, 243.0684356689453, 80.01119232177734, 24.904197692871094, 36.36137008666992, 19.686344146728516, 84.68941497802734, 21.504863739013672, 18.489166259765625, 35.43350601196289, 229.50253295898438, 149.6445770263672, 598.971923828125, 475.72906494140625, 76.53343200683594, 174.0264434814453, 537.7433471679688, 689.774169921875, 1143.7513427734375, 322.376220703125, 120.59358215332031, 373.4378967285156, 297.6758117675781, 165.35281372070312, 109.57354736328125, 159.8668670654297, 167.64573669433594, 226.49578857421875, 473.2354431152344, 323.4918518066406, 156.00625610351562, 397.2232971191406, 307.583984375, 229.8625030517578, 105.37068176269531, 75.67691802978516, 103.90054321289062, 54.71284103393555, 51.38578796386719, 50.16596221923828, 43.07868957519531, 44.31983947753906, 67.19941711425781, 47.6242790222168, 274.507568359375, 434.80535888671875, 302.76983642578125, 84.49784851074219, 158.9473876953125, 43.7130126953125, 40.912498474121094, 32.02183532714844, 30.399784088134766, 72.1782455444336, 21.77297592163086, 32.231807708740234, 38.31572341918945, 22.345067977905273, 20.19101333618164, 21.967193603515625, 20.800662994384766, 40.74973678588867, 132.7880096435547, 52.92622756958008, 58.30116271972656, 48.7165412902832, 231.54042053222656, 120.7360610961914, 230.0112762451172, 167.11874389648438, 473.2354431152344, 1143.7513427734375, 537.7433471679688, 689.774169921875, 226.49578857421875, 313.16790771484375, 156.00625610351562, 356.5552062988281, 175.63365173339844, 178.11782836914062, 202.59738159179688, 373.4378967285156, 598.971923828125, 297.6758117675781, 475.72906494140625, 89.9577407836914, 35.252845764160156, 102.9762191772461, 46.72018051147461, 16.935888290405273, 25.68267059326172, 32.953433990478516, 42.64980697631836, 34.972503662109375, 12.938455581665039, 116.92020416259766, 16.151321411132812, 124.9554214477539, 204.32730102539062, 27.509889602661133, 28.822355270385742, 25.6908016204834, 14.260746002197266, 23.154558181762695, 68.08570098876953, 11.619997024536133, 18.75094223022461, 86.43822479248047, 17.7723445892334, 14.893213272094727, 14.112689018249512, 19.358341217041016, 9.12407112121582, 11.545819282531738, 81.5006332397461, 67.47166442871094, 60.013893127441406, 51.7424430847168, 87.67870330810547, 26.383668899536133, 81.17208862304688, 473.2354431152344, 95.70308685302734, 356.5552062988281, 64.45453643798828, 313.16790771484375, 37.71354675292969, 397.2232971191406, 103.95030212402344, 90.74812316894531, 322.376220703125, 117.92969512939453, 297.6758117675781, 226.49578857421875, 1026.4581298828125, 313.640625, 170.03741455078125, 1143.7513427734375, 165.35281372070312, 196.883544921875, 229.50253295898438, 689.774169921875, 124.94881439208984, 71.04949188232422, 46.768375396728516, 38.18811798095703, 43.42855453491211, 53.07526397705078, 66.62344360351562, 24.792818069458008, 24.931564331054688, 27.7684383392334, 22.89392852783203, 18.6978816986084, 27.82001304626465, 313.640625, 21.64044761657715, 45.55253601074219, 16.136478424072266, 14.693046569824219, 24.823856353759766, 20.152263641357422, 58.46579360961914, 11.139995574951172, 11.285147666931152, 12.06039047241211, 10.60586166381836, 22.047901153564453, 11.65506649017334, 13.844060897827148, 12.812231063842773, 11.051944732666016, 67.26834106445312, 18.35755729675293, 28.94133949279785, 397.2232971191406, 68.92913055419922, 73.45796203613281, 231.54042053222656, 56.190155029296875, 29.18212127685547, 68.86482238769531, 98.40580749511719, 167.64573669433594, 54.21904373168945, 196.883544921875, 356.5552062988281, 598.971923828125, 170.03741455078125, 124.9554214477539, 109.57354736328125, 167.11874389648438, 230.0112762451172, 689.774169921875, 44.70547866821289, 18.022241592407227, 22.296646118164062, 41.57817459106445, 31.675844192504883, 20.275630950927734, 17.864255905151367, 323.4918518066406, 7.5581512451171875, 8.309259414672852, 10.459456443786621, 7.055852890014648, 104.02848815917969, 9.445897102355957, 24.618804931640625, 7.122593879699707, 17.02587127685547, 6.707918643951416, 7.551472187042236, 175.63365173339844, 9.612749099731445, 12.966318130493164, 9.894391059875488, 7.758249759674072, 7.0992512702941895, 6.98602294921875, 7.310352325439453, 6.021871566772461, 16.26006507873535, 5.78822660446167, 36.94392776489258, 202.59738159179688, 373.4378967285156, 313.16790771484375, 32.36885070800781, 30.288497924804688, 57.703792572021484, 92.42990112304688, 1143.7513427734375, 29.63262939453125, 38.805118560791016, 115.80550384521484, 56.190155029296875, 475.72906494140625, 434.80535888671875, 58.30116271972656, 159.8668670654297, 40.19845199584961, 90.63817596435547, 93.55531311035156, 473.2354431152344, 71.09774017333984, 132.7880096435547, 230.0112762451172, 356.5552062988281, 689.774169921875, 120.7360610961914, 16.921796798706055, 32.74238204956055, 8.310482025146484, 18.649738311767578, 7.267441749572754, 8.062634468078613, 10.30672550201416, 12.650028228759766, 6.014435291290283, 12.895040512084961, 5.517062664031982, 8.274737358093262, 90.63817596435547, 5.570187568664551, 7.507596969604492, 5.41875696182251, 6.533456802368164, 7.024315357208252, 5.545279026031494, 6.295778751373291, 5.644837856292725, 5.281190872192383, 15.57609748840332, 5.929772853851318, 4.9983906745910645, 4.9983906745910645, 5.149621963500977, 4.8539204597473145, 4.8539228439331055, 5.025137901306152, 15.547525405883789, 7.858325004577637, 40.59855651855469, 34.0894889831543, 37.71354675292969, 25.5284481048584, 84.68941497802734, 26.450477600097656, 11.378064155578613, 68.08570098876953, 17.089195251464844, 230.0112762451172, 22.558032989501953, 28.49739646911621, 81.14659118652344, 66.62344360351562, 132.7880096435547, 119.34683227539062, 12.506011009216309, 7.555397987365723, 16.044960021972656, 6.294940948486328, 7.3047332763671875, 5.342653751373291, 5.7234063148498535, 8.89444637298584, 5.287153720855713, 5.44384765625, 20.81955337524414, 5.920711040496826, 4.954575538635254, 4.954575538635254, 4.954575538635254, 5.3227996826171875, 20.832935333251953, 5.116396427154541, 6.672664165496826, 4.634736061096191, 4.634736061096191, 5.9440460205078125, 7.868165016174316, 4.607413291931152, 4.607413291931152, 4.607413291931152, 4.847656726837158, 13.957101821899414, 20.361576080322266, 15.102874755859375, 8.66708755493164, 16.888702392578125, 8.166744232177734, 18.275150299072266, 5.875387668609619, 7.208775043487549, 21.123287200927734, 10.276968955993652, 28.791488647460938, 35.129981994628906, 27.129119873046875, 14.74608039855957, 40.4370002746582, 40.363914489746094, 35.94771194458008, 57.47752380371094, 55.75437927246094, 167.64573669433594, 230.0112762451172, 356.5552062988281, 598.971923828125, 19.134763717651367, 475.72906494140625], \"Category\": [\"Default\", \"Default\", \"Default\", \"Default\", \"Default\", \"Default\", \"Default\", \"Default\", \"Default\", \"Default\", \"Default\", \"Default\", \"Default\", \"Default\", \"Default\", \"Default\", \"Default\", \"Default\", \"Default\", \"Default\", \"Default\", \"Default\", \"Default\", \"Default\", \"Default\", \"Default\", \"Default\", \"Default\", \"Default\", \"Default\", \"Topic1\", \"Topic1\", \"Topic1\", \"Topic1\", \"Topic1\", \"Topic1\", \"Topic1\", \"Topic1\", \"Topic1\", \"Topic1\", \"Topic1\", \"Topic1\", \"Topic1\", \"Topic1\", \"Topic1\", \"Topic1\", \"Topic1\", \"Topic1\", \"Topic1\", \"Topic1\", \"Topic1\", \"Topic1\", \"Topic1\", \"Topic1\", \"Topic1\", \"Topic1\", \"Topic1\", \"Topic1\", \"Topic1\", \"Topic1\", \"Topic1\", \"Topic1\", \"Topic1\", \"Topic1\", \"Topic1\", \"Topic1\", \"Topic1\", \"Topic1\", \"Topic1\", \"Topic1\", \"Topic1\", \"Topic1\", \"Topic1\", \"Topic1\", \"Topic1\", \"Topic1\", \"Topic1\", \"Topic1\", \"Topic1\", \"Topic1\", \"Topic1\", \"Topic1\", \"Topic1\", \"Topic2\", \"Topic2\", \"Topic2\", \"Topic2\", \"Topic2\", \"Topic2\", \"Topic2\", \"Topic2\", \"Topic2\", \"Topic2\", \"Topic2\", \"Topic2\", \"Topic2\", \"Topic2\", \"Topic2\", \"Topic2\", \"Topic2\", \"Topic2\", \"Topic2\", \"Topic2\", \"Topic2\", \"Topic2\", \"Topic2\", \"Topic2\", \"Topic2\", \"Topic2\", \"Topic2\", \"Topic2\", \"Topic2\", \"Topic2\", \"Topic2\", \"Topic2\", \"Topic2\", \"Topic2\", \"Topic2\", \"Topic2\", \"Topic2\", \"Topic2\", \"Topic2\", \"Topic2\", \"Topic2\", \"Topic2\", \"Topic2\", \"Topic2\", \"Topic2\", \"Topic2\", \"Topic2\", \"Topic2\", \"Topic2\", \"Topic2\", \"Topic2\", \"Topic2\", \"Topic2\", \"Topic3\", \"Topic3\", \"Topic3\", \"Topic3\", \"Topic3\", \"Topic3\", \"Topic3\", \"Topic3\", \"Topic3\", \"Topic3\", \"Topic3\", \"Topic3\", \"Topic3\", \"Topic3\", \"Topic3\", \"Topic3\", \"Topic3\", \"Topic3\", \"Topic3\", \"Topic3\", \"Topic3\", \"Topic3\", \"Topic3\", \"Topic3\", \"Topic3\", \"Topic3\", \"Topic3\", \"Topic3\", \"Topic3\", \"Topic3\", \"Topic3\", \"Topic3\", \"Topic3\", \"Topic3\", \"Topic3\", \"Topic3\", \"Topic3\", \"Topic3\", \"Topic3\", \"Topic3\", \"Topic3\", \"Topic3\", \"Topic3\", \"Topic3\", \"Topic3\", \"Topic3\", \"Topic3\", \"Topic3\", \"Topic3\", \"Topic3\", \"Topic3\", \"Topic3\", \"Topic3\", \"Topic3\", \"Topic3\", \"Topic3\", \"Topic3\", \"Topic4\", \"Topic4\", \"Topic4\", \"Topic4\", \"Topic4\", \"Topic4\", \"Topic4\", \"Topic4\", \"Topic4\", \"Topic4\", \"Topic4\", \"Topic4\", \"Topic4\", \"Topic4\", \"Topic4\", \"Topic4\", \"Topic4\", \"Topic4\", \"Topic4\", \"Topic4\", \"Topic4\", \"Topic4\", \"Topic4\", \"Topic4\", \"Topic4\", \"Topic4\", \"Topic4\", \"Topic4\", \"Topic4\", \"Topic4\", \"Topic4\", \"Topic4\", \"Topic4\", \"Topic4\", \"Topic4\", \"Topic4\", \"Topic4\", \"Topic4\", \"Topic4\", \"Topic4\", \"Topic4\", \"Topic4\", \"Topic4\", \"Topic4\", \"Topic4\", \"Topic4\", \"Topic4\", \"Topic4\", \"Topic4\", \"Topic4\", \"Topic4\", \"Topic4\", \"Topic5\", \"Topic5\", \"Topic5\", \"Topic5\", \"Topic5\", \"Topic5\", \"Topic5\", \"Topic5\", \"Topic5\", \"Topic5\", \"Topic5\", \"Topic5\", \"Topic5\", \"Topic5\", \"Topic5\", \"Topic5\", \"Topic5\", \"Topic5\", \"Topic5\", \"Topic5\", \"Topic5\", \"Topic5\", \"Topic5\", \"Topic5\", \"Topic5\", \"Topic5\", \"Topic5\", \"Topic5\", \"Topic5\", \"Topic5\", \"Topic5\", \"Topic5\", \"Topic5\", \"Topic5\", \"Topic5\", \"Topic5\", \"Topic5\", \"Topic5\", \"Topic5\", \"Topic5\", \"Topic5\", \"Topic5\", \"Topic5\", \"Topic5\", \"Topic5\", \"Topic5\", \"Topic5\", \"Topic5\", \"Topic5\", \"Topic5\", \"Topic5\", \"Topic5\", \"Topic5\", \"Topic5\", \"Topic5\", \"Topic5\", \"Topic5\", \"Topic6\", \"Topic6\", \"Topic6\", \"Topic6\", \"Topic6\", \"Topic6\", \"Topic6\", \"Topic6\", \"Topic6\", \"Topic6\", \"Topic6\", \"Topic6\", \"Topic6\", \"Topic6\", \"Topic6\", \"Topic6\", \"Topic6\", \"Topic6\", \"Topic6\", \"Topic6\", \"Topic6\", \"Topic6\", \"Topic6\", \"Topic6\", \"Topic6\", \"Topic6\", \"Topic6\", \"Topic6\", \"Topic6\", \"Topic6\", \"Topic6\", \"Topic6\", \"Topic6\", \"Topic6\", \"Topic6\", \"Topic6\", \"Topic6\", \"Topic6\", \"Topic6\", \"Topic6\", \"Topic6\", \"Topic6\", \"Topic6\", \"Topic6\", \"Topic6\", \"Topic6\", \"Topic6\", \"Topic7\", \"Topic7\", \"Topic7\", \"Topic7\", \"Topic7\", \"Topic7\", \"Topic7\", \"Topic7\", \"Topic7\", \"Topic7\", \"Topic7\", \"Topic7\", \"Topic7\", \"Topic7\", \"Topic7\", \"Topic7\", \"Topic7\", \"Topic7\", \"Topic7\", \"Topic7\", \"Topic7\", \"Topic7\", \"Topic7\", \"Topic7\", \"Topic7\", \"Topic7\", \"Topic7\", \"Topic7\", \"Topic7\", \"Topic7\", \"Topic7\", \"Topic7\", \"Topic7\", \"Topic7\", \"Topic7\", \"Topic7\", \"Topic7\", \"Topic7\", \"Topic7\", \"Topic7\", \"Topic7\", \"Topic7\", \"Topic7\", \"Topic7\", \"Topic7\", \"Topic7\", \"Topic7\", \"Topic7\", \"Topic7\", \"Topic7\", \"Topic7\", \"Topic7\", \"Topic7\", \"Topic7\"], \"logprob\": [30.0, 29.0, 28.0, 27.0, 26.0, 25.0, 24.0, 23.0, 22.0, 21.0, 20.0, 19.0, 18.0, 17.0, 16.0, 15.0, 14.0, 13.0, 12.0, 11.0, 10.0, 9.0, 8.0, 7.0, 6.0, 5.0, 4.0, 3.0, 2.0, 1.0, -3.918100118637085, -3.9797000885009766, -4.975900173187256, -5.216000080108643, -4.010000228881836, -5.8383002281188965, -5.8383002281188965, -5.546000003814697, -2.8559999465942383, -4.677499771118164, -6.0289998054504395, -6.252299785614014, -4.782800197601318, -5.8420000076293945, -3.9467999935150146, -6.384200096130371, -6.587100028991699, -6.360199928283691, -4.175899982452393, -6.565800189971924, -6.742000102996826, -6.154200077056885, -4.3805999755859375, -5.4928998947143555, -6.665999889373779, -6.301400184631348, -6.916399955749512, -5.459499835968018, -6.831999778747559, -6.987800121307373, -6.338799953460693, -4.4969000816345215, -4.921899795532227, -3.6257998943328857, -3.8803000450134277, -5.6041998863220215, -4.843299865722656, -3.8076000213623047, -3.5810999870300293, -3.1554999351501465, -4.325900077819824, -5.210100173950195, -4.5320000648498535, -4.722400188446045, -5.196400165557861, -5.455999851226807, -5.308499813079834, -5.289599895477295, -5.191999912261963, -4.9710001945495605, -5.113100051879883, -5.327199935913086, -5.137400150299072, -3.710200071334839, -4.02239990234375, -4.8069000244140625, -5.145199775695801, -4.838200092315674, -5.489299774169922, -5.554999828338623, -5.581200122833252, -5.740699768066406, -5.717800140380859, -5.303899765014648, -5.64870023727417, -3.903700113296509, -3.444499969482422, -3.810499906539917, -5.0883002281188965, -4.457399845123291, -5.750500202178955, -5.822000026702881, -6.0706000328063965, -6.130899906158447, -5.273900032043457, -6.506100177764893, -6.114200115203857, -5.9430999755859375, -6.484600067138672, -6.5945000648498535, -6.511899948120117, -6.572199821472168, -5.908400058746338, -4.758200168609619, -5.688399791717529, -5.656000137329102, -5.840000152587891, -4.565000057220459, -5.110000133514404, -4.626200199127197, -4.962699890136719, -4.410799980163574, -3.947000026702881, -4.478000164031982, -4.41510009765625, -5.005899906158447, -4.862100124359131, -5.223899841308594, -4.965400218963623, -5.243599891662598, -5.238900184631348, -5.216800212860107, -5.093800067901611, -5.002099990844727, -5.160099983215332, -5.2565999031066895, -4.616600036621094, -5.585899829864502, -4.555600166320801, -5.40369987487793, -6.441999912261963, -6.032100200653076, -5.793700218200684, -5.544400215148926, -5.757699966430664, -6.809100151062012, -4.619699954986572, -6.634799957275391, -4.589600086212158, -4.098199844360352, -6.105199813842773, -6.061600208282471, -6.178599834442139, -6.77269983291626, -6.291299819946289, -5.213900089263916, -7.003399848937988, -6.530799865722656, -5.021200180053711, -6.606400012969971, -6.786799907684326, -6.844699859619141, -6.535900115966797, -7.289899826049805, -7.067299842834473, -5.117400169372559, -5.309800148010254, -5.429800033569336, -5.579800128936768, -5.073999881744385, -6.246799945831299, -5.2052998542785645, -3.842099905014038, -5.199100017547607, -4.149700164794922, -5.561100006103516, -4.354800224304199, -5.986700057983398, -4.294899940490723, -5.263299942016602, -5.416299819946289, -4.656899929046631, -5.345799922943115, -5.025000095367432, -5.147299766540527, -4.746399879455566, -5.110599994659424, -5.311299800872803, -4.8979997634887695, -5.3780999183654785, -5.356100082397461, -5.348899841308594, -5.408599853515625, -4.067500114440918, -4.644199848175049, -5.075200080871582, -5.290299892425537, -5.1616997718811035, -4.970200061798096, -4.773399829864502, -5.778299808502197, -5.775100231170654, -5.6682000160217285, -5.8755998611450195, -6.114699840545654, -5.717700004577637, -3.299999952316284, -5.979000091552734, -5.255899906158447, -6.2941999435424805, -6.430200099945068, -5.928500175476074, -6.145100116729736, -5.090799808502197, -6.777599811553955, -6.770299911499023, -6.725599765777588, -6.855199813842773, -6.12529993057251, -6.763700008392334, -6.600100040435791, -6.689599990844727, -6.840700149536133, -5.0447001457214355, -6.3607001304626465, -5.961400032043457, -3.6389000415802, -5.195700168609619, -5.2058000564575195, -4.289000034332275, -5.450500011444092, -5.9969000816345215, -5.342400074005127, -5.0792999267578125, -4.9842000007629395, -5.634099960327148, -4.952600002288818, -4.7357001304626465, -4.662300109863281, -5.231599807739258, -5.375999927520752, -5.445300102233887, -5.535299777984619, -5.57889986038208, -5.515900135040283, -4.790800094604492, -5.730599880218506, -5.559899806976318, -4.958600044250488, -5.378399848937988, -5.856100082397461, -6.051199913024902, -3.2053000926971436, -6.970699787139893, -6.899099826812744, -6.676499843597412, -7.088799953460693, -4.4008002281188965, -6.803400039672852, -5.8649001121521, -7.117199897766113, -6.247099876403809, -7.189300060272217, -7.079899787902832, -3.946899890899658, -6.858099937438965, -6.573599815368652, -6.887199878692627, -7.134099960327148, -7.23390007019043, -7.277100086212158, -7.239999771118164, -7.440400123596191, -6.451700210571289, -7.497000217437744, -5.644599914550781, -4.077199935913086, -3.6075000762939453, -3.849400043487549, -5.918099880218506, -6.024600028991699, -5.600599765777588, -5.278200149536133, -3.5046000480651855, -6.102399826049805, -5.962800025939941, -5.359399795532227, -5.815899848937988, -4.698200225830078, -4.764500141143799, -5.859799861907959, -5.4496002197265625, -6.069499969482422, -5.749899864196777, -5.749199867248535, -5.325099945068359, -5.857100009918213, -5.741300106048584, -5.7307000160217285, -5.70389986038208, -5.7581000328063965, -5.848700046539307, -5.116000175476074, -4.605999946594238, -6.0447001457214355, -5.251500129699707, -6.218699932098389, -6.172599792480469, -6.016900062561035, -5.916299819946289, -6.674900054931641, -5.928899765014648, -6.835899829864502, -6.434700012207031, -4.083099842071533, -6.879300117492676, -6.627999782562256, -6.992099761962891, -6.809599876403809, -6.738399982452393, -6.980599880218506, -6.873300075531006, -6.9868998527526855, -7.063300132751465, -5.984099864959717, -6.965400218963623, -7.156000137329102, -7.156000137329102, -7.143799781799316, -7.203400135040283, -7.203400135040283, -7.185100078582764, -6.095399856567383, -6.815499782562256, -5.636000156402588, -5.874499797821045, -5.825900077819824, -6.14109992980957, -5.572999954223633, -6.2459001541137695, -6.667900085449219, -5.878499984741211, -6.692399978637695, -6.128900051116943, -6.689000129699707, -6.664400100708008, -6.5920000076293945, -6.6869001388549805, -6.718400001525879, -3.2263998985290527, -5.485300064086914, -6.188399791717529, -5.570000171661377, -6.559199810028076, -6.454699993133545, -6.894899845123291, -6.8368000984191895, -6.399600028991699, -6.942599773406982, -6.934000015258789, -5.6356000900268555, -6.893099784851074, -7.11870002746582, -7.11870002746582, -7.11870002746582, -7.111700057983398, -5.837399959564209, -7.246500015258789, -6.99370002746582, -7.376299858093262, -7.376299858093262, -7.133200168609619, -6.853000164031982, -7.3881001472473145, -7.3881001472473145, -7.3881001472473145, -7.3454999923706055, -6.295499801635742, -5.927999973297119, -6.23859977722168, -6.796899795532227, -6.279300212860107, -6.918300151824951, -6.274199962615967, -7.1921000480651855, -7.053299903869629, -6.3343000411987305, -6.818699836730957, -6.265600204467773, -6.340700149536133, -6.5040998458862305, -6.739699840545654, -6.469799995422363, -6.568399906158447, -6.649499893188477, -6.589000225067139, -6.604800224304199, -6.57450008392334, -6.55079984664917, -6.531700134277344, -6.649700164794922, -6.792900085449219, -6.773900032043457], \"loglift\": [30.0, 29.0, 28.0, 27.0, 26.0, 25.0, 24.0, 23.0, 22.0, 21.0, 20.0, 19.0, 18.0, 17.0, 16.0, 15.0, 14.0, 13.0, 12.0, 11.0, 10.0, 9.0, 8.0, 7.0, 6.0, 5.0, 4.0, 3.0, 2.0, 1.0, 1.135699987411499, 1.1274000406265259, 1.1216000318527222, 1.1169999837875366, 1.107100009918213, 1.0867999792099, 1.080899953842163, 1.0807000398635864, 1.0738999843597412, 1.0736000537872314, 1.069700002670288, 1.0556000471115112, 1.0537999868392944, 1.047700047492981, 1.0382000207901, 1.0232000350952148, 1.016700029373169, 1.0146000385284424, 1.0103000402450562, 1.01010000705719, 0.9962999820709229, 0.9907000064849854, 0.989799976348877, 0.9886999726295471, 0.982699990272522, 0.9689000248908997, 0.9674000144004822, 0.9653000235557556, 0.9635000228881836, 0.9587000012397766, 0.9573000073432922, 0.9309999942779541, 0.9336000084877014, 0.8427000045776367, 0.8185999989509583, 0.9218999743461609, 0.861299991607666, 0.7688000202178955, 0.7462999820709229, 0.6661999821662903, 0.7620999813079834, 0.8611999750137329, 0.4090000092983246, 0.4453999996185303, 0.5593000054359436, 0.7110999822616577, 0.48089998960494995, 0.4523000121116638, 0.249099999666214, -0.2667999863624573, -0.028599999845027924, 0.48669999837875366, -0.2581999897956848, 1.4248000383377075, 1.4039000272750854, 1.399399995803833, 1.3920999765396118, 1.382099986076355, 1.3723000288009644, 1.3694000244140625, 1.3672000169754028, 1.3601000308990479, 1.354599952697754, 1.3522000312805176, 1.351699948310852, 1.3451000452041626, 1.3444000482559204, 1.3402999639511108, 1.3387000560760498, 1.3378000259399414, 1.3356000185012817, 1.330299973487854, 1.32669997215271, 1.3184000253677368, 1.3107000589370728, 1.2769999504089355, 1.2766000032424927, 1.2747999429702759, 1.2725000381469727, 1.2640000581741333, 1.2623000144958496, 1.256600022315979, 1.2479000091552734, 1.2167999744415283, 1.2065000534057617, 1.142199993133545, 1.1376999616622925, 0.8539999723434448, 0.960099995136261, 0.7993999719619751, 0.7822999954223633, 0.29339998960494995, -0.12540000677108765, 0.09839999675750732, -0.0877000018954277, 0.4350999891757965, 0.2549000084400177, 0.5899999737739563, 0.021800000220537186, 0.45179998874664307, 0.4424000084400177, 0.33570000529289246, -0.15279999375343323, -0.5335999727249146, 0.007699999958276749, -0.557699978351593, 1.7477999925613403, 1.7152999639511108, 1.6735999584197998, 1.6158000230789185, 1.5923000574111938, 1.585800051689148, 1.5750000476837158, 1.5664000511169434, 1.5514999628067017, 1.4945000410079956, 1.4824999570846558, 1.4470000267028809, 1.4462000131607056, 1.4457999467849731, 1.444000005722046, 1.441100001335144, 1.4390000104904175, 1.4335999488830566, 1.4301999807357788, 1.4291000366210938, 1.4076000452041626, 1.4018000364303589, 1.3832000494003296, 1.379699945449829, 1.376099944114685, 1.371999979019165, 1.3646999597549438, 1.3629000186920166, 1.350100040435791, 1.3457000255584717, 1.3422000408172607, 1.339400053024292, 1.3377000093460083, 1.315999984741211, 1.3442000150680542, 1.2618999481201172, 0.8621000051498413, 1.1033999919891357, 0.8375999927520752, 1.1367000341415405, 0.7621999979019165, 1.246999979019165, 0.5842999815940857, 0.95660001039505, 0.9394000172615051, 0.4311000108718872, 0.7479000091552734, 0.14270000159740448, 0.2937000095844269, -0.8165000081062317, 0.004900000058114529, 0.4165000021457672, -1.076300024986267, 0.3776000142097473, 0.22499999403953552, 0.07900000363588333, -1.0812000036239624, 1.9682999849319458, 1.9562000036239624, 1.9434000253677368, 1.930899977684021, 1.930899977684021, 1.9218000173568726, 1.8912999629974365, 1.874899983406067, 1.872499942779541, 1.8716000318527222, 1.857300043106079, 1.8207000494003296, 1.8202999830245972, 1.815500020980835, 1.8101999759674072, 1.7889000177383423, 1.7884000539779663, 1.7461999654769897, 1.7235000133514404, 1.715399980545044, 1.7044999599456787, 1.6756000518798828, 1.6699999570846558, 1.648300051689148, 1.6471999883651733, 1.6452000141143799, 1.6442999839782715, 1.6358000040054321, 1.6238000392913818, 1.6203999519348145, 1.6103999614715576, 1.593000054359436, 1.5370999574661255, 1.240399956703186, 1.4349000453948975, 1.361199975013733, 1.1299999952316284, 1.3845000267028809, 1.493299961090088, 1.289199948310852, 1.1953999996185303, 0.7577000260353088, 1.2366000413894653, 0.628600001335144, 0.2515999972820282, -0.19370000064373016, 0.49619999527931213, 0.6597999930381775, 0.7218999862670898, 0.20970000326633453, -0.15330000221729279, -1.1885000467300415, 2.2727999687194824, 2.2416000366210938, 2.19950008392334, 2.1775999069213867, 2.0297999382019043, 1.9982000589370728, 1.929800033569336, 1.8792999982833862, 1.8703999519348145, 1.8473000526428223, 1.8398000001907349, 1.8210999965667725, 1.8183000087738037, 1.8148000240325928, 1.795300006866455, 1.7833000421524048, 1.7819000482559204, 1.7711000442504883, 1.7620999813079834, 1.7484999895095825, 1.7424999475479126, 1.7278000116348267, 1.6845999956130981, 1.680899977684021, 1.6698999404907227, 1.642699956893921, 1.6345000267028809, 1.6279000043869019, 1.6233999729156494, 1.6109000444412231, 1.6096999645233154, 1.4752999544143677, 1.3335000276565552, 1.2676000595092773, 1.468500018119812, 1.4284000396728516, 1.207900047302246, 1.0591000318527222, 0.31709998846054077, 1.372499942779541, 1.242400050163269, 0.7524999976158142, 1.0190999507904053, 0.000699999975040555, 0.024299999698996544, 0.9383999705314636, 0.33980000019073486, 1.1004999876022339, 0.6069999933242798, 0.5759999752044678, -0.6208999752998352, 0.7426000237464905, 0.2337000072002411, -0.3050999939441681, -0.71670001745224, -1.4306999444961548, 0.22139999270439148, 2.9191999435424805, 2.7690999507904053, 2.7014999389648438, 2.6863999366760254, 2.6617000102996826, 2.6040000915527344, 2.5139999389648438, 2.4098000526428223, 2.394700050354004, 2.378000020980835, 2.319999933242798, 2.3159000873565674, 2.2737998962402344, 2.2669999599456787, 2.2197999954223633, 2.18179988861084, 2.1772000789642334, 2.1760001182556152, 2.1702001094818115, 2.150599956512451, 2.146199941635132, 2.1363000869750977, 2.1338999271392822, 2.1184000968933105, 2.098599910736084, 2.098599910736084, 2.0810000896453857, 2.0806000232696533, 2.0806000232696533, 2.064199924468994, 2.024399995803833, 1.9867000579833984, 1.5240000486373901, 1.4602999687194824, 1.4077999591827393, 1.4829000234603882, 0.8518000245094299, 1.3425999879837036, 1.7640999555587769, 0.7644000053405762, 1.332900047302246, -0.7032999992370605, 1.0586999654769897, 0.8495000004768372, -0.12449999898672104, -0.022199999541044235, -0.743399977684021, 2.8554000854492188, 2.852299928665161, 2.65310001373291, 2.518399953842163, 2.4647998809814453, 2.420599937438965, 2.293100118637085, 2.282399892807007, 2.278700113296509, 2.2558999061584473, 2.235300064086914, 2.1923000812530518, 2.192199945449829, 2.1447999477386475, 2.1447999477386475, 2.1447999477386475, 2.0801000595092773, 1.989799976348877, 1.9847999811172485, 1.972100019454956, 1.9537999629974365, 1.9537999629974365, 1.948099970817566, 1.9479999542236328, 1.9479999542236328, 1.9479999542236328, 1.9479999542236328, 1.9398000240325928, 1.9322999715805054, 1.9220999479293823, 1.9103000164031982, 1.9074000120162964, 1.7577999830245972, 1.8453999757766724, 1.684000015258789, 1.9009000062942505, 1.8351000547409058, 1.479099988937378, 1.7151999473571777, 1.2381000518798828, 0.9639999866485596, 1.059000015258789, 1.4330999851226807, 0.6941999793052673, 0.5975000262260437, 0.632099986076355, 0.22339999675750732, 0.23800000548362732, -0.8325999975204468, -1.1252000331878662, -1.5443999767303467, -2.1812000274658203, 1.1194000244140625, -2.075000047683716]}, \"token.table\": {\"Topic\": [1, 2, 3, 4, 5, 6, 1, 2, 3, 4, 5, 1, 2, 3, 4, 5, 6, 7, 1, 2, 3, 4, 5, 6, 1, 2, 3, 4, 5, 1, 2, 3, 4, 5, 1, 2, 3, 4, 5, 6, 1, 2, 3, 4, 5, 1, 2, 3, 4, 5, 1, 2, 3, 4, 6, 1, 2, 3, 4, 5, 1, 2, 3, 4, 7, 1, 2, 3, 4, 5, 1, 2, 3, 4, 5, 1, 2, 3, 4, 5, 1, 2, 3, 4, 5, 1, 2, 3, 4, 1, 2, 3, 4, 5, 6, 7, 1, 2, 3, 4, 5, 1, 2, 3, 4, 5, 6, 1, 2, 3, 4, 5, 7, 1, 2, 3, 4, 5, 1, 2, 3, 4, 5, 1, 2, 3, 4, 5, 1, 2, 3, 4, 1, 2, 3, 4, 5, 1, 2, 3, 4, 5, 1, 2, 3, 4, 5, 7, 1, 2, 3, 4, 5, 1, 2, 3, 4, 5, 1, 2, 3, 4, 6, 1, 2, 3, 4, 6, 1, 2, 3, 4, 5, 7, 1, 2, 3, 4, 5, 1, 2, 3, 4, 5, 7, 1, 2, 3, 4, 5, 6, 1, 2, 3, 4, 5, 1, 2, 3, 4, 5, 1, 2, 3, 4, 5, 7, 1, 2, 3, 4, 5, 1, 2, 3, 4, 5, 1, 2, 3, 4, 5, 7, 1, 2, 3, 4, 5, 1, 2, 3, 4, 5, 6, 1, 2, 3, 4, 5, 6, 1, 2, 3, 4, 5, 1, 2, 3, 4, 5, 1, 2, 3, 4, 5, 6, 1, 2, 3, 4, 5, 6, 1, 2, 3, 4, 5, 1, 2, 3, 4, 5, 7, 1, 2, 3, 4, 5, 1, 2, 3, 4, 5, 7, 1, 2, 3, 4, 5, 1, 2, 3, 4, 5, 1, 2, 3, 4, 5, 1, 2, 3, 4, 5, 6, 1, 2, 3, 4, 5, 1, 2, 3, 4, 5, 1, 2, 3, 4, 5, 6, 1, 2, 3, 4, 5, 1, 2, 3, 4, 6, 1, 2, 3, 4, 5, 1, 2, 3, 4, 1, 2, 3, 4, 6, 1, 2, 3, 4, 5, 6, 1, 2, 3, 4, 5, 1, 2, 3, 4, 7, 1, 2, 3, 4, 5, 1, 2, 3, 4, 5, 6, 7, 1, 2, 3, 4, 6, 1, 2, 3, 4, 5, 1, 2, 3, 4, 5, 6, 7, 1, 2, 3, 4, 5, 7, 1, 2, 3, 4, 5, 1, 2, 3, 4, 5, 1, 2, 3, 4, 5, 1, 2, 3, 4, 5, 1, 2, 3, 4, 5, 1, 2, 3, 4, 5, 7, 1, 2, 3, 4, 5, 6, 7, 1, 2, 3, 4, 5, 7, 1, 2, 3, 4, 5, 1, 2, 3, 4, 5, 1, 2, 3, 4, 5, 1, 2, 3, 4, 5, 7, 1, 2, 3, 4, 5, 6, 1, 2, 3, 4, 5, 1, 2, 3, 4, 5, 1, 2, 3, 4, 5, 7, 1, 2, 3, 4, 5, 7, 1, 2, 3, 4, 5, 1, 2, 3, 4, 5, 1, 2, 3, 4, 5, 1, 2, 3, 4, 5, 6, 1, 2, 3, 4, 5, 1, 2, 3, 4, 5, 6, 1, 2, 3, 4, 7, 1, 2, 3, 4, 5, 7, 1, 2, 3, 4, 5, 7, 1, 2, 3, 4, 5, 1, 2, 3, 4, 5, 6, 1, 2, 3, 4, 6, 1, 2, 3, 4, 5, 1, 2, 3, 4, 5, 1, 2, 3, 4, 5, 7, 1, 2, 3, 4, 5, 7, 1, 2, 3, 4, 5, 7, 1, 2, 3, 4, 5, 6, 7, 1, 2, 3, 4, 5, 1, 2, 3, 4, 1, 2, 3, 4, 5, 7, 1, 2, 3, 4, 7, 1, 2, 3, 4, 5, 1, 2, 3, 4, 5, 1, 2, 3, 4, 5, 1, 2, 3, 4, 5, 6, 1, 2, 3, 4, 5, 1, 2, 3, 4, 5, 6, 7, 1, 2, 3, 4, 7, 1, 2, 3, 4, 5, 1, 2, 3, 4, 5, 1, 2, 3, 4, 5, 7, 1, 2, 3, 4, 5, 1, 2, 3, 4, 5, 7, 1, 2, 3, 4, 5, 1, 2, 3, 4, 5, 1, 2, 3, 4, 6, 1, 2, 3, 4, 5, 1, 2, 3, 4, 5, 6, 1, 2, 3, 4, 5, 1, 2, 3, 4, 5, 1, 2, 3, 4, 5, 1, 2, 3, 4, 5, 7, 1, 2, 3, 4, 7, 1, 2, 3, 4, 5, 7, 1, 2, 3, 4, 5, 1, 2, 3, 4, 5, 1, 2, 3, 4, 5, 6, 7, 1, 2, 3, 4, 5, 1, 2, 3, 4, 5, 7, 1, 2, 3, 4, 5, 7, 1, 2, 3, 4, 5, 6, 7, 1, 2, 3, 4, 5, 1, 2, 3, 4, 7, 1, 2, 3, 4, 7, 1, 2, 3, 4, 5, 6, 1, 2, 3, 4, 5, 1, 2, 3, 4, 1, 2, 3, 4, 5, 1, 2, 3, 4, 5, 6, 1, 2, 3, 4, 5, 1, 2, 3, 4, 5, 1, 2, 3, 4, 5, 1, 2, 3, 4, 5, 6, 1, 2, 3, 4, 5, 1, 2, 3, 4, 5, 1, 2, 3, 4, 5, 1, 2, 3, 4, 5, 1, 2, 3, 4, 5, 1, 2, 3, 4, 5, 1, 2, 3, 4, 5, 1, 2, 3, 4, 5, 1, 2, 3, 4, 1, 2, 3, 4, 5, 7, 1, 2, 3, 4, 5, 7, 1, 2, 3, 4, 5, 6, 1, 2, 3, 4, 5, 1, 2, 3, 4, 1, 2, 3, 4, 5, 6, 1, 2, 3, 4, 5, 1, 2, 3, 4, 5, 7, 1, 2, 3, 4, 5, 6, 1, 2, 3, 4, 5, 6, 1, 2, 3, 4, 5, 1, 2, 3, 4, 5, 1, 2, 3, 4, 5, 6, 7, 1, 2, 3, 4, 5, 6, 7, 1, 2, 3, 4, 5, 6, 1, 2, 3, 4, 5, 1, 2, 3, 4, 5, 6, 7, 1, 2, 3, 4, 5, 1, 2, 3, 4, 5, 1, 2, 3, 4, 5, 7, 1, 2, 3, 4, 5, 7, 1, 2, 3, 4, 5, 1, 2, 3, 4, 5, 7, 1, 2, 3, 4, 5, 1, 2, 3, 4, 5, 1, 2, 3, 4, 5, 1, 2, 3, 4, 5, 1, 2, 3, 4, 6, 1, 2, 3, 4, 5, 7, 1, 2, 3, 4, 5, 1, 2, 3, 4, 1, 2, 3, 4, 1, 2, 3, 4, 5, 1, 2, 3, 4, 5, 7, 1, 2, 3, 4, 5, 1, 2, 3, 4, 5, 1, 2, 3, 4, 5, 7, 1, 2, 3, 4, 1, 2, 3, 4, 5, 1, 2, 3, 4, 5, 1, 2, 3, 4, 5, 1, 2, 3, 4, 5, 1, 2, 3, 4, 5, 1, 2, 3, 4, 5, 1, 2, 3, 4, 6, 1, 2, 3, 4, 5, 7, 1, 2, 3, 4, 5, 7, 1, 2, 3, 4, 5, 1, 2, 3, 4, 6, 1, 2, 3, 4, 5, 1, 2, 3, 4, 5, 6, 1, 2, 3, 4, 5, 1, 2, 3, 4, 5, 6, 1, 2, 3, 4, 5, 6, 1, 2, 3, 4, 5, 1, 2, 3, 4, 7, 1, 2, 3, 4, 5, 6, 1, 2, 3, 4, 5, 1, 2, 3, 4, 5, 1, 2, 3, 4, 5, 1, 2, 3, 4, 5, 7, 1, 2, 3, 4, 5, 1, 2, 3, 4, 5, 1, 2, 3, 4, 5, 7, 1, 2, 3, 4, 5, 1, 2, 3, 4, 5, 6, 1, 2, 3, 4, 5, 1, 2, 3, 4, 5, 7, 1, 2, 3, 4, 5, 1, 2, 3, 4, 7, 1, 2, 3, 4, 5, 1, 2, 3, 4, 5, 1, 2, 3, 4, 6, 1, 2, 3, 4, 5, 6, 1, 2, 3, 4, 5, 6, 7, 1, 2, 3, 4, 7, 1, 2, 3, 4, 5, 6, 1, 2, 3, 4, 5, 1, 2, 3, 4, 6, 1, 2, 3, 4, 5, 1, 2, 3, 4, 5, 7, 1, 2, 3, 4, 5, 1, 2, 3, 4, 6, 1, 2, 3, 4, 5, 1, 2, 3, 4, 5, 7, 1, 2, 3, 4, 5, 7, 1, 2, 3, 4, 6, 1, 2, 3, 4, 5, 1, 2, 3, 4, 5, 1, 2, 3, 4, 5, 1, 2, 3, 4, 5, 1, 2, 3, 4, 5, 1, 2, 3, 4, 5, 6, 1, 2, 3, 4, 5, 1, 2, 3, 4, 5, 7, 1, 2, 3, 4, 5, 6, 7, 1, 2, 3, 4, 6, 1, 2, 3, 4, 7, 1, 2, 3, 4, 5, 7, 1, 2, 3, 4, 5, 7, 1, 2, 3, 4, 5, 1, 2, 3, 4, 5, 7, 1, 2, 3, 4, 5, 1, 2, 3, 4, 5, 1, 2, 3, 4, 1, 2, 3, 4, 5, 7, 1, 2, 3, 4, 5, 1, 2, 3, 4, 5, 7, 1, 2, 3, 4, 5, 6, 1, 2, 3, 4, 1, 2, 3, 4, 5, 1, 2, 3, 4, 5, 1, 2, 3, 4, 5, 6, 1, 2, 3, 4, 6, 1, 2, 3, 4, 5, 7, 1, 2, 3, 4, 5, 6, 7, 1, 2, 3, 4, 5, 1, 2, 3, 4, 5, 7, 1, 2, 3, 4, 5, 6, 1, 2, 3, 4, 5, 1, 2, 3, 4, 5, 1, 2, 3, 4, 6, 1, 2, 3, 4, 5, 1, 2, 3, 4, 5, 6, 7, 1, 2, 3, 4, 5, 7, 1, 2, 3, 4, 5, 1, 2, 3, 4, 5, 7, 1, 2, 3, 4, 5, 1, 2, 3, 4, 5, 1, 2, 3, 4, 5, 1, 2, 3, 4, 1, 2, 3, 4, 5, 1, 2, 3, 4, 5, 1, 2, 3, 4, 5, 1, 2, 3, 4, 5, 1, 2, 3, 4, 5, 1, 2, 3, 4, 7, 1, 2, 3, 4, 5, 1, 2, 3, 4, 5, 6, 1, 2, 3, 4, 5, 1, 2, 3, 4, 5, 1, 2, 3, 4, 5, 1, 2, 3, 4, 5, 1, 2, 3, 4, 5, 7, 1, 2, 3, 4, 5], \"Freq\": [0.184544175863266, 0.184544175863266, 0.184544175863266, 0.184544175863266, 0.184544175863266, 0.369088351726532, 0.2213994562625885, 0.5205879211425781, 0.08377277106046677, 0.1615617722272873, 0.011967538855969906, 0.2832677364349365, 0.033325616270303726, 0.6165239214897156, 0.033325616270303726, 0.016662808135151863, 0.016662808135151863, 0.016662808135151863, 0.13299031555652618, 0.4876311719417572, 0.08866021037101746, 0.08866021037101746, 0.04433010518550873, 0.08866021037101746, 0.024051079526543617, 0.216459721326828, 0.024051079526543617, 0.024051079526543617, 0.72153240442276, 0.8832144141197205, 0.031543370336294174, 0.031543370336294174, 0.031543370336294174, 0.031543370336294174, 0.15305833518505096, 0.15305833518505096, 0.15305833518505096, 0.15305833518505096, 0.15305833518505096, 0.30611667037010193, 0.9291934967041016, 0.01935819908976555, 0.01935819908976555, 0.01935819908976555, 0.01935819908976555, 0.003251144662499428, 0.98509681224823, 0.003251144662499428, 0.003251144662499428, 0.006502289324998856, 0.3877459764480591, 0.07754919677972794, 0.07754919677972794, 0.07754919677972794, 0.3877459764480591, 0.2408948838710785, 0.3169669508934021, 0.38669970631599426, 0.008452452719211578, 0.04437537491321564, 0.18369360268115997, 0.18369360268115997, 0.18369360268115997, 0.18369360268115997, 0.36738720536231995, 0.04484979435801506, 0.13454937934875488, 0.04484979435801506, 0.04484979435801506, 0.717596709728241, 0.3980252742767334, 0.14925947785377502, 0.12438289821147919, 0.049753159284591675, 0.24876579642295837, 0.17247307300567627, 0.22175109386444092, 0.5790167450904846, 0.012319505214691162, 0.012319505214691162, 0.1408599317073822, 0.1408599317073822, 0.1408599317073822, 0.1408599317073822, 0.4225797653198242, 0.8112859129905701, 0.05408572778105736, 0.05408572778105736, 0.05408572778105736, 0.8017340898513794, 0.004357250407338142, 0.1742900162935257, 0.004357250407338142, 0.008714500814676285, 0.004357250407338142, 0.004357250407338142, 0.022563258185982704, 0.9250935912132263, 0.022563258185982704, 0.022563258185982704, 0.022563258185982704, 0.17577682435512543, 0.08788841217756271, 0.35155364871025085, 0.08788841217756271, 0.08788841217756271, 0.17577682435512543, 0.049320291727781296, 0.24660144746303558, 0.049320291727781296, 0.049320291727781296, 0.5918434858322144, 0.049320291727781296, 0.10402851551771164, 0.10402851551771164, 0.20805703103542328, 0.10402851551771164, 0.41611406207084656, 0.05548699200153351, 0.05548699200153351, 0.05548699200153351, 0.05548699200153351, 0.7768179178237915, 0.07805041968822479, 0.07805041968822479, 0.07805041968822479, 0.7024537920951843, 0.07805041968822479, 0.14446628093719482, 0.07223314046859741, 0.07223314046859741, 0.6500982642173767, 0.12889504432678223, 0.12889504432678223, 0.12889504432678223, 0.12889504432678223, 0.38668516278266907, 0.03201141580939293, 0.008002853952348232, 0.6962482929229736, 0.25609132647514343, 0.008002853952348232, 0.07164811342954636, 0.2865924537181854, 0.07164811342954636, 0.21494433283805847, 0.1432962268590927, 0.21494433283805847, 0.04592849314212799, 0.872641384601593, 0.04592849314212799, 0.04592849314212799, 0.04592849314212799, 0.1076703891158104, 0.15171736478805542, 0.690069317817688, 0.03915286809206009, 0.004894108511507511, 0.20006439089775085, 0.20006439089775085, 0.20006439089775085, 0.20006439089775085, 0.20006439089775085, 0.07085821777582169, 0.07085821777582169, 0.637723982334137, 0.14171643555164337, 0.07085821777582169, 0.012753450311720371, 0.003188362577930093, 0.16260649263858795, 0.8130324482917786, 0.003188362577930093, 0.003188362577930093, 0.849881112575531, 0.06249125674366951, 0.04999300464987755, 0.024996502324938774, 0.012498251162469387, 0.2960559129714966, 0.05921117961406708, 0.35526707768440247, 0.05921117961406708, 0.05921117961406708, 0.17763353884220123, 0.7021980881690979, 0.05851650610566139, 0.05851650610566139, 0.05851650610566139, 0.05851650610566139, 0.11703301221132278, 0.04962221533060074, 0.04962221533060074, 0.04962221533060074, 0.7443332672119141, 0.09924443066120148, 0.019460633397102356, 0.9341104030609131, 0.019460633397102356, 0.019460633397102356, 0.019460633397102356, 0.15992309153079987, 0.07996154576539993, 0.07996154576539993, 0.07996154576539993, 0.07996154576539993, 0.5597308278083801, 0.05131705105304718, 0.1453983038663864, 0.7184386849403381, 0.07697557657957077, 0.00855284184217453, 0.08664941787719727, 0.5892160534858704, 0.017329882830381393, 0.017329882830381393, 0.2772781252861023, 0.27632537484169006, 0.47493425011634827, 0.060446176677942276, 0.008635167963802814, 0.17270337045192719, 0.008635167963802814, 0.21789391338825226, 0.054473478347063065, 0.054473478347063065, 0.653681755065918, 0.054473478347063065, 0.03054145537316799, 0.03054145537316799, 0.33595600724220276, 0.03054145537316799, 0.03054145537316799, 0.5802876353263855, 0.6388403177261353, 0.009126290678977966, 0.0547577403485775, 0.273788720369339, 0.009126290678977966, 0.009126290678977966, 0.22298751771450043, 0.014865834265947342, 0.07432916760444641, 0.6689625382423401, 0.014865834265947342, 0.8854160308837891, 0.030531587079167366, 0.030531587079167366, 0.030531587079167366, 0.030531587079167366, 0.5614547729492188, 0.03509092330932617, 0.17545463144779205, 0.1403636932373047, 0.03509092330932617, 0.07018184661865234, 0.9703413248062134, 0.008511765860021114, 0.008511765860021114, 0.008511765860021114, 0.008511765860021114, 0.008511765860021114, 0.8019000887870789, 0.1737450212240219, 0.006682500708848238, 0.006682500708848238, 0.006682500708848238, 0.06621255725622177, 0.1986376792192459, 0.06621255725622177, 0.3972753584384918, 0.06621255725622177, 0.1986376792192459, 0.08661143481731415, 0.08661143481731415, 0.6062800884246826, 0.08661143481731415, 0.08661143481731415, 0.3766520321369171, 0.21522973477840424, 0.16142229735851288, 0.17935810983181, 0.01793581061065197, 0.03587162122130394, 0.10960020124912262, 0.10960020124912262, 0.6576011776924133, 0.10960020124912262, 0.10960020124912262, 0.08056765794754028, 0.04028382897377014, 0.08056765794754028, 0.7251089215278625, 0.04028382897377014, 0.1431429535150528, 0.1431429535150528, 0.1431429535150528, 0.1431429535150528, 0.4294288754463196, 0.06939058005809784, 0.03469529002904892, 0.6939058303833008, 0.10408587008714676, 0.03469529002904892, 0.03469529002904892, 0.14907753467559814, 0.14907753467559814, 0.14907753467559814, 0.14907753467559814, 0.44723260402679443, 0.1417263150215149, 0.1417263150215149, 0.1417263150215149, 0.1417263150215149, 0.5669052600860596, 0.039171986281871796, 0.35254788398742676, 0.31337589025497437, 0.039171986281871796, 0.07834397256374359, 0.15668794512748718, 0.01884116791188717, 0.01884116791188717, 0.01884116791188717, 0.9043760895729065, 0.01884116791188717, 0.14236262440681458, 0.14236262440681458, 0.28472524881362915, 0.14236262440681458, 0.28472524881362915, 0.038936760276556015, 0.07787352055311203, 0.7787352204322815, 0.038936760276556015, 0.038936760276556015, 0.04033426195383072, 0.04033426195383072, 0.04033426195383072, 0.8470194935798645, 0.18125587701797485, 0.18125587701797485, 0.18125587701797485, 0.18125587701797485, 0.3625117540359497, 0.12725357711315155, 0.12725357711315155, 0.38176074624061584, 0.12725357711315155, 0.12725357711315155, 0.2545071542263031, 0.9049678444862366, 0.01311547588557005, 0.06557738035917282, 0.006557737942785025, 0.006557737942785025, 0.18913768231868744, 0.18913768231868744, 0.18913768231868744, 0.18913768231868744, 0.3782753646373749, 0.1017555445432663, 0.3391851484775543, 0.3476647734642029, 0.18655182421207428, 0.008479628711938858, 0.4450909197330475, 0.22254545986652374, 0.19472727179527283, 0.027818182483315468, 0.027818182483315468, 0.027818182483315468, 0.055636364966630936, 0.20006439089775085, 0.20006439089775085, 0.20006439089775085, 0.20006439089775085, 0.20006439089775085, 0.006386350374668837, 0.30654481053352356, 0.3480561077594757, 0.04470445215702057, 0.2905789315700531, 0.04911211133003235, 0.04911211133003235, 0.5402332544326782, 0.04911211133003235, 0.04911211133003235, 0.04911211133003235, 0.24556055665016174, 0.05626719444990158, 0.16880159080028534, 0.6752063632011414, 0.05626719444990158, 0.05626719444990158, 0.05626719444990158, 0.061500370502471924, 0.43050259351730347, 0.061500370502471924, 0.061500370502471924, 0.43050259351730347, 0.009624588303267956, 0.943209707736969, 0.009624588303267956, 0.009624588303267956, 0.028873765841126442, 0.3102962374687195, 0.015514811500906944, 0.5119887590408325, 0.12411849200725555, 0.03102962300181389, 0.9266477227210999, 0.023166192695498466, 0.023166192695498466, 0.023166192695498466, 0.023166192695498466, 0.08291605859994888, 0.08291605859994888, 0.08291605859994888, 0.6633284687995911, 0.08291605859994888, 0.0177967119961977, 0.12457698583602905, 0.0711868479847908, 0.5339013338088989, 0.23135726153850555, 0.0177967119961977, 0.7329224944114685, 0.13857077062129974, 0.00834763702005148, 0.10851927846670151, 0.005008582025766373, 0.0016695273807272315, 0.003339054761454463, 0.1954500675201416, 0.1954500675201416, 0.1954500675201416, 0.1954500675201416, 0.1954500675201416, 0.1954500675201416, 0.08579959720373154, 0.08579959720373154, 0.08579959720373154, 0.6863967776298523, 0.08579959720373154, 0.002299879677593708, 0.9084524512290955, 0.002299879677593708, 0.002299879677593708, 0.08509554713964462, 0.9137986898422241, 0.028556209057569504, 0.028556209057569504, 0.028556209057569504, 0.028556209057569504, 0.1747211217880249, 0.1747211217880249, 0.1747211217880249, 0.1747211217880249, 0.1747211217880249, 0.3494422435760498, 0.06431891769170761, 0.32159459590911865, 0.06431891769170761, 0.25727567076683044, 0.06431891769170761, 0.25727567076683044, 0.14296945929527283, 0.028593892231583595, 0.7720350623130798, 0.028593892231583595, 0.028593892231583595, 0.1403982937335968, 0.1403982937335968, 0.1403982937335968, 0.1403982937335968, 0.4211948812007904, 0.11537901312112808, 0.34613704681396484, 0.11537901312112808, 0.11537901312112808, 0.11537901312112808, 0.23075802624225616, 0.16889862716197968, 0.16889862716197968, 0.16889862716197968, 0.16889862716197968, 0.16889862716197968, 0.33779725432395935, 0.07580447196960449, 0.037902235984802246, 0.6064357757568359, 0.11370670050382614, 0.15160894393920898, 0.0359453447163105, 0.0359453447163105, 0.071890689432621, 0.826742947101593, 0.0359453447163105, 0.17275215685367584, 0.04318803921341896, 0.6910086274147034, 0.08637607842683792, 0.04318803921341896, 0.17600733041763306, 0.2640109956264496, 0.058669108897447586, 0.29334554076194763, 0.029334554448723793, 0.14667277038097382, 0.13679231703281403, 0.13679231703281403, 0.13679231703281403, 0.13679231703281403, 0.4103769361972809, 0.06024640426039696, 0.7982648611068726, 0.00753080053254962, 0.00753080053254962, 0.1054312065243721, 0.01506160106509924, 0.20183363556861877, 0.20183363556861877, 0.20183363556861877, 0.20183363556861877, 0.20183363556861877, 0.3480841815471649, 0.3705412447452545, 0.10667096078395844, 0.10105670243501663, 0.06737112998962402, 0.005614261142909527, 0.6762285232543945, 0.0031019658781588078, 0.2512592375278473, 0.06514128297567368, 0.0031019658781588078, 0.0031019658781588078, 0.1317160427570343, 0.02195267379283905, 0.02195267379283905, 0.7902962565422058, 0.02195267379283905, 0.15883658826351166, 0.15883658826351166, 0.15883658826351166, 0.15883658826351166, 0.15883658826351166, 0.3176731765270233, 0.13319841027259827, 0.13319841027259827, 0.13319841027259827, 0.26639682054519653, 0.26639682054519653, 0.3416048586368561, 0.1983512043952942, 0.4187414348125458, 0.022039024159312248, 0.011019512079656124, 0.04473724588751793, 0.04473724588751793, 0.08947449177503586, 0.022368622943758965, 0.8052704334259033, 0.19878071546554565, 0.6211897134780884, 0.049695178866386414, 0.01656505838036537, 0.09939035773277283, 0.008282529190182686, 0.06232486665248871, 0.12464973330497742, 0.24929946660995483, 0.06232486665248871, 0.06232486665248871, 0.43627408146858215, 0.8657262921333313, 0.006843686103820801, 0.11634266376495361, 0.0034218430519104004, 0.0034218430519104004, 0.0034218430519104004, 0.33728912472724915, 0.11242970824241638, 0.11242970824241638, 0.11242970824241638, 0.11242970824241638, 0.11242970824241638, 0.33728912472724915, 0.8474979400634766, 0.09873762726783752, 0.04114067554473877, 0.004114067647606134, 0.004114067647606134, 0.09428748488426208, 0.09428748488426208, 0.09428748488426208, 0.6600123643875122, 0.7146925330162048, 0.13663239777088165, 0.021020367741584778, 0.042040735483169556, 0.08197943866252899, 0.004204073455184698, 0.20183363556861877, 0.20183363556861877, 0.20183363556861877, 0.20183363556861877, 0.20183363556861877, 0.11568956077098846, 0.11568956077098846, 0.6478615403175354, 0.011568956077098846, 0.09255164861679077, 0.8586593270301819, 0.037333011627197266, 0.037333011627197266, 0.037333011627197266, 0.037333011627197266, 0.9247530698776245, 0.014449266716837883, 0.028898533433675766, 0.014449266716837883, 0.014449266716837883, 0.0778488740324974, 0.1556977480649948, 0.7006398439407349, 0.0389244370162487, 0.0389244370162487, 0.0389244370162487, 0.9588102698326111, 0.010773148387670517, 0.010773148387670517, 0.010773148387670517, 0.010773148387670517, 0.6146441102027893, 0.20896150171756744, 0.055956218391656876, 0.0069945272989571095, 0.11278675496578217, 0.0017486318247392774, 0.0008743159123696387, 0.2170415222644806, 0.2170415222644806, 0.2170415222644806, 0.2170415222644806, 0.2170415222644806, 0.014521202072501183, 0.24686042964458466, 0.21781803667545319, 0.47919967770576477, 0.014521202072501183, 0.7463083863258362, 0.11609241366386414, 0.03316926211118698, 0.09121546894311905, 0.008292315527796745, 0.45545142889022827, 0.14232856035232544, 0.170794278383255, 0.11386285722255707, 0.028465714305639267, 0.0853971391916275, 0.7970373034477234, 0.013066185638308525, 0.16986040771007538, 0.013066185638308525, 0.013066185638308525, 0.12709443271160126, 0.12709443271160126, 0.38128331303596497, 0.12709443271160126, 0.12709443271160126, 0.2541888654232025, 0.04952698573470116, 0.84195876121521, 0.04952698573470116, 0.04952698573470116, 0.04952698573470116, 0.10827218741178513, 0.4330887496471405, 0.02706804685294628, 0.02706804685294628, 0.40602073073387146, 0.20601902902126312, 0.20601902902126312, 0.20601902902126312, 0.20601902902126312, 0.20601902902126312, 0.005693669896572828, 0.37008851766586304, 0.142341747879982, 0.005693669896572828, 0.4725745916366577, 0.12084975838661194, 0.24169951677322388, 0.12084975838661194, 0.12084975838661194, 0.12084975838661194, 0.3625492751598358, 0.009490305557847023, 0.9585208892822266, 0.009490305557847023, 0.009490305557847023, 0.009490305557847023, 0.018894223496317863, 0.7935574054718018, 0.018894223496317863, 0.018894223496317863, 0.1511537879705429, 0.02099769376218319, 0.9238985180854797, 0.02099769376218319, 0.02099769376218319, 0.02099769376218319, 0.3673434555530548, 0.12244781851768494, 0.12244781851768494, 0.12244781851768494, 0.12244781851768494, 0.24489563703536987, 0.18717290461063385, 0.18717290461063385, 0.18717290461063385, 0.18717290461063385, 0.3743458092212677, 0.3658263087272644, 0.052260901778936386, 0.3658263087272644, 0.052260901778936386, 0.052260901778936386, 0.10452180355787277, 0.06749317049980164, 0.43870559334754944, 0.13498634099960327, 0.03374658524990082, 0.3374658226966858, 0.1323074847459793, 0.1323074847459793, 0.1323074847459793, 0.1323074847459793, 0.5292299389839172, 0.05362005531787872, 0.05362005531787872, 0.2144802212715149, 0.05362005531787872, 0.05362005531787872, 0.5362005829811096, 0.10724011063575745, 0.07712289690971375, 0.23136869072914124, 0.1542457938194275, 0.07712289690971375, 0.46273738145828247, 0.44930630922317505, 0.010448983870446682, 0.4911022484302521, 0.010448983870446682, 0.020897967740893364, 0.010448983870446682, 0.19460991024971008, 0.09730495512485504, 0.29191485047340393, 0.09730495512485504, 0.09730495512485504, 0.19460991024971008, 0.8265495896339417, 0.023615702986717224, 0.035423554480075836, 0.011807851493358612, 0.011807851493358612, 0.08265496045351028, 0.011807851493358612, 0.10586606711149216, 0.10586606711149216, 0.10586606711149216, 0.10586606711149216, 0.5293303728103638, 0.2170415222644806, 0.2170415222644806, 0.2170415222644806, 0.2170415222644806, 0.2170415222644806, 0.2170415222644806, 0.2170415222644806, 0.2170415222644806, 0.2170415222644806, 0.2170415222644806, 0.02206575684249401, 0.26478907465934753, 0.19859181344509125, 0.011032878421247005, 0.15446029603481293, 0.3420192301273346, 0.02287648245692253, 0.8921828269958496, 0.02287648245692253, 0.02287648245692253, 0.04575296491384506, 0.06197138875722885, 0.06197138875722885, 0.06197138875722885, 0.8056280612945557, 0.06714467704296112, 0.06714467704296112, 0.6714468002319336, 0.20143403112888336, 0.06714467704296112, 0.9832565188407898, 0.005995466373860836, 0.002997733186930418, 0.002997733186930418, 0.002997733186930418, 0.002997733186930418, 0.2441951483488083, 0.0025174757465720177, 0.29202717542648315, 0.45818057656288147, 0.0025174757465720177, 0.019933834671974182, 0.9368902444839478, 0.019933834671974182, 0.019933834671974182, 0.019933834671974182, 0.1324245035648346, 0.1324245035648346, 0.1324245035648346, 0.1324245035648346, 0.5296980142593384, 0.20310716331005096, 0.014507654123008251, 0.18859951198101044, 0.5512908697128296, 0.014507654123008251, 0.029015308246016502, 0.12382888048887253, 0.061914440244436264, 0.6810588240623474, 0.061914440244436264, 0.061914440244436264, 0.03426755592226982, 0.13707022368907928, 0.20560534298419952, 0.5825484395027161, 0.03426755592226982, 0.019421959295868874, 0.06797686219215393, 0.8642772436141968, 0.03884391859173775, 0.009710979647934437, 0.004318900406360626, 0.5571381449699402, 0.017275601625442505, 0.4102955460548401, 0.008637800812721252, 0.043679703027009964, 0.043679703027009964, 0.043679703027009964, 0.8299143314361572, 0.043679703027009964, 0.024442408233880997, 0.9043691158294678, 0.024442408233880997, 0.024442408233880997, 0.024442408233880997, 0.0260989461094141, 0.861265242099762, 0.0260989461094141, 0.07829684019088745, 0.0260989461094141, 0.5503383874893188, 0.1632872074842453, 0.23585930466651917, 0.030238373205065727, 0.012095348909497261, 0.08861204236745834, 0.08861204236745834, 0.08861204236745834, 0.7088963389396667, 0.05865258350968361, 0.05865258350968361, 0.13406305015087128, 0.13406305015087128, 0.008378940634429455, 0.5949047803878784, 0.6806221008300781, 0.26220688223838806, 0.014876985922455788, 0.0390520878136158, 0.0018596232403069735, 0.0018596232403069735, 0.18935123085975647, 0.18935123085975647, 0.18935123085975647, 0.18935123085975647, 0.18935123085975647, 0.37870246171951294, 0.031228691339492798, 0.9056320190429688, 0.031228691339492798, 0.031228691339492798, 0.031228691339492798, 0.02836650423705578, 0.02836650423705578, 0.9077281355857849, 0.02836650423705578, 0.058734145015478134, 0.058734145015478134, 0.23493658006191254, 0.11746829003095627, 0.4698731601238251, 0.058734145015478134, 0.17276448011398315, 0.17276448011398315, 0.17276448011398315, 0.17276448011398315, 0.3455289602279663, 0.15885771811008453, 0.15885771811008453, 0.15885771811008453, 0.15885771811008453, 0.15885771811008453, 0.4765731692314148, 0.026515671983361244, 0.21212537586688995, 0.5568290948867798, 0.026515671983361244, 0.026515671983361244, 0.13257835805416107, 0.5418912172317505, 0.04926283657550812, 0.19705134630203247, 0.02463141828775406, 0.02463141828775406, 0.17241992056369781, 0.05904620885848999, 0.05904620885848999, 0.8266469240188599, 0.05904620885848999, 0.05904620885848999, 0.12034767121076584, 0.12034767121076584, 0.12034767121076584, 0.12034767121076584, 0.48139068484306335, 0.12840186059474945, 0.2568037211894989, 0.12840186059474945, 0.12840186059474945, 0.06420093029737473, 0.3210046589374542, 0.06420093029737473, 0.01500973105430603, 0.01500973105430603, 0.03001946210861206, 0.8855741620063782, 0.01500973105430603, 0.03001946210861206, 0.01500973105430603, 0.08812423050403595, 0.0293747428804636, 0.6756191253662109, 0.1174989715218544, 0.0146873714402318, 0.07343685626983643, 0.045522429049015045, 0.8194037079811096, 0.045522429049015045, 0.045522429049015045, 0.045522429049015045, 0.48099908232688904, 0.057719890028238297, 0.42327919602394104, 0.009619981981813908, 0.009619981981813908, 0.009619981981813908, 0.009619981981813908, 0.14702646434307098, 0.34110140800476074, 0.2470044642686844, 0.21759916841983795, 0.04704846814274788, 0.003302838886156678, 0.9049778580665588, 0.06935961544513702, 0.003302838886156678, 0.016514195129275322, 0.17020153999328613, 0.17020153999328613, 0.17020153999328613, 0.17020153999328613, 0.17020153999328613, 0.17020153999328613, 0.7418947815895081, 0.02472982555627823, 0.02472982555627823, 0.12364913523197174, 0.02472982555627823, 0.07418947666883469, 0.5665097832679749, 0.042755454778671265, 0.1923995465040207, 0.05344431847333908, 0.14964409172534943, 0.144095316529274, 0.0480317696928978, 0.43228593468666077, 0.0480317696928978, 0.0480317696928978, 0.288190633058548, 0.05333065241575241, 0.15999196469783783, 0.6399678587913513, 0.05333065241575241, 0.05333065241575241, 0.28951123356819153, 0.2488780915737152, 0.20316578447818756, 0.2488780915737152, 0.005079144611954689, 0.0182772446423769, 0.93213951587677, 0.0182772446423769, 0.0182772446423769, 0.0182772446423769, 0.07270112633705139, 0.07270112633705139, 0.6906607151031494, 0.07270112633705139, 0.036350563168525696, 0.13760000467300415, 0.13760000467300415, 0.13760000467300415, 0.13760000467300415, 0.5504000186920166, 0.5129268169403076, 0.18765614926815033, 0.13761450350284576, 0.037531230598688126, 0.11259368807077408, 0.006255204789340496, 0.03455265238881111, 0.10365795344114304, 0.17276325821876526, 0.621947705745697, 0.03455265238881111, 0.06805940717458725, 0.06805940717458725, 0.06805940717458725, 0.7486534714698792, 0.026186155155301094, 0.026186155155301094, 0.026186155155301094, 0.9165154695510864, 0.9737781286239624, 0.006323234643787146, 0.009484851732850075, 0.009484851732850075, 0.003161617321893573, 0.06421208381652832, 0.021404026076197624, 0.8133530020713806, 0.021404026076197624, 0.06421208381652832, 0.021404026076197624, 0.10106736421585083, 0.10106736421585083, 0.10106736421585083, 0.20213472843170166, 0.4042694568634033, 0.017104018479585648, 0.017104018479585648, 0.22235223650932312, 0.7354727983474731, 0.017104018479585648, 0.06781463325023651, 0.40688779950141907, 0.27125853300094604, 0.06781463325023651, 0.06781463325023651, 0.13562926650047302, 0.053481992334127426, 0.053481992334127426, 0.053481992334127426, 0.8022299408912659, 0.02138197049498558, 0.02138197049498558, 0.02138197049498558, 0.9194247126579285, 0.02138197049498558, 0.849186897277832, 0.07278744876384735, 0.024262482300400734, 0.024262482300400734, 0.024262482300400734, 0.9347526431083679, 0.019474012777209282, 0.019474012777209282, 0.019474012777209282, 0.019474012777209282, 0.04061935469508171, 0.04061935469508171, 0.28433549404144287, 0.08123870939016342, 0.4874322712421417, 0.7470129132270813, 0.08044754713773727, 0.05171627923846245, 0.09768630564212799, 0.017238760367035866, 0.010819009505212307, 0.33538931608200073, 0.3029322624206543, 0.09737108647823334, 0.2380182147026062, 0.19899950921535492, 0.19899950921535492, 0.19899950921535492, 0.19899950921535492, 0.19899950921535492, 0.030345851555466652, 0.060691703110933304, 0.7889921069145203, 0.030345851555466652, 0.060691703110933304, 0.030345851555466652, 0.40618857741355896, 0.36645272374153137, 0.22075465321540833, 0.0044150929898023605, 0.0044150929898023605, 0.0044150929898023605, 0.8250514268875122, 0.05500342696905136, 0.02750171348452568, 0.05500342696905136, 0.02750171348452568, 0.8370199799537659, 0.04650110751390457, 0.04650110751390457, 0.04650110751390457, 0.04650110751390457, 0.020526908338069916, 0.7389687299728394, 0.04105381667613983, 0.14368836581707, 0.020526908338069916, 0.17715300619602203, 0.17715300619602203, 0.17715300619602203, 0.17715300619602203, 0.17715300619602203, 0.35430601239204407, 0.8898740410804749, 0.005596692208200693, 0.06156361475586891, 0.022386768832802773, 0.016790077090263367, 0.15967389941215515, 0.1824844479560852, 0.6044797301292419, 0.011405277997255325, 0.02281055599451065, 0.011405277997255325, 0.5791987180709839, 0.07394026219844818, 0.1725272685289383, 0.09858701378107071, 0.049293506890535355, 0.03697013109922409, 0.47397440671920776, 0.20351442694664001, 0.005355642642825842, 0.002677821321412921, 0.310627281665802, 0.21576201915740967, 0.21576201915740967, 0.21576201915740967, 0.21576201915740967, 0.21576201915740967, 0.15810240805149078, 0.23715361952781677, 0.07905120402574539, 0.07905120402574539, 0.07905120402574539, 0.39525604248046875, 0.040109798312187195, 0.040109798312187195, 0.040109798312187195, 0.8824155330657959, 0.040109798312187195, 0.5127999186515808, 0.4294699430465698, 0.02563999779522419, 0.01922999881207943, 0.012819998897612095, 0.013854590244591236, 0.8728391528129578, 0.013854590244591236, 0.027709180489182472, 0.055418360978364944, 0.18430380523204803, 0.2948860824108124, 0.22116456925868988, 0.11058228462934494, 0.11058228462934494, 0.11058228462934494, 0.008003276772797108, 0.008003276772797108, 0.024009831249713898, 0.9523900151252747, 0.008003276772797108, 0.014074696227908134, 0.014074696227908134, 0.02814939245581627, 0.9430046081542969, 0.014074696227908134, 0.23142488300800323, 0.013613227754831314, 0.21781164407730103, 0.5173026919364929, 0.013613227754831314, 0.013613227754831314, 0.023213334381580353, 0.9285333752632141, 0.023213334381580353, 0.023213334381580353, 0.023213334381580353, 0.12402893602848053, 0.12402893602848053, 0.12402893602848053, 0.12402893602848053, 0.12402893602848053, 0.4961157441139221, 0.09560726583003998, 0.19121453166007996, 0.09560726583003998, 0.09560726583003998, 0.4780363142490387, 0.2783696949481964, 0.15658295154571533, 0.2783696949481964, 0.2087772637605667, 0.03479621186852455, 0.03479621186852455, 0.011834620498120785, 0.8994311690330505, 0.011834620498120785, 0.0591731034219265, 0.011834620498120785, 0.1323557049036026, 0.1323557049036026, 0.1323557049036026, 0.1323557049036026, 0.5294228196144104, 0.26723775267601013, 0.1547165960073471, 0.36569374799728394, 0.014065144583582878, 0.16878174245357513, 0.055977702140808105, 0.22391080856323242, 0.055977702140808105, 0.055977702140808105, 0.559777021408081, 0.19418901205062866, 0.19418901205062866, 0.19418901205062866, 0.19418901205062866, 0.19418901205062866, 0.09702402353286743, 0.09702402353286743, 0.09702402353286743, 0.09702402353286743, 0.19404804706573486, 0.48512011766433716, 0.1626676619052887, 0.241196870803833, 0.3758183717727661, 0.17108149826526642, 0.039264608174562454, 0.0028046148363500834, 0.008413844741880894, 0.20183363556861877, 0.20183363556861877, 0.20183363556861877, 0.20183363556861877, 0.20183363556861877, 0.05909537896513939, 0.05909537896513939, 0.11819075793027878, 0.05909537896513939, 0.05909537896513939, 0.6500491499900818, 0.030893899500370026, 0.5560901761054993, 0.030893899500370026, 0.030893899500370026, 0.3707267940044403, 0.16864052414894104, 0.16864052414894104, 0.16864052414894104, 0.16864052414894104, 0.3372810482978821, 0.023446764796972275, 0.023446764796972275, 0.7737432718276978, 0.023446764796972275, 0.14068059623241425, 0.4211682677268982, 0.34684446454048157, 0.04954920709133148, 0.02477460354566574, 0.09909841418266296, 0.07432381063699722, 0.0036428868770599365, 0.9107217192649841, 0.0400717556476593, 0.0036428868770599365, 0.0400717556476593, 0.20601892471313477, 0.20601892471313477, 0.20601892471313477, 0.20601892471313477, 0.20601892471313477, 0.16606132686138153, 0.16606132686138153, 0.16606132686138153, 0.16606132686138153, 0.4981839954853058, 0.19200366735458374, 0.1440027505159378, 0.33600643277168274, 0.048000916838645935, 0.048000916838645935, 0.24000458419322968, 0.49509161710739136, 0.023859838023781776, 0.178948774933815, 0.2803530991077423, 0.005964959505945444, 0.011929919011890888, 0.12032996118068695, 0.12032996118068695, 0.12032996118068695, 0.12032996118068695, 0.4813198447227478, 0.3150220513343811, 0.14226803183555603, 0.09145801514387131, 0.43696609139442444, 0.010162001475691795, 0.009612751193344593, 0.4710248112678528, 0.009612751193344593, 0.009612751193344593, 0.509475827217102, 0.9210746884346008, 0.05418086424469948, 0.012040192261338234, 0.006020096130669117, 0.006020096130669117, 0.03289496898651123, 0.888164222240448, 0.03289496898651123, 0.03289496898651123, 0.03289496898651123, 0.004350426606833935, 0.9657947421073914, 0.01740170642733574, 0.004350426606833935, 0.004350426606833935, 0.0062913899309933186, 0.9059601426124573, 0.04403972998261452, 0.031456951051950455, 0.0062913899309933186, 0.0062913899309933186, 0.8432313203811646, 0.0401538722217083, 0.0401538722217083, 0.0401538722217083, 0.0401538722217083, 0.16823557019233704, 0.16823557019233704, 0.16823557019233704, 0.16823557019233704, 0.16823557019233704, 0.16823557019233704, 0.13689753413200378, 0.13689753413200378, 0.13689753413200378, 0.13689753413200378, 0.13689753413200378, 0.13689753413200378, 0.41069260239601135, 0.18033356964588165, 0.18033356964588165, 0.18033356964588165, 0.18033356964588165, 0.3606671392917633, 0.2062852382659912, 0.2062852382659912, 0.2062852382659912, 0.2062852382659912, 0.2062852382659912, 0.2774396538734436, 0.1387198269367218, 0.1387198269367218, 0.1387198269367218, 0.1387198269367218, 0.2774396538734436, 0.9022857546806335, 0.0187976211309433, 0.0187976211309433, 0.0375952422618866, 0.0187976211309433, 0.0187976211309433, 0.033348992466926575, 0.011116330511868, 0.9337717890739441, 0.011116330511868, 0.011116330511868, 0.05471911281347275, 0.5471911430358887, 0.05471911281347275, 0.1094382256269455, 0.05471911281347275, 0.16415733098983765, 0.07012256234884262, 0.07012256234884262, 0.7012255787849426, 0.07012256234884262, 0.07012256234884262, 0.09048181027173996, 0.09048181027173996, 0.09048181027173996, 0.6333726644515991, 0.09048181027173996, 0.08976664394140244, 0.08976664394140244, 0.08976664394140244, 0.7181331515312195, 0.187871053814888, 0.187871053814888, 0.187871053814888, 0.187871053814888, 0.187871053814888, 0.187871053814888, 0.08605854213237762, 0.08605854213237762, 0.688468337059021, 0.08605854213237762, 0.08605854213237762, 0.7101167440414429, 0.04734111577272415, 0.04734111577272415, 0.04734111577272415, 0.04734111577272415, 0.14202335476875305, 0.9235641956329346, 0.0009742238325998187, 0.07209256291389465, 0.0019484476651996374, 0.0009742238325998187, 0.0009742238325998187, 0.07728897780179977, 0.07728897780179977, 0.6956008076667786, 0.07728897780179977, 0.031025253236293793, 0.8376818299293518, 0.031025253236293793, 0.031025253236293793, 0.031025253236293793, 0.013214068487286568, 0.9514129757881165, 0.013214068487286568, 0.013214068487286568, 0.013214068487286568, 0.1512259989976883, 0.1512259989976883, 0.18903250992298126, 0.07561299949884415, 0.264645516872406, 0.1512259989976883, 0.16626664996147156, 0.16626664996147156, 0.16626664996147156, 0.16626664996147156, 0.3325332999229431, 0.04535578936338425, 0.0907115787267685, 0.13606737554073334, 0.6803368926048279, 0.04535578936338425, 0.04535578936338425, 0.2130330353975296, 0.5260611772537231, 0.05651896819472313, 0.11303793638944626, 0.060866579413414, 0.017390452325344086, 0.013042839244008064, 0.15497195720672607, 0.05165731906890869, 0.6198878288269043, 0.10331463813781738, 0.05165731906890869, 0.24312740564346313, 0.3473248779773712, 0.06946497410535812, 0.1736624389886856, 0.03473248705267906, 0.10419745743274689, 0.4938258230686188, 0.2385145127773285, 0.18812412023544312, 0.06718718260526657, 0.010078078135848045, 0.003359359223395586, 0.04807538911700249, 0.8172816634178162, 0.04807538911700249, 0.04807538911700249, 0.04807538911700249, 0.8127461075782776, 0.05079663172364235, 0.05079663172364235, 0.05079663172364235, 0.05079663172364235, 0.1795271635055542, 0.1795271635055542, 0.1795271635055542, 0.1795271635055542, 0.3590543270111084, 0.03865298628807068, 0.07730597257614136, 0.6184477806091309, 0.21259142458438873, 0.01932649314403534, 0.6654351949691772, 0.2174624800682068, 0.05509049445390701, 0.040592994540929794, 0.020296497270464897, 0.001449749805033207, 0.001449749805033207, 0.18941879272460938, 0.09470939636230469, 0.03156979754567146, 0.03156979754567146, 0.6313959360122681, 0.03156979754567146, 0.13338932394981384, 0.07410518079996109, 0.6224835515022278, 0.13338932394981384, 0.014821036718785763, 0.14986518025398254, 0.14986518025398254, 0.14986518025398254, 0.14986518025398254, 0.14986518025398254, 0.2997303605079651, 0.18756411969661713, 0.3307051658630371, 0.10858975350856781, 0.009871795773506165, 0.3603205382823944, 0.017152316868305206, 0.7375496029853821, 0.017152316868305206, 0.017152316868305206, 0.20582780241966248, 0.04475260525941849, 0.8502994775772095, 0.04475260525941849, 0.04475260525941849, 0.04475260525941849, 0.023026324808597565, 0.023026324808597565, 0.023026324808597565, 0.9210529923439026, 0.8184344172477722, 0.028221875429153442, 0.11288750171661377, 0.028221875429153442, 0.028221875429153442, 0.09815874695777893, 0.24539686739444733, 0.6257619857788086, 0.012269843369722366, 0.012269843369722366, 0.014881081879138947, 0.9226270318031311, 0.04464324563741684, 0.014881081879138947, 0.014881081879138947, 0.018443703651428223, 0.2582118511199951, 0.22132444381713867, 0.46109259128570557, 0.018443703651428223, 0.036012109369039536, 0.036012109369039536, 0.036012109369039536, 0.8642905950546265, 0.036012109369039536, 0.21576201915740967, 0.21576201915740967, 0.21576201915740967, 0.21576201915740967, 0.21576201915740967, 0.04620976373553276, 0.04620976373553276, 0.04620976373553276, 0.8317757844924927, 0.04620976373553276, 0.02454003505408764, 0.83436119556427, 0.02454003505408764, 0.07362011075019836, 0.02454003505408764, 0.02454003505408764, 0.02576979622244835, 0.0515395924448967, 0.5669355392456055, 0.02576979622244835, 0.28346776962280273, 0.30603551864624023, 0.08037296682596207, 0.06800789386034012, 0.006182536017149687, 0.5378805994987488, 0.9549116492271423, 0.00958105269819498, 0.028743159025907516, 0.0031936843879520893, 0.0031936843879520893, 0.8344714641571045, 0.04391954839229584, 0.04391954839229584, 0.04391954839229584, 0.04391954839229584, 0.06603166460990906, 0.26412665843963623, 0.26412665843963623, 0.03301583230495453, 0.3301583230495453, 0.03301583230495453, 0.88299161195755, 0.03839093819260597, 0.03839093819260597, 0.03839093819260597, 0.03839093819260597], \"Term\": [\".easy\", \".easy\", \".easy\", \".easy\", \".easy\", \".easy\", \"able\", \"able\", \"able\", \"able\", \"able\", \"access\", \"access\", \"access\", \"access\", \"access\", \"access\", \"access\", \"add\", \"add\", \"add\", \"add\", \"add\", \"add\", \"addition\", \"addition\", \"addition\", \"addition\", \"addition\", \"adult\", \"adult\", \"adult\", \"adult\", \"adult\", \"advertised\", \"advertised\", \"advertised\", \"advertised\", \"advertised\", \"advertised\", \"age\", \"age\", \"age\", \"age\", \"age\", \"alexa\", \"alexa\", \"alexa\", \"alexa\", \"alexa\", \"alternative\", \"alternative\", \"alternative\", \"alternative\", \"alternative\", \"amazon\", \"amazon\", \"amazon\", \"amazon\", \"amazon\", \"amplitude\", \"amplitude\", \"amplitude\", \"amplitude\", \"amplitude\", \"answer\", \"answer\", \"answer\", \"answer\", \"answer\", \"anyone\", \"anyone\", \"anyone\", \"anyone\", \"anyone\", \"app\", \"app\", \"app\", \"app\", \"app\", \"appointment\", \"appointment\", \"appointment\", \"appointment\", \"appointment\", \"appropriate\", \"appropriate\", \"appropriate\", \"appropriate\", \"apps\", \"apps\", \"apps\", \"apps\", \"apps\", \"apps\", \"apps\", \"ask\", \"ask\", \"ask\", \"ask\", \"ask\", \"assistance\", \"assistance\", \"assistance\", \"assistance\", \"assistance\", \"assistance\", \"assistant\", \"assistant\", \"assistant\", \"assistant\", \"assistant\", \"assistant\", \"associate\", \"associate\", \"associate\", \"associate\", \"associate\", \"automation\", \"automation\", \"automation\", \"automation\", \"automation\", \"avid\", \"avid\", \"avid\", \"avid\", \"avid\", \"bag\", \"bag\", \"bag\", \"bag\", \"basis\", \"basis\", \"basis\", \"basis\", \"basis\", \"battery\", \"battery\", \"battery\", \"battery\", \"battery\", \"bed\", \"bed\", \"bed\", \"bed\", \"bed\", \"bed\", \"bedroom\", \"bedroom\", \"bedroom\", \"bedroom\", \"bedroom\", \"best\", \"best\", \"best\", \"best\", \"best\", \"better/faster\", \"better/faster\", \"better/faster\", \"better/faster\", \"better/faster\", \"biggest\", \"biggest\", \"biggest\", \"biggest\", \"biggest\", \"book\", \"book\", \"book\", \"book\", \"book\", \"book\", \"bought\", \"bought\", \"bought\", \"bought\", \"bought\", \"box\", \"box\", \"box\", \"box\", \"box\", \"box\", \"break\", \"break\", \"break\", \"break\", \"break\", \"break\", \"bright\", \"bright\", \"bright\", \"bright\", \"bright\", \"bulb\", \"bulb\", \"bulb\", \"bulb\", \"bulb\", \"busy\", \"busy\", \"busy\", \"busy\", \"busy\", \"busy\", \"buy\", \"buy\", \"buy\", \"buy\", \"buy\", \"call\", \"call\", \"call\", \"call\", \"call\", \"camera\", \"camera\", \"camera\", \"camera\", \"camera\", \"camera\", \"car\", \"car\", \"car\", \"car\", \"car\", \"card\", \"card\", \"card\", \"card\", \"card\", \"card\", \"case\", \"case\", \"case\", \"case\", \"case\", \"case\", \"charge\", \"charge\", \"charge\", \"charge\", \"charge\", \"charger\", \"charger\", \"charger\", \"charger\", \"charger\", \"cheap\", \"cheap\", \"cheap\", \"cheap\", \"cheap\", \"cheap\", \"child\", \"child\", \"child\", \"child\", \"child\", \"child\", \"christmas\", \"christmas\", \"christmas\", \"christmas\", \"christmas\", \"clarity\", \"clarity\", \"clarity\", \"clarity\", \"clarity\", \"clarity\", \"class\", \"class\", \"class\", \"class\", \"class\", \"clear\", \"clear\", \"clear\", \"clear\", \"clear\", \"clear\", \"code\", \"code\", \"code\", \"code\", \"code\", \"compact\", \"compact\", \"compact\", \"compact\", \"compact\", \"compare\", \"compare\", \"compare\", \"compare\", \"compare\", \"computer\", \"computer\", \"computer\", \"computer\", \"computer\", \"computer\", \"connects\", \"connects\", \"connects\", \"connects\", \"connects\", \"consumer\", \"consumer\", \"consumer\", \"consumer\", \"consumer\", \"couple\", \"couple\", \"couple\", \"couple\", \"couple\", \"couple\", \"cover\", \"cover\", \"cover\", \"cover\", \"cover\", \"credit\", \"credit\", \"credit\", \"credit\", \"credit\", \"customer\", \"customer\", \"customer\", \"customer\", \"customer\", \"dark\", \"dark\", \"dark\", \"dark\", \"darn\", \"darn\", \"darn\", \"darn\", \"darn\", \"data\", \"data\", \"data\", \"data\", \"data\", \"data\", \"daughter\", \"daughter\", \"daughter\", \"daughter\", \"daughter\", \"daughter-in-law\", \"daughter-in-law\", \"daughter-in-law\", \"daughter-in-law\", \"daughter-in-law\", \"day\", \"day\", \"day\", \"day\", \"day\", \"decent\", \"decent\", \"decent\", \"decent\", \"decent\", \"decent\", \"decent\", \"desciples\", \"desciples\", \"desciples\", \"desciples\", \"desciples\", \"device\", \"device\", \"device\", \"device\", \"device\", \"difficult\", \"difficult\", \"difficult\", \"difficult\", \"difficult\", \"difficult\", \"difficult\", \"digital\", \"digital\", \"digital\", \"digital\", \"digital\", \"digital\", \"doorbell\", \"doorbell\", \"doorbell\", \"doorbell\", \"doorbell\", \"dot\", \"dot\", \"dot\", \"dot\", \"dot\", \"download\", \"download\", \"download\", \"download\", \"download\", \"durable\", \"durable\", \"durable\", \"durable\", \"durable\", \"e\", \"e\", \"e\", \"e\", \"e\", \"easier\", \"easier\", \"easier\", \"easier\", \"easier\", \"easier\", \"easy\", \"easy\", \"easy\", \"easy\", \"easy\", \"easy\", \"easy\", \"easy-to-use\", \"easy-to-use\", \"easy-to-use\", \"easy-to-use\", \"easy-to-use\", \"easy-to-use\", \"ebook\", \"ebook\", \"ebook\", \"ebook\", \"ebook\", \"echo\", \"echo\", \"echo\", \"echo\", \"echo\", \"educational\", \"educational\", \"educational\", \"educational\", \"educational\", \"efficient\", \"efficient\", \"efficient\", \"efficient\", \"efficient\", \"efficient\", \"electronic\", \"electronic\", \"electronic\", \"electronic\", \"electronic\", \"electronic\", \"email\", \"email\", \"email\", \"email\", \"email\", \"entertaining\", \"entertaining\", \"entertaining\", \"entertaining\", \"entertaining\", \"equipment\", \"equipment\", \"equipment\", \"equipment\", \"equipment\", \"equipment\", \"evening\", \"evening\", \"evening\", \"evening\", \"evening\", \"evening\", \"experience\", \"experience\", \"experience\", \"experience\", \"experience\", \"eye\", \"eye\", \"eye\", \"eye\", \"eye\", \"facebook\", \"facebook\", \"facebook\", \"facebook\", \"facebook\", \"fact\", \"fact\", \"fact\", \"fact\", \"fact\", \"fact\", \"fair\", \"fair\", \"fair\", \"fair\", \"fair\", \"family\", \"family\", \"family\", \"family\", \"family\", \"family\", \"feachers\", \"feachers\", \"feachers\", \"feachers\", \"feachers\", \"feature\", \"feature\", \"feature\", \"feature\", \"feature\", \"feature\", \"fire\", \"fire\", \"fire\", \"fire\", \"fire\", \"fire\", \"fit\", \"fit\", \"fit\", \"fit\", \"fit\", \"flight\", \"flight\", \"flight\", \"flight\", \"flight\", \"flight\", \"forward\", \"forward\", \"forward\", \"forward\", \"forward\", \"free\", \"free\", \"free\", \"free\", \"free\", \"friend\", \"friend\", \"friend\", \"friend\", \"friend\", \"fun\", \"fun\", \"fun\", \"fun\", \"fun\", \"fun\", \"functionality\", \"functionality\", \"functionality\", \"functionality\", \"functionality\", \"functionality\", \"game\", \"game\", \"game\", \"game\", \"game\", \"game\", \"geek\", \"geek\", \"geek\", \"geek\", \"geek\", \"geek\", \"geek\", \"gift\", \"gift\", \"gift\", \"gift\", \"gift\", \"glare\", \"glare\", \"glare\", \"glare\", \"good\", \"good\", \"good\", \"good\", \"good\", \"good\", \"goodexcellent\", \"goodexcellent\", \"goodexcellent\", \"goodexcellent\", \"goodexcellent\", \"google\", \"google\", \"google\", \"google\", \"google\", \"grand\", \"grand\", \"grand\", \"grand\", \"grand\", \"granddaughter\", \"granddaughter\", \"granddaughter\", \"granddaughter\", \"granddaughter\", \"grandkids\", \"grandkids\", \"grandkids\", \"grandkids\", \"grandkids\", \"grandkids\", \"grandson\", \"grandson\", \"grandson\", \"grandson\", \"grandson\", \"great\", \"great\", \"great\", \"great\", \"great\", \"great\", \"great\", \"great..i\", \"great..i\", \"great..i\", \"great..i\", \"great..i\", \"hand\", \"hand\", \"hand\", \"hand\", \"hand\", \"happy\", \"happy\", \"happy\", \"happy\", \"happy\", \"hard\", \"hard\", \"hard\", \"hard\", \"hard\", \"hard\", \"hd\", \"hd\", \"hd\", \"hd\", \"hd\", \"headphone\", \"headphone\", \"headphone\", \"headphone\", \"headphone\", \"headphone\", \"hear\", \"hear\", \"hear\", \"hear\", \"hear\", \"helpful\", \"helpful\", \"helpful\", \"helpful\", \"helpful\", \"hitch\", \"hitch\", \"hitch\", \"hitch\", \"hitch\", \"home\", \"home\", \"home\", \"home\", \"home\", \"hope\", \"hope\", \"hope\", \"hope\", \"hope\", \"hope\", \"house\", \"house\", \"house\", \"house\", \"house\", \"hub\", \"hub\", \"hub\", \"hub\", \"hub\", \"hue\", \"hue\", \"hue\", \"hue\", \"hue\", \"hulu\", \"hulu\", \"hulu\", \"hulu\", \"hulu\", \"hulu\", \"in-law\", \"in-law\", \"in-law\", \"in-law\", \"in-law\", \"inch\", \"inch\", \"inch\", \"inch\", \"inch\", \"inch\", \"information\", \"information\", \"information\", \"information\", \"information\", \"informative\", \"informative\", \"informative\", \"informative\", \"informative\", \"instruction\", \"instruction\", \"instruction\", \"instruction\", \"instruction\", \"instruction\", \"instruction\", \"integration\", \"integration\", \"integration\", \"integration\", \"integration\", \"internet\", \"internet\", \"internet\", \"internet\", \"internet\", \"internet\", \"intuitive\", \"intuitive\", \"intuitive\", \"intuitive\", \"intuitive\", \"intuitive\", \"ipad\", \"ipad\", \"ipad\", \"ipad\", \"ipad\", \"ipad\", \"ipad\", \"iphone\", \"iphone\", \"iphone\", \"iphone\", \"iphone\", \"it..glad\", \"it..glad\", \"it..glad\", \"it..glad\", \"it..glad\", \"it..my\", \"it..my\", \"it..my\", \"it..my\", \"it..my\", \"item\", \"item\", \"item\", \"item\", \"item\", \"item\", \"it\\u201a\\u00e4\\u00f4s\", \"it\\u201a\\u00e4\\u00f4s\", \"it\\u201a\\u00e4\\u00f4s\", \"it\\u201a\\u00e4\\u00f4s\", \"it\\u201a\\u00e4\\u00f4s\", \"junk\", \"junk\", \"junk\", \"junk\", \"keyboard\", \"keyboard\", \"keyboard\", \"keyboard\", \"keyboard\", \"kid\", \"kid\", \"kid\", \"kid\", \"kid\", \"kid\", \"kindle\", \"kindle\", \"kindle\", \"kindle\", \"kindle\", \"kitchen\", \"kitchen\", \"kitchen\", \"kitchen\", \"kitchen\", \"knowledgeable\", \"knowledgeable\", \"knowledgeable\", \"knowledgeable\", \"knowledgeable\", \"last\", \"last\", \"last\", \"last\", \"last\", \"last\", \"law\", \"law\", \"law\", \"law\", \"law\", \"library\", \"library\", \"library\", \"library\", \"library\", \"life\", \"life\", \"life\", \"life\", \"life\", \"light\", \"light\", \"light\", \"light\", \"light\", \"lightweight\", \"lightweight\", \"lightweight\", \"lightweight\", \"lightweight\", \"list\", \"list\", \"list\", \"list\", \"list\", \"listen\", \"listen\", \"listen\", \"listen\", \"listen\", \"little\", \"little\", \"little\", \"little\", \"little\", \"longer\", \"longer\", \"longer\", \"longer\", \"lot\", \"lot\", \"lot\", \"lot\", \"lot\", \"lot\", \"love\", \"love\", \"love\", \"love\", \"love\", \"love\", \"lucky\", \"lucky\", \"lucky\", \"lucky\", \"lucky\", \"lucky\", \"lyric\", \"lyric\", \"lyric\", \"lyric\", \"lyric\", \"magazine\", \"magazine\", \"magazine\", \"magazine\", \"make\", \"make\", \"make\", \"make\", \"make\", \"make\", \"man\", \"man\", \"man\", \"man\", \"man\", \"manual\", \"manual\", \"manual\", \"manual\", \"manual\", \"manual\", \"member\", \"member\", \"member\", \"member\", \"member\", \"member\", \"memory\", \"memory\", \"memory\", \"memory\", \"memory\", \"memory\", \"menu\", \"menu\", \"menu\", \"menu\", \"menu\", \"mess\", \"mess\", \"mess\", \"mess\", \"mess\", \"mini\", \"mini\", \"mini\", \"mini\", \"mini\", \"mini\", \"mini\", \"model\", \"model\", \"model\", \"model\", \"model\", \"model\", \"model\", \"money\", \"money\", \"money\", \"money\", \"money\", \"money\", \"morning\", \"morning\", \"morning\", \"morning\", \"morning\", \"movie\", \"movie\", \"movie\", \"movie\", \"movie\", \"movie\", \"movie\", \"much\", \"much\", \"much\", \"much\", \"much\", \"music\", \"music\", \"music\", \"music\", \"music\", \"natural\", \"natural\", \"natural\", \"natural\", \"natural\", \"natural\", \"navigate\", \"navigate\", \"navigate\", \"navigate\", \"navigate\", \"navigate\", \"need\", \"need\", \"need\", \"need\", \"need\", \"netflix\", \"netflix\", \"netflix\", \"netflix\", \"netflix\", \"netflix\", \"network\", \"network\", \"network\", \"network\", \"network\", \"new\", \"new\", \"new\", \"new\", \"new\", \"news\", \"news\", \"news\", \"news\", \"news\", \"next\", \"next\", \"next\", \"next\", \"next\", \"nexus\", \"nexus\", \"nexus\", \"nexus\", \"nexus\", \"nice\", \"nice\", \"nice\", \"nice\", \"nice\", \"nice\", \"night\", \"night\", \"night\", \"night\", \"night\", \"nook\", \"nook\", \"nook\", \"nook\", \"oasis\", \"oasis\", \"oasis\", \"oasis\", \"old\", \"old\", \"old\", \"old\", \"old\", \"online\", \"online\", \"online\", \"online\", \"online\", \"online\", \"owner\", \"owner\", \"owner\", \"owner\", \"owner\", \"page\", \"page\", \"page\", \"page\", \"page\", \"pair\", \"pair\", \"pair\", \"pair\", \"pair\", \"pair\", \"paper\", \"paper\", \"paper\", \"paper\", \"paperwhite\", \"paperwhite\", \"paperwhite\", \"paperwhite\", \"paperwhite\", \"parent\", \"parent\", \"parent\", \"parent\", \"parent\", \"parental\", \"parental\", \"parental\", \"parental\", \"parental\", \"people\", \"people\", \"people\", \"people\", \"people\", \"perfect\", \"perfect\", \"perfect\", \"perfect\", \"perfect\", \"phone\", \"phone\", \"phone\", \"phone\", \"phone\", \"phooey\", \"phooey\", \"phooey\", \"phooey\", \"phooey\", \"photo\", \"photo\", \"photo\", \"photo\", \"photo\", \"photo\", \"play\", \"play\", \"play\", \"play\", \"play\", \"play\", \"pleased\", \"pleased\", \"pleased\", \"pleased\", \"pleased\", \"plenty\", \"plenty\", \"plenty\", \"plenty\", \"plenty\", \"portable\", \"portable\", \"portable\", \"portable\", \"portable\", \"pre\", \"pre\", \"pre\", \"pre\", \"pre\", \"pre\", \"price\", \"price\", \"price\", \"price\", \"price\", \"prime\", \"prime\", \"prime\", \"prime\", \"prime\", \"prime\", \"problem\", \"problem\", \"problem\", \"problem\", \"problem\", \"problem\", \"product\", \"product\", \"product\", \"product\", \"product\", \"punch..\", \"punch..\", \"punch..\", \"punch..\", \"punch..\", \"purchased\", \"purchased\", \"purchased\", \"purchased\", \"purchased\", \"purchased\", \"purse\", \"purse\", \"purse\", \"purse\", \"purse\", \"quality\", \"quality\", \"quality\", \"quality\", \"quality\", \"question\", \"question\", \"question\", \"question\", \"question\", \"quick\", \"quick\", \"quick\", \"quick\", \"quick\", \"quick\", \"read\", \"read\", \"read\", \"read\", \"read\", \"reader\", \"reader\", \"reader\", \"reader\", \"reader\", \"reading\", \"reading\", \"reading\", \"reading\", \"reading\", \"reading\", \"recipe\", \"recipe\", \"recipe\", \"recipe\", \"recipe\", \"recipient\", \"recipient\", \"recipient\", \"recipient\", \"recipient\", \"recipient\", \"recognition\", \"recognition\", \"recognition\", \"recognition\", \"recognition\", \"right\", \"right\", \"right\", \"right\", \"right\", \"right\", \"room\", \"room\", \"room\", \"room\", \"room\", \"s2\", \"s2\", \"s2\", \"s2\", \"s2\", \"sale\", \"sale\", \"sale\", \"sale\", \"sale\", \"satisfied\", \"satisfied\", \"satisfied\", \"satisfied\", \"satisfied\", \"saver\", \"saver\", \"saver\", \"saver\", \"saver\", \"savvy\", \"savvy\", \"savvy\", \"savvy\", \"savvy\", \"savvy\", \"screen\", \"screen\", \"screen\", \"screen\", \"screen\", \"screen\", \"screen\", \"screenlike\", \"screenlike\", \"screenlike\", \"screenlike\", \"screenlike\", \"sd\", \"sd\", \"sd\", \"sd\", \"sd\", \"sd\", \"security\", \"security\", \"security\", \"security\", \"security\", \"senior\", \"senior\", \"senior\", \"senior\", \"senior\", \"service\", \"service\", \"service\", \"service\", \"service\", \"setup\", \"setup\", \"setup\", \"setup\", \"setup\", \"setup\", \"show\", \"show\", \"show\", \"show\", \"show\", \"shy\", \"shy\", \"shy\", \"shy\", \"shy\", \"siri\", \"siri\", \"siri\", \"siri\", \"siri\", \"sister\", \"sister\", \"sister\", \"sister\", \"sister\", \"sister\", \"size\", \"size\", \"size\", \"size\", \"size\", \"size\", \"slot\", \"slot\", \"slot\", \"slot\", \"slot\", \"small\", \"small\", \"small\", \"small\", \"small\", \"smart\", \"smart\", \"smart\", \"smart\", \"smart\", \"son\", \"son\", \"son\", \"son\", \"son\", \"song\", \"song\", \"song\", \"song\", \"song\", \"sound\", \"sound\", \"sound\", \"sound\", \"sound\", \"speaker\", \"speaker\", \"speaker\", \"speaker\", \"speaker\", \"speaker\", \"speed\", \"speed\", \"speed\", \"speed\", \"speed\", \"spouse\", \"spouse\", \"spouse\", \"spouse\", \"spouse\", \"spouse\", \"squad\", \"squad\", \"squad\", \"squad\", \"squad\", \"squad\", \"squad\", \"stair\", \"stair\", \"stair\", \"stair\", \"stair\", \"stand/cover\", \"stand/cover\", \"stand/cover\", \"stand/cover\", \"stand/cover\", \"steal\", \"steal\", \"steal\", \"steal\", \"steal\", \"steal\", \"storage\", \"storage\", \"storage\", \"storage\", \"storage\", \"storage\", \"store\", \"store\", \"store\", \"store\", \"store\", \"stream\", \"stream\", \"stream\", \"stream\", \"stream\", \"stream\", \"subscription\", \"subscription\", \"subscription\", \"subscription\", \"subscription\", \"sun\", \"sun\", \"sun\", \"sun\", \"sun\", \"sunlight\", \"sunlight\", \"sunlight\", \"sunlight\", \"sweet\", \"sweet\", \"sweet\", \"sweet\", \"sweet\", \"sweet\", \"swipe\", \"swipe\", \"swipe\", \"swipe\", \"swipe\", \"tab\", \"tab\", \"tab\", \"tab\", \"tab\", \"tab\", \"tablet\", \"tablet\", \"tablet\", \"tablet\", \"tablet\", \"tablet\", \"tag\", \"tag\", \"tag\", \"tag\", \"talk\", \"talk\", \"talk\", \"talk\", \"talk\", \"tap\", \"tap\", \"tap\", \"tap\", \"tap\", \"tech\", \"tech\", \"tech\", \"tech\", \"tech\", \"tech\", \"teenager\", \"teenager\", \"teenager\", \"teenager\", \"teenager\", \"text\", \"text\", \"text\", \"text\", \"text\", \"text\", \"thing\", \"thing\", \"thing\", \"thing\", \"thing\", \"thing\", \"thing\", \"third\", \"third\", \"third\", \"third\", \"third\", \"thought\", \"thought\", \"thought\", \"thought\", \"thought\", \"thought\", \"time\", \"time\", \"time\", \"time\", \"time\", \"time\", \"timer\", \"timer\", \"timer\", \"timer\", \"timer\", \"toddler\", \"toddler\", \"toddler\", \"toddler\", \"toddler\", \"transfer\", \"transfer\", \"transfer\", \"transfer\", \"transfer\", \"upgrade\", \"upgrade\", \"upgrade\", \"upgrade\", \"upgrade\", \"use\", \"use\", \"use\", \"use\", \"use\", \"use\", \"use\", \"useful\", \"useful\", \"useful\", \"useful\", \"useful\", \"useful\", \"version\", \"version\", \"version\", \"version\", \"version\", \"vibrant\", \"vibrant\", \"vibrant\", \"vibrant\", \"vibrant\", \"vibrant\", \"video\", \"video\", \"video\", \"video\", \"video\", \"voice\", \"voice\", \"voice\", \"voice\", \"voice\", \"volume\", \"volume\", \"volume\", \"volume\", \"volume\", \"voyage\", \"voyage\", \"voyage\", \"voyage\", \"warranty\", \"warranty\", \"warranty\", \"warranty\", \"warranty\", \"watch\", \"watch\", \"watch\", \"watch\", \"watch\", \"weather\", \"weather\", \"weather\", \"weather\", \"weather\", \"week\", \"week\", \"week\", \"week\", \"week\", \"weight\", \"weight\", \"weight\", \"weight\", \"weight\", \"well.this\", \"well.this\", \"well.this\", \"well.this\", \"well.this\", \"white\", \"white\", \"white\", \"white\", \"white\", \"whole\", \"whole\", \"whole\", \"whole\", \"whole\", \"whole\", \"wifi\", \"wifi\", \"wifi\", \"wifi\", \"wifi\", \"work\", \"work\", \"work\", \"work\", \"work\", \"year\", \"year\", \"year\", \"year\", \"year\", \"young\", \"young\", \"young\", \"young\", \"young\", \"youtube\", \"youtube\", \"youtube\", \"youtube\", \"youtube\", \"youtube\", \"yr\", \"yr\", \"yr\", \"yr\", \"yr\"]}, \"R\": 30, \"lambda.step\": 0.01, \"plot.opts\": {\"xlab\": \"PC1\", \"ylab\": \"PC2\"}, \"topic.order\": [4, 3, 7, 5, 2, 1, 6]};\n",
       "\n",
       "function LDAvis_load_lib(url, callback){\n",
       "  var s = document.createElement('script');\n",
       "  s.src = url;\n",
       "  s.async = true;\n",
       "  s.onreadystatechange = s.onload = callback;\n",
       "  s.onerror = function(){console.warn(\"failed to load library \" + url);};\n",
       "  document.getElementsByTagName(\"head\")[0].appendChild(s);\n",
       "}\n",
       "\n",
       "if(typeof(LDAvis) !== \"undefined\"){\n",
       "   // already loaded: just create the visualization\n",
       "   !function(LDAvis){\n",
       "       new LDAvis(\"#\" + \"ldavis_el3380829515342669527945934987\", ldavis_el3380829515342669527945934987_data);\n",
       "   }(LDAvis);\n",
       "}else if(typeof define === \"function\" && define.amd){\n",
       "   // require.js is available: use it to load d3/LDAvis\n",
       "   require.config({paths: {d3: \"https://cdnjs.cloudflare.com/ajax/libs/d3/3.5.5/d3.min\"}});\n",
       "   require([\"d3\"], function(d3){\n",
       "      window.d3 = d3;\n",
       "      LDAvis_load_lib(\"https://cdn.rawgit.com/bmabey/pyLDAvis/files/ldavis.v1.0.0.js\", function(){\n",
       "        new LDAvis(\"#\" + \"ldavis_el3380829515342669527945934987\", ldavis_el3380829515342669527945934987_data);\n",
       "      });\n",
       "    });\n",
       "}else{\n",
       "    // require.js not available: dynamically load d3 & LDAvis\n",
       "    LDAvis_load_lib(\"https://cdnjs.cloudflare.com/ajax/libs/d3/3.5.5/d3.min.js\", function(){\n",
       "         LDAvis_load_lib(\"https://cdn.rawgit.com/bmabey/pyLDAvis/files/ldavis.v1.0.0.js\", function(){\n",
       "                 new LDAvis(\"#\" + \"ldavis_el3380829515342669527945934987\", ldavis_el3380829515342669527945934987_data);\n",
       "            })\n",
       "         });\n",
       "}\n",
       "</script>"
      ],
      "text/plain": [
       "PreparedData(topic_coordinates=              x         y  topics  cluster       Freq\n",
       "topic                                                \n",
       "3     -0.190422  0.057301       1        1  31.551426\n",
       "2     -0.055965 -0.141186       2        1  23.711569\n",
       "6     -0.033422  0.045736       3        1  16.301682\n",
       "4      0.037463  0.083816       4        1  13.258450\n",
       "1      0.027185 -0.078588       5        1   8.192840\n",
       "0      0.110175  0.015137       6        1   3.560501\n",
       "5      0.104985  0.017785       7        1   3.423528, topic_info=       Term         Freq        Total Category  logprob  loglift\n",
       "23   tablet  1026.000000  1026.000000  Default  30.0000  30.0000\n",
       "165    work   323.000000   323.000000  Default  29.0000  29.0000\n",
       "35     echo   434.000000   434.000000  Default  28.0000  28.0000\n",
       "86     book   313.000000   313.000000  Default  27.0000  27.0000\n",
       "12    great  1143.000000  1143.000000  Default  26.0000  26.0000\n",
       "..      ...          ...          ...      ...      ...      ...\n",
       "67    thing     2.555932   230.011276   Topic7  -6.5508  -1.1252\n",
       "65   screen     2.605432   356.555206   Topic7  -6.5317  -1.5444\n",
       "154    easy     2.315232   598.971924   Topic7  -6.6497  -2.1812\n",
       "711    inch     2.006436    19.134764   Topic7  -6.7929   1.1194\n",
       "68     good     2.044923   475.729065   Topic7  -6.7739  -2.0750\n",
       "\n",
       "[403 rows x 6 columns], token_table=      Topic      Freq   Term\n",
       "term                        \n",
       "2278      1  0.184544  .easy\n",
       "2278      2  0.184544  .easy\n",
       "2278      3  0.184544  .easy\n",
       "2278      4  0.184544  .easy\n",
       "2278      5  0.184544  .easy\n",
       "...     ...       ...    ...\n",
       "405       1  0.882992     yr\n",
       "405       2  0.038391     yr\n",
       "405       3  0.038391     yr\n",
       "405       4  0.038391     yr\n",
       "405       5  0.038391     yr\n",
       "\n",
       "[1656 rows x 3 columns], R=30, lambda_step=0.01, plot_opts={'xlab': 'PC1', 'ylab': 'PC2'}, topic_order=[4, 3, 7, 5, 2, 1, 6])"
      ]
     },
     "execution_count": 102,
     "metadata": {},
     "output_type": "execute_result"
    }
   ],
   "source": [
    "import pyLDAvis.gensim\n",
    "import pickle \n",
    "import pyLDAvis\n",
    "# Visualize the topics\n",
    "pyLDAvis.enable_notebook()\n",
    "LDAvis_prepared = pyLDAvis.gensim.prepare(lda_model, corpus_sets[0], dictionary)\n",
    "LDAvis_prepared"
   ]
  },
  {
   "cell_type": "code",
   "execution_count": 303,
   "metadata": {},
   "outputs": [
    {
     "name": "stdout",
     "output_type": "stream",
     "text": [
      "\n",
      "Coherence Score:  0.4478553981780152\n"
     ]
    }
   ],
   "source": [
    "# Compute Coherence Score using c_v\n",
    "from gensim.models.coherencemodel import CoherenceModel\n",
    "coherence_model_lda = CoherenceModel(model=lda_model, texts=extractedData, dictionary=dictionary, coherence='c_v')\n",
    "coherence_lda = coherence_model_lda.get_coherence()\n",
    "print('\\nCoherence Score: ', coherence_lda)"
   ]
  },
  {
   "cell_type": "markdown",
   "metadata": {},
   "source": [
    "#### Observation:\n",
    "\n",
    "**Summary of Top Topics**\n",
    "\n",
    "| Topic No. | Topic Name | Topic Description | Top Words |\n",
    "| :--- | :---: | :---: | :---: |\n",
    "| 1 | Buying Product as a Gift | Purchasing Tablet. Its a great  gift to a child during christmas | Tablet,Easy to Use, Great for Kids |\n",
    "| 2 | Product Review | This is about product review on Amazon Alexa | Alexa, Echo, Music, Sound, Great  |\n",
    "| 3  |Product Features | there are talks about Tablet screen , battery life,Prime movie | Tablet,Screen, Battery,Prime,Movie |\n",
    "| 4 | Amazon Book Review | Amazon Book Review | Book, Read, Light, Easy, Reader |\n",
    "| 5 | Product and Customer Service Experience | Product and Customer Service Experience on Echo,Camera | Great, Product, Device |\n",
    "\n",
    "\n",
    "\n",
    "---\n",
    "\n"
   ]
  },
  {
   "cell_type": "markdown",
   "metadata": {},
   "source": []
  }
 ],
 "metadata": {
  "kernelspec": {
   "display_name": "Python 3",
   "language": "python",
   "name": "python3"
  },
  "language_info": {
   "codemirror_mode": {
    "name": "ipython",
    "version": 3
   },
   "file_extension": ".py",
   "mimetype": "text/x-python",
   "name": "python",
   "nbconvert_exporter": "python",
   "pygments_lexer": "ipython3",
   "version": "3.7.6"
  }
 },
 "nbformat": 4,
 "nbformat_minor": 4
}
